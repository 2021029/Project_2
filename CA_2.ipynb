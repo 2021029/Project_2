{
 "cells": [
  {
   "cell_type": "code",
   "execution_count": 38,
   "id": "d9507f2a",
   "metadata": {},
   "outputs": [],
   "source": [
    "import pandas as pd\n",
    "import numpy as np\n",
    "import seaborn as sns\n",
    "import matplotlib.pyplot as plt\n",
    "import plotly.express as px\n",
    "%matplotlib inline\n",
    "import warnings\n",
    "warnings.filterwarnings('ignore')"
   ]
  },
  {
   "cell_type": "code",
   "execution_count": 39,
   "id": "32bb53be",
   "metadata": {},
   "outputs": [],
   "source": [
    "wage = pd.read_excel('C:/Users/joyce/Downloads/sts_colb_q_page_spreadsheet.xlsx', sheet_name = 'Sheet 1', skiprows = 10)\n",
    "#display(wage)"
   ]
  },
  {
   "cell_type": "code",
   "execution_count": 40,
   "id": "98d726e4",
   "metadata": {},
   "outputs": [],
   "source": [
    "residencial = pd.read_excel('C:/Users/joyce/Downloads/tipsna50_page_spreadsheet.xlsx', sheet_name = 'Sheet 1', skiprows = 10)\n",
    "#display(wage)"
   ]
  },
  {
   "cell_type": "code",
   "execution_count": 41,
   "id": "2fd2224e",
   "metadata": {},
   "outputs": [
    {
     "data": {
      "text/html": [
       "<div>\n",
       "<style scoped>\n",
       "    .dataframe tbody tr th:only-of-type {\n",
       "        vertical-align: middle;\n",
       "    }\n",
       "\n",
       "    .dataframe tbody tr th {\n",
       "        vertical-align: top;\n",
       "    }\n",
       "\n",
       "    .dataframe thead th {\n",
       "        text-align: right;\n",
       "    }\n",
       "</style>\n",
       "<table border=\"1\" class=\"dataframe\">\n",
       "  <thead>\n",
       "    <tr style=\"text-align: right;\">\n",
       "      <th></th>\n",
       "      <th>TIME</th>\n",
       "      <th>2020-Q4</th>\n",
       "      <th>Unnamed: 2</th>\n",
       "      <th>2021-Q1</th>\n",
       "      <th>Unnamed: 4</th>\n",
       "      <th>2021-Q2</th>\n",
       "      <th>Unnamed: 6</th>\n",
       "      <th>2021-Q3</th>\n",
       "      <th>Unnamed: 8</th>\n",
       "      <th>2021-Q4</th>\n",
       "      <th>...</th>\n",
       "      <th>2022-Q1</th>\n",
       "      <th>Unnamed: 12</th>\n",
       "      <th>2022-Q2</th>\n",
       "      <th>Unnamed: 14</th>\n",
       "      <th>2022-Q3</th>\n",
       "      <th>Unnamed: 16</th>\n",
       "      <th>2022-Q4</th>\n",
       "      <th>Unnamed: 18</th>\n",
       "      <th>2023-Q1</th>\n",
       "      <th>Unnamed: 20</th>\n",
       "    </tr>\n",
       "  </thead>\n",
       "  <tbody>\n",
       "    <tr>\n",
       "      <th>0</th>\n",
       "      <td>GEO (Labels)</td>\n",
       "      <td>NaN</td>\n",
       "      <td>NaN</td>\n",
       "      <td>NaN</td>\n",
       "      <td>NaN</td>\n",
       "      <td>NaN</td>\n",
       "      <td>NaN</td>\n",
       "      <td>NaN</td>\n",
       "      <td>NaN</td>\n",
       "      <td>NaN</td>\n",
       "      <td>...</td>\n",
       "      <td>NaN</td>\n",
       "      <td>NaN</td>\n",
       "      <td>NaN</td>\n",
       "      <td>NaN</td>\n",
       "      <td>NaN</td>\n",
       "      <td>NaN</td>\n",
       "      <td>NaN</td>\n",
       "      <td>NaN</td>\n",
       "      <td>NaN</td>\n",
       "      <td>NaN</td>\n",
       "    </tr>\n",
       "    <tr>\n",
       "      <th>1</th>\n",
       "      <td>European Union - 27 countries (from 2020)</td>\n",
       "      <td>133.8</td>\n",
       "      <td>NaN</td>\n",
       "      <td>119.6</td>\n",
       "      <td>NaN</td>\n",
       "      <td>131.4</td>\n",
       "      <td>NaN</td>\n",
       "      <td>126.6</td>\n",
       "      <td>NaN</td>\n",
       "      <td>141.9</td>\n",
       "      <td>...</td>\n",
       "      <td>130</td>\n",
       "      <td>NaN</td>\n",
       "      <td>142.7</td>\n",
       "      <td>NaN</td>\n",
       "      <td>136.5</td>\n",
       "      <td>NaN</td>\n",
       "      <td>151.1</td>\n",
       "      <td>NaN</td>\n",
       "      <td>:</td>\n",
       "      <td>NaN</td>\n",
       "    </tr>\n",
       "    <tr>\n",
       "      <th>2</th>\n",
       "      <td>European Union - 28 countries (2013-2020)</td>\n",
       "      <td>:</td>\n",
       "      <td>NaN</td>\n",
       "      <td>:</td>\n",
       "      <td>NaN</td>\n",
       "      <td>:</td>\n",
       "      <td>NaN</td>\n",
       "      <td>:</td>\n",
       "      <td>NaN</td>\n",
       "      <td>:</td>\n",
       "      <td>...</td>\n",
       "      <td>:</td>\n",
       "      <td>NaN</td>\n",
       "      <td>:</td>\n",
       "      <td>NaN</td>\n",
       "      <td>:</td>\n",
       "      <td>NaN</td>\n",
       "      <td>:</td>\n",
       "      <td>NaN</td>\n",
       "      <td>:</td>\n",
       "      <td>NaN</td>\n",
       "    </tr>\n",
       "    <tr>\n",
       "      <th>3</th>\n",
       "      <td>Euro area – 20 countries (from 2023)</td>\n",
       "      <td>130</td>\n",
       "      <td>NaN</td>\n",
       "      <td>115.4</td>\n",
       "      <td>NaN</td>\n",
       "      <td>127.6</td>\n",
       "      <td>NaN</td>\n",
       "      <td>122.9</td>\n",
       "      <td>NaN</td>\n",
       "      <td>137.4</td>\n",
       "      <td>...</td>\n",
       "      <td>124.9</td>\n",
       "      <td>NaN</td>\n",
       "      <td>137.5</td>\n",
       "      <td>NaN</td>\n",
       "      <td>131.4</td>\n",
       "      <td>NaN</td>\n",
       "      <td>145.1</td>\n",
       "      <td>NaN</td>\n",
       "      <td>:</td>\n",
       "      <td>NaN</td>\n",
       "    </tr>\n",
       "    <tr>\n",
       "      <th>4</th>\n",
       "      <td>Euro area - 19 countries  (2015-2022)</td>\n",
       "      <td>130</td>\n",
       "      <td>NaN</td>\n",
       "      <td>115.4</td>\n",
       "      <td>NaN</td>\n",
       "      <td>127.6</td>\n",
       "      <td>NaN</td>\n",
       "      <td>122.9</td>\n",
       "      <td>NaN</td>\n",
       "      <td>137.5</td>\n",
       "      <td>...</td>\n",
       "      <td>124.9</td>\n",
       "      <td>NaN</td>\n",
       "      <td>137.5</td>\n",
       "      <td>NaN</td>\n",
       "      <td>131.3</td>\n",
       "      <td>NaN</td>\n",
       "      <td>145.1</td>\n",
       "      <td>NaN</td>\n",
       "      <td>:</td>\n",
       "      <td>NaN</td>\n",
       "    </tr>\n",
       "    <tr>\n",
       "      <th>5</th>\n",
       "      <td>Belgium</td>\n",
       "      <td>120.9</td>\n",
       "      <td>NaN</td>\n",
       "      <td>112.8</td>\n",
       "      <td>NaN</td>\n",
       "      <td>127.3</td>\n",
       "      <td>NaN</td>\n",
       "      <td>105.6</td>\n",
       "      <td>NaN</td>\n",
       "      <td>126.2</td>\n",
       "      <td>...</td>\n",
       "      <td>122.2</td>\n",
       "      <td>p</td>\n",
       "      <td>137.8</td>\n",
       "      <td>p</td>\n",
       "      <td>115.3</td>\n",
       "      <td>p</td>\n",
       "      <td>138.8</td>\n",
       "      <td>p</td>\n",
       "      <td>:</td>\n",
       "      <td>NaN</td>\n",
       "    </tr>\n",
       "    <tr>\n",
       "      <th>6</th>\n",
       "      <td>Bulgaria</td>\n",
       "      <td>159.2</td>\n",
       "      <td>NaN</td>\n",
       "      <td>131</td>\n",
       "      <td>p</td>\n",
       "      <td>142.4</td>\n",
       "      <td>p</td>\n",
       "      <td>144.5</td>\n",
       "      <td>p</td>\n",
       "      <td>153.4</td>\n",
       "      <td>...</td>\n",
       "      <td>139.4</td>\n",
       "      <td>p</td>\n",
       "      <td>150.5</td>\n",
       "      <td>p</td>\n",
       "      <td>154.6</td>\n",
       "      <td>p</td>\n",
       "      <td>162.5</td>\n",
       "      <td>p</td>\n",
       "      <td>:</td>\n",
       "      <td>NaN</td>\n",
       "    </tr>\n",
       "    <tr>\n",
       "      <th>7</th>\n",
       "      <td>Czechia</td>\n",
       "      <td>143</td>\n",
       "      <td>NaN</td>\n",
       "      <td>119.5</td>\n",
       "      <td>NaN</td>\n",
       "      <td>134.7</td>\n",
       "      <td>NaN</td>\n",
       "      <td>138.4</td>\n",
       "      <td>NaN</td>\n",
       "      <td>145.3</td>\n",
       "      <td>...</td>\n",
       "      <td>129.3</td>\n",
       "      <td>NaN</td>\n",
       "      <td>146.5</td>\n",
       "      <td>NaN</td>\n",
       "      <td>150.4</td>\n",
       "      <td>NaN</td>\n",
       "      <td>158.3</td>\n",
       "      <td>NaN</td>\n",
       "      <td>:</td>\n",
       "      <td>NaN</td>\n",
       "    </tr>\n",
       "    <tr>\n",
       "      <th>8</th>\n",
       "      <td>Denmark</td>\n",
       "      <td>156.2</td>\n",
       "      <td>NaN</td>\n",
       "      <td>133.7</td>\n",
       "      <td>NaN</td>\n",
       "      <td>145.4</td>\n",
       "      <td>NaN</td>\n",
       "      <td>135.5</td>\n",
       "      <td>NaN</td>\n",
       "      <td>169.4</td>\n",
       "      <td>...</td>\n",
       "      <td>145.7</td>\n",
       "      <td>p</td>\n",
       "      <td>155.1</td>\n",
       "      <td>p</td>\n",
       "      <td>144.9</td>\n",
       "      <td>p</td>\n",
       "      <td>180.6</td>\n",
       "      <td>p</td>\n",
       "      <td>:</td>\n",
       "      <td>NaN</td>\n",
       "    </tr>\n",
       "    <tr>\n",
       "      <th>9</th>\n",
       "      <td>Germany (until 1990 former territory of the FRG)</td>\n",
       "      <td>133.9</td>\n",
       "      <td>NaN</td>\n",
       "      <td>115.9</td>\n",
       "      <td>NaN</td>\n",
       "      <td>129.9</td>\n",
       "      <td>NaN</td>\n",
       "      <td>131</td>\n",
       "      <td>NaN</td>\n",
       "      <td>139.5</td>\n",
       "      <td>...</td>\n",
       "      <td>123.3</td>\n",
       "      <td>NaN</td>\n",
       "      <td>136.5</td>\n",
       "      <td>p</td>\n",
       "      <td>138.2</td>\n",
       "      <td>p</td>\n",
       "      <td>144.4</td>\n",
       "      <td>p</td>\n",
       "      <td>:</td>\n",
       "      <td>NaN</td>\n",
       "    </tr>\n",
       "  </tbody>\n",
       "</table>\n",
       "<p>10 rows × 21 columns</p>\n",
       "</div>"
      ],
      "text/plain": [
       "                                               TIME 2020-Q4 Unnamed: 2  \\\n",
       "0                                      GEO (Labels)     NaN        NaN   \n",
       "1         European Union - 27 countries (from 2020)   133.8        NaN   \n",
       "2         European Union - 28 countries (2013-2020)       :        NaN   \n",
       "3              Euro area – 20 countries (from 2023)     130        NaN   \n",
       "4             Euro area - 19 countries  (2015-2022)     130        NaN   \n",
       "5                                           Belgium   120.9        NaN   \n",
       "6                                          Bulgaria   159.2        NaN   \n",
       "7                                           Czechia     143        NaN   \n",
       "8                                           Denmark   156.2        NaN   \n",
       "9  Germany (until 1990 former territory of the FRG)   133.9        NaN   \n",
       "\n",
       "  2021-Q1 Unnamed: 4 2021-Q2 Unnamed: 6 2021-Q3 Unnamed: 8 2021-Q4  ...  \\\n",
       "0     NaN        NaN     NaN        NaN     NaN        NaN     NaN  ...   \n",
       "1   119.6        NaN   131.4        NaN   126.6        NaN   141.9  ...   \n",
       "2       :        NaN       :        NaN       :        NaN       :  ...   \n",
       "3   115.4        NaN   127.6        NaN   122.9        NaN   137.4  ...   \n",
       "4   115.4        NaN   127.6        NaN   122.9        NaN   137.5  ...   \n",
       "5   112.8        NaN   127.3        NaN   105.6        NaN   126.2  ...   \n",
       "6     131          p   142.4          p   144.5          p   153.4  ...   \n",
       "7   119.5        NaN   134.7        NaN   138.4        NaN   145.3  ...   \n",
       "8   133.7        NaN   145.4        NaN   135.5        NaN   169.4  ...   \n",
       "9   115.9        NaN   129.9        NaN     131        NaN   139.5  ...   \n",
       "\n",
       "  2022-Q1 Unnamed: 12 2022-Q2 Unnamed: 14 2022-Q3 Unnamed: 16 2022-Q4  \\\n",
       "0     NaN         NaN     NaN         NaN     NaN         NaN     NaN   \n",
       "1     130         NaN   142.7         NaN   136.5         NaN   151.1   \n",
       "2       :         NaN       :         NaN       :         NaN       :   \n",
       "3   124.9         NaN   137.5         NaN   131.4         NaN   145.1   \n",
       "4   124.9         NaN   137.5         NaN   131.3         NaN   145.1   \n",
       "5   122.2           p   137.8           p   115.3           p   138.8   \n",
       "6   139.4           p   150.5           p   154.6           p   162.5   \n",
       "7   129.3         NaN   146.5         NaN   150.4         NaN   158.3   \n",
       "8   145.7           p   155.1           p   144.9           p   180.6   \n",
       "9   123.3         NaN   136.5           p   138.2           p   144.4   \n",
       "\n",
       "  Unnamed: 18 2023-Q1 Unnamed: 20  \n",
       "0         NaN     NaN         NaN  \n",
       "1         NaN       :         NaN  \n",
       "2         NaN       :         NaN  \n",
       "3         NaN       :         NaN  \n",
       "4         NaN       :         NaN  \n",
       "5           p       :         NaN  \n",
       "6           p       :         NaN  \n",
       "7         NaN       :         NaN  \n",
       "8           p       :         NaN  \n",
       "9           p       :         NaN  \n",
       "\n",
       "[10 rows x 21 columns]"
      ]
     },
     "execution_count": 41,
     "metadata": {},
     "output_type": "execute_result"
    }
   ],
   "source": [
    "wage.head(10)"
   ]
  },
  {
   "cell_type": "code",
   "execution_count": 42,
   "id": "3679c7d7",
   "metadata": {},
   "outputs": [
    {
     "data": {
      "text/html": [
       "<div>\n",
       "<style scoped>\n",
       "    .dataframe tbody tr th:only-of-type {\n",
       "        vertical-align: middle;\n",
       "    }\n",
       "\n",
       "    .dataframe tbody tr th {\n",
       "        vertical-align: top;\n",
       "    }\n",
       "\n",
       "    .dataframe thead th {\n",
       "        text-align: right;\n",
       "    }\n",
       "</style>\n",
       "<table border=\"1\" class=\"dataframe\">\n",
       "  <thead>\n",
       "    <tr style=\"text-align: right;\">\n",
       "      <th></th>\n",
       "      <th>Belgium</th>\n",
       "      <th>5.9</th>\n",
       "      <th>Unnamed: 2</th>\n",
       "      <th>5.4</th>\n",
       "      <th>Unnamed: 4</th>\n",
       "      <th>5.6</th>\n",
       "      <th>Unnamed: 6</th>\n",
       "      <th>5.2</th>\n",
       "      <th>Unnamed: 8</th>\n",
       "      <th>5.3</th>\n",
       "      <th>...</th>\n",
       "      <th>5.9.3</th>\n",
       "      <th>Unnamed: 48</th>\n",
       "      <th>6.1.2</th>\n",
       "      <th>Unnamed: 50</th>\n",
       "      <th>6.1.3</th>\n",
       "      <th>p</th>\n",
       "      <th>6.3.1</th>\n",
       "      <th>p.1</th>\n",
       "      <th>6.3.2</th>\n",
       "      <th>p.2</th>\n",
       "    </tr>\n",
       "  </thead>\n",
       "  <tbody>\n",
       "    <tr>\n",
       "      <th>0</th>\n",
       "      <td>Bulgaria</td>\n",
       "      <td>1.4</td>\n",
       "      <td>NaN</td>\n",
       "      <td>0.4</td>\n",
       "      <td>NaN</td>\n",
       "      <td>0.8</td>\n",
       "      <td>NaN</td>\n",
       "      <td>1.2</td>\n",
       "      <td>NaN</td>\n",
       "      <td>1.5</td>\n",
       "      <td>...</td>\n",
       "      <td>2.7</td>\n",
       "      <td>NaN</td>\n",
       "      <td>2.8</td>\n",
       "      <td>NaN</td>\n",
       "      <td>2.9</td>\n",
       "      <td>NaN</td>\n",
       "      <td>2.8</td>\n",
       "      <td>NaN</td>\n",
       "      <td>2.5</td>\n",
       "      <td>p</td>\n",
       "    </tr>\n",
       "    <tr>\n",
       "      <th>1</th>\n",
       "      <td>Czechia</td>\n",
       "      <td>3.2</td>\n",
       "      <td>NaN</td>\n",
       "      <td>3.6</td>\n",
       "      <td>NaN</td>\n",
       "      <td>3.8</td>\n",
       "      <td>NaN</td>\n",
       "      <td>4.2</td>\n",
       "      <td>NaN</td>\n",
       "      <td>4.2</td>\n",
       "      <td>...</td>\n",
       "      <td>4.3</td>\n",
       "      <td>NaN</td>\n",
       "      <td>4.4</td>\n",
       "      <td>NaN</td>\n",
       "      <td>4.6</td>\n",
       "      <td>NaN</td>\n",
       "      <td>4.7</td>\n",
       "      <td>NaN</td>\n",
       "      <td>4.8</td>\n",
       "      <td>NaN</td>\n",
       "    </tr>\n",
       "    <tr>\n",
       "      <th>2</th>\n",
       "      <td>Denmark</td>\n",
       "      <td>3.8</td>\n",
       "      <td>NaN</td>\n",
       "      <td>3.9</td>\n",
       "      <td>NaN</td>\n",
       "      <td>4.2</td>\n",
       "      <td>NaN</td>\n",
       "      <td>4.2</td>\n",
       "      <td>NaN</td>\n",
       "      <td>4.3</td>\n",
       "      <td>...</td>\n",
       "      <td>4.8</td>\n",
       "      <td>NaN</td>\n",
       "      <td>5.2</td>\n",
       "      <td>NaN</td>\n",
       "      <td>5.7</td>\n",
       "      <td>NaN</td>\n",
       "      <td>6.0</td>\n",
       "      <td>NaN</td>\n",
       "      <td>6.2</td>\n",
       "      <td>NaN</td>\n",
       "    </tr>\n",
       "    <tr>\n",
       "      <th>3</th>\n",
       "      <td>Germany (until 1990 former territory of the FRG)</td>\n",
       "      <td>7.6</td>\n",
       "      <td>NaN</td>\n",
       "      <td>7.5</td>\n",
       "      <td>NaN</td>\n",
       "      <td>7.3</td>\n",
       "      <td>NaN</td>\n",
       "      <td>7.2</td>\n",
       "      <td>NaN</td>\n",
       "      <td>7.1</td>\n",
       "      <td>...</td>\n",
       "      <td>6.3</td>\n",
       "      <td>NaN</td>\n",
       "      <td>6.4</td>\n",
       "      <td>p</td>\n",
       "      <td>7.0</td>\n",
       "      <td>p</td>\n",
       "      <td>7.2</td>\n",
       "      <td>p</td>\n",
       "      <td>7.6</td>\n",
       "      <td>p</td>\n",
       "    </tr>\n",
       "    <tr>\n",
       "      <th>4</th>\n",
       "      <td>Estonia</td>\n",
       "      <td>2.6</td>\n",
       "      <td>NaN</td>\n",
       "      <td>2.9</td>\n",
       "      <td>NaN</td>\n",
       "      <td>3.1</td>\n",
       "      <td>NaN</td>\n",
       "      <td>2.6</td>\n",
       "      <td>NaN</td>\n",
       "      <td>2.5</td>\n",
       "      <td>...</td>\n",
       "      <td>4.5</td>\n",
       "      <td>NaN</td>\n",
       "      <td>4.9</td>\n",
       "      <td>NaN</td>\n",
       "      <td>5.4</td>\n",
       "      <td>NaN</td>\n",
       "      <td>4.9</td>\n",
       "      <td>NaN</td>\n",
       "      <td>5.2</td>\n",
       "      <td>NaN</td>\n",
       "    </tr>\n",
       "  </tbody>\n",
       "</table>\n",
       "<p>5 rows × 57 columns</p>\n",
       "</div>"
      ],
      "text/plain": [
       "                                            Belgium  5.9  Unnamed: 2  5.4  \\\n",
       "0                                          Bulgaria  1.4         NaN  0.4   \n",
       "1                                           Czechia  3.2         NaN  3.6   \n",
       "2                                           Denmark  3.8         NaN  3.9   \n",
       "3  Germany (until 1990 former territory of the FRG)  7.6         NaN  7.5   \n",
       "4                                           Estonia  2.6         NaN  2.9   \n",
       "\n",
       "   Unnamed: 4  5.6  Unnamed: 6  5.2  Unnamed: 8  5.3  ...  5.9.3  Unnamed: 48  \\\n",
       "0         NaN  0.8         NaN  1.2         NaN  1.5  ...    2.7          NaN   \n",
       "1         NaN  3.8         NaN  4.2         NaN  4.2  ...    4.3          NaN   \n",
       "2         NaN  4.2         NaN  4.2         NaN  4.3  ...    4.8          NaN   \n",
       "3         NaN  7.3         NaN  7.2         NaN  7.1  ...    6.3          NaN   \n",
       "4         NaN  3.1         NaN  2.6         NaN  2.5  ...    4.5          NaN   \n",
       "\n",
       "   6.1.2  Unnamed: 50  6.1.3    p  6.3.1  p.1  6.3.2  p.2  \n",
       "0    2.8          NaN    2.9  NaN    2.8  NaN    2.5    p  \n",
       "1    4.4          NaN    4.6  NaN    4.7  NaN    4.8  NaN  \n",
       "2    5.2          NaN    5.7  NaN    6.0  NaN    6.2  NaN  \n",
       "3    6.4            p    7.0    p    7.2    p    7.6    p  \n",
       "4    4.9          NaN    5.4  NaN    4.9  NaN    5.2  NaN  \n",
       "\n",
       "[5 rows x 57 columns]"
      ]
     },
     "execution_count": 42,
     "metadata": {},
     "output_type": "execute_result"
    }
   ],
   "source": [
    "residencial.head()"
   ]
  },
  {
   "cell_type": "code",
   "execution_count": 43,
   "id": "45c810cd",
   "metadata": {},
   "outputs": [
    {
     "data": {
      "text/html": [
       "<div>\n",
       "<style scoped>\n",
       "    .dataframe tbody tr th:only-of-type {\n",
       "        vertical-align: middle;\n",
       "    }\n",
       "\n",
       "    .dataframe tbody tr th {\n",
       "        vertical-align: top;\n",
       "    }\n",
       "\n",
       "    .dataframe thead th {\n",
       "        text-align: right;\n",
       "    }\n",
       "</style>\n",
       "<table border=\"1\" class=\"dataframe\">\n",
       "  <thead>\n",
       "    <tr style=\"text-align: right;\">\n",
       "      <th></th>\n",
       "      <th>TIME</th>\n",
       "      <th>2020-Q4</th>\n",
       "      <th>Unnamed: 2</th>\n",
       "      <th>2021-Q1</th>\n",
       "      <th>Unnamed: 4</th>\n",
       "      <th>2021-Q2</th>\n",
       "      <th>Unnamed: 6</th>\n",
       "      <th>2021-Q3</th>\n",
       "      <th>Unnamed: 8</th>\n",
       "      <th>2021-Q4</th>\n",
       "      <th>...</th>\n",
       "      <th>2022-Q1</th>\n",
       "      <th>Unnamed: 12</th>\n",
       "      <th>2022-Q2</th>\n",
       "      <th>Unnamed: 14</th>\n",
       "      <th>2022-Q3</th>\n",
       "      <th>Unnamed: 16</th>\n",
       "      <th>2022-Q4</th>\n",
       "      <th>Unnamed: 18</th>\n",
       "      <th>2023-Q1</th>\n",
       "      <th>Unnamed: 20</th>\n",
       "    </tr>\n",
       "  </thead>\n",
       "  <tbody>\n",
       "    <tr>\n",
       "      <th>38</th>\n",
       "      <td>Albania</td>\n",
       "      <td>132.7</td>\n",
       "      <td>NaN</td>\n",
       "      <td>140</td>\n",
       "      <td>NaN</td>\n",
       "      <td>141.2</td>\n",
       "      <td>NaN</td>\n",
       "      <td>140.1</td>\n",
       "      <td>NaN</td>\n",
       "      <td>143.7</td>\n",
       "      <td>...</td>\n",
       "      <td>160.1</td>\n",
       "      <td>NaN</td>\n",
       "      <td>160.5</td>\n",
       "      <td>NaN</td>\n",
       "      <td>165.7</td>\n",
       "      <td>NaN</td>\n",
       "      <td>168.7</td>\n",
       "      <td>NaN</td>\n",
       "      <td>:</td>\n",
       "      <td>NaN</td>\n",
       "    </tr>\n",
       "    <tr>\n",
       "      <th>39</th>\n",
       "      <td>Serbia</td>\n",
       "      <td>132.8</td>\n",
       "      <td>NaN</td>\n",
       "      <td>131.8</td>\n",
       "      <td>NaN</td>\n",
       "      <td>135.8</td>\n",
       "      <td>NaN</td>\n",
       "      <td>137.4</td>\n",
       "      <td>NaN</td>\n",
       "      <td>150.9</td>\n",
       "      <td>...</td>\n",
       "      <td>147.2</td>\n",
       "      <td>NaN</td>\n",
       "      <td>152.7</td>\n",
       "      <td>NaN</td>\n",
       "      <td>155.1</td>\n",
       "      <td>NaN</td>\n",
       "      <td>170.2</td>\n",
       "      <td>NaN</td>\n",
       "      <td>:</td>\n",
       "      <td>NaN</td>\n",
       "    </tr>\n",
       "    <tr>\n",
       "      <th>40</th>\n",
       "      <td>Türkiye</td>\n",
       "      <td>187.5</td>\n",
       "      <td>NaN</td>\n",
       "      <td>199.8</td>\n",
       "      <td>NaN</td>\n",
       "      <td>225.3</td>\n",
       "      <td>NaN</td>\n",
       "      <td>244.5</td>\n",
       "      <td>NaN</td>\n",
       "      <td>261.2</td>\n",
       "      <td>...</td>\n",
       "      <td>303.7</td>\n",
       "      <td>NaN</td>\n",
       "      <td>343.7</td>\n",
       "      <td>NaN</td>\n",
       "      <td>464.7</td>\n",
       "      <td>NaN</td>\n",
       "      <td>513.9</td>\n",
       "      <td>NaN</td>\n",
       "      <td>:</td>\n",
       "      <td>NaN</td>\n",
       "    </tr>\n",
       "    <tr>\n",
       "      <th>41</th>\n",
       "      <td>NaN</td>\n",
       "      <td>NaN</td>\n",
       "      <td>NaN</td>\n",
       "      <td>NaN</td>\n",
       "      <td>NaN</td>\n",
       "      <td>NaN</td>\n",
       "      <td>NaN</td>\n",
       "      <td>NaN</td>\n",
       "      <td>NaN</td>\n",
       "      <td>NaN</td>\n",
       "      <td>...</td>\n",
       "      <td>NaN</td>\n",
       "      <td>NaN</td>\n",
       "      <td>NaN</td>\n",
       "      <td>NaN</td>\n",
       "      <td>NaN</td>\n",
       "      <td>NaN</td>\n",
       "      <td>NaN</td>\n",
       "      <td>NaN</td>\n",
       "      <td>NaN</td>\n",
       "      <td>NaN</td>\n",
       "    </tr>\n",
       "    <tr>\n",
       "      <th>42</th>\n",
       "      <td>Special value</td>\n",
       "      <td>NaN</td>\n",
       "      <td>NaN</td>\n",
       "      <td>NaN</td>\n",
       "      <td>NaN</td>\n",
       "      <td>NaN</td>\n",
       "      <td>NaN</td>\n",
       "      <td>NaN</td>\n",
       "      <td>NaN</td>\n",
       "      <td>NaN</td>\n",
       "      <td>...</td>\n",
       "      <td>NaN</td>\n",
       "      <td>NaN</td>\n",
       "      <td>NaN</td>\n",
       "      <td>NaN</td>\n",
       "      <td>NaN</td>\n",
       "      <td>NaN</td>\n",
       "      <td>NaN</td>\n",
       "      <td>NaN</td>\n",
       "      <td>NaN</td>\n",
       "      <td>NaN</td>\n",
       "    </tr>\n",
       "    <tr>\n",
       "      <th>43</th>\n",
       "      <td>:</td>\n",
       "      <td>not available</td>\n",
       "      <td>NaN</td>\n",
       "      <td>NaN</td>\n",
       "      <td>NaN</td>\n",
       "      <td>NaN</td>\n",
       "      <td>NaN</td>\n",
       "      <td>NaN</td>\n",
       "      <td>NaN</td>\n",
       "      <td>NaN</td>\n",
       "      <td>...</td>\n",
       "      <td>NaN</td>\n",
       "      <td>NaN</td>\n",
       "      <td>NaN</td>\n",
       "      <td>NaN</td>\n",
       "      <td>NaN</td>\n",
       "      <td>NaN</td>\n",
       "      <td>NaN</td>\n",
       "      <td>NaN</td>\n",
       "      <td>NaN</td>\n",
       "      <td>NaN</td>\n",
       "    </tr>\n",
       "    <tr>\n",
       "      <th>44</th>\n",
       "      <td>Available flags:</td>\n",
       "      <td>NaN</td>\n",
       "      <td>NaN</td>\n",
       "      <td>NaN</td>\n",
       "      <td>NaN</td>\n",
       "      <td>NaN</td>\n",
       "      <td>NaN</td>\n",
       "      <td>NaN</td>\n",
       "      <td>NaN</td>\n",
       "      <td>NaN</td>\n",
       "      <td>...</td>\n",
       "      <td>NaN</td>\n",
       "      <td>NaN</td>\n",
       "      <td>NaN</td>\n",
       "      <td>NaN</td>\n",
       "      <td>NaN</td>\n",
       "      <td>NaN</td>\n",
       "      <td>NaN</td>\n",
       "      <td>NaN</td>\n",
       "      <td>NaN</td>\n",
       "      <td>NaN</td>\n",
       "    </tr>\n",
       "    <tr>\n",
       "      <th>45</th>\n",
       "      <td>c</td>\n",
       "      <td>confidential</td>\n",
       "      <td>NaN</td>\n",
       "      <td>NaN</td>\n",
       "      <td>NaN</td>\n",
       "      <td>NaN</td>\n",
       "      <td>NaN</td>\n",
       "      <td>NaN</td>\n",
       "      <td>NaN</td>\n",
       "      <td>NaN</td>\n",
       "      <td>...</td>\n",
       "      <td>NaN</td>\n",
       "      <td>NaN</td>\n",
       "      <td>NaN</td>\n",
       "      <td>NaN</td>\n",
       "      <td>NaN</td>\n",
       "      <td>NaN</td>\n",
       "      <td>NaN</td>\n",
       "      <td>NaN</td>\n",
       "      <td>NaN</td>\n",
       "      <td>NaN</td>\n",
       "    </tr>\n",
       "    <tr>\n",
       "      <th>46</th>\n",
       "      <td>e</td>\n",
       "      <td>estimated</td>\n",
       "      <td>NaN</td>\n",
       "      <td>NaN</td>\n",
       "      <td>NaN</td>\n",
       "      <td>NaN</td>\n",
       "      <td>NaN</td>\n",
       "      <td>NaN</td>\n",
       "      <td>NaN</td>\n",
       "      <td>NaN</td>\n",
       "      <td>...</td>\n",
       "      <td>NaN</td>\n",
       "      <td>NaN</td>\n",
       "      <td>NaN</td>\n",
       "      <td>NaN</td>\n",
       "      <td>NaN</td>\n",
       "      <td>NaN</td>\n",
       "      <td>NaN</td>\n",
       "      <td>NaN</td>\n",
       "      <td>NaN</td>\n",
       "      <td>NaN</td>\n",
       "    </tr>\n",
       "    <tr>\n",
       "      <th>47</th>\n",
       "      <td>p</td>\n",
       "      <td>provisional</td>\n",
       "      <td>NaN</td>\n",
       "      <td>NaN</td>\n",
       "      <td>NaN</td>\n",
       "      <td>NaN</td>\n",
       "      <td>NaN</td>\n",
       "      <td>NaN</td>\n",
       "      <td>NaN</td>\n",
       "      <td>NaN</td>\n",
       "      <td>...</td>\n",
       "      <td>NaN</td>\n",
       "      <td>NaN</td>\n",
       "      <td>NaN</td>\n",
       "      <td>NaN</td>\n",
       "      <td>NaN</td>\n",
       "      <td>NaN</td>\n",
       "      <td>NaN</td>\n",
       "      <td>NaN</td>\n",
       "      <td>NaN</td>\n",
       "      <td>NaN</td>\n",
       "    </tr>\n",
       "  </tbody>\n",
       "</table>\n",
       "<p>10 rows × 21 columns</p>\n",
       "</div>"
      ],
      "text/plain": [
       "                TIME        2020-Q4 Unnamed: 2 2021-Q1 Unnamed: 4 2021-Q2  \\\n",
       "38           Albania          132.7        NaN     140        NaN   141.2   \n",
       "39            Serbia          132.8        NaN   131.8        NaN   135.8   \n",
       "40           Türkiye          187.5        NaN   199.8        NaN   225.3   \n",
       "41               NaN            NaN        NaN     NaN        NaN     NaN   \n",
       "42     Special value            NaN        NaN     NaN        NaN     NaN   \n",
       "43                 :  not available        NaN     NaN        NaN     NaN   \n",
       "44  Available flags:            NaN        NaN     NaN        NaN     NaN   \n",
       "45                 c   confidential        NaN     NaN        NaN     NaN   \n",
       "46                 e      estimated        NaN     NaN        NaN     NaN   \n",
       "47                 p    provisional        NaN     NaN        NaN     NaN   \n",
       "\n",
       "   Unnamed: 6 2021-Q3 Unnamed: 8 2021-Q4  ... 2022-Q1 Unnamed: 12 2022-Q2  \\\n",
       "38        NaN   140.1        NaN   143.7  ...   160.1         NaN   160.5   \n",
       "39        NaN   137.4        NaN   150.9  ...   147.2         NaN   152.7   \n",
       "40        NaN   244.5        NaN   261.2  ...   303.7         NaN   343.7   \n",
       "41        NaN     NaN        NaN     NaN  ...     NaN         NaN     NaN   \n",
       "42        NaN     NaN        NaN     NaN  ...     NaN         NaN     NaN   \n",
       "43        NaN     NaN        NaN     NaN  ...     NaN         NaN     NaN   \n",
       "44        NaN     NaN        NaN     NaN  ...     NaN         NaN     NaN   \n",
       "45        NaN     NaN        NaN     NaN  ...     NaN         NaN     NaN   \n",
       "46        NaN     NaN        NaN     NaN  ...     NaN         NaN     NaN   \n",
       "47        NaN     NaN        NaN     NaN  ...     NaN         NaN     NaN   \n",
       "\n",
       "   Unnamed: 14 2022-Q3 Unnamed: 16 2022-Q4 Unnamed: 18 2023-Q1 Unnamed: 20  \n",
       "38         NaN   165.7         NaN   168.7         NaN       :         NaN  \n",
       "39         NaN   155.1         NaN   170.2         NaN       :         NaN  \n",
       "40         NaN   464.7         NaN   513.9         NaN       :         NaN  \n",
       "41         NaN     NaN         NaN     NaN         NaN     NaN         NaN  \n",
       "42         NaN     NaN         NaN     NaN         NaN     NaN         NaN  \n",
       "43         NaN     NaN         NaN     NaN         NaN     NaN         NaN  \n",
       "44         NaN     NaN         NaN     NaN         NaN     NaN         NaN  \n",
       "45         NaN     NaN         NaN     NaN         NaN     NaN         NaN  \n",
       "46         NaN     NaN         NaN     NaN         NaN     NaN         NaN  \n",
       "47         NaN     NaN         NaN     NaN         NaN     NaN         NaN  \n",
       "\n",
       "[10 rows x 21 columns]"
      ]
     },
     "execution_count": 43,
     "metadata": {},
     "output_type": "execute_result"
    }
   ],
   "source": [
    "wage.tail(10)"
   ]
  },
  {
   "cell_type": "code",
   "execution_count": 44,
   "id": "46532b9c",
   "metadata": {},
   "outputs": [
    {
     "name": "stdout",
     "output_type": "stream",
     "text": [
      "<class 'pandas.core.frame.DataFrame'>\n",
      "RangeIndex: 48 entries, 0 to 47\n",
      "Data columns (total 21 columns):\n",
      " #   Column       Non-Null Count  Dtype \n",
      "---  ------       --------------  ----- \n",
      " 0   TIME         47 non-null     object\n",
      " 1   2020-Q4      44 non-null     object\n",
      " 2   Unnamed: 2   4 non-null      object\n",
      " 3   2021-Q1      40 non-null     object\n",
      " 4   Unnamed: 4   7 non-null      object\n",
      " 5   2021-Q2      40 non-null     object\n",
      " 6   Unnamed: 6   7 non-null      object\n",
      " 7   2021-Q3      40 non-null     object\n",
      " 8   Unnamed: 8   7 non-null      object\n",
      " 9   2021-Q4      40 non-null     object\n",
      " 10  Unnamed: 10  8 non-null      object\n",
      " 11  2022-Q1      40 non-null     object\n",
      " 12  Unnamed: 12  10 non-null     object\n",
      " 13  2022-Q2      40 non-null     object\n",
      " 14  Unnamed: 14  11 non-null     object\n",
      " 15  2022-Q3      40 non-null     object\n",
      " 16  Unnamed: 16  13 non-null     object\n",
      " 17  2022-Q4      40 non-null     object\n",
      " 18  Unnamed: 18  14 non-null     object\n",
      " 19  2023-Q1      40 non-null     object\n",
      " 20  Unnamed: 20  2 non-null      object\n",
      "dtypes: object(21)\n",
      "memory usage: 8.0+ KB\n"
     ]
    }
   ],
   "source": [
    "wage.info()"
   ]
  },
  {
   "cell_type": "code",
   "execution_count": 45,
   "id": "fd44bdb6",
   "metadata": {},
   "outputs": [],
   "source": [
    "# Rename the column to Country\n",
    "wage = wage.rename(columns={'TIME':'Country'})\n"
   ]
  },
  {
   "cell_type": "code",
   "execution_count": 46,
   "id": "433360d2",
   "metadata": {},
   "outputs": [],
   "source": [
    "# Deleting the columns I dont need, including quarter 1 in 2023 because there is no info about it.\n",
    "wage = wage.drop(['Unnamed: 2', 'Unnamed: 4', 'Unnamed: 6', 'Unnamed: 8', 'Unnamed: 10', 'Unnamed: 12', \n",
    "          'Unnamed: 14', 'Unnamed: 16', 'Unnamed: 18', 'Unnamed: 20', '2023-Q1', '2020-Q4'], axis = 1)"
   ]
  },
  {
   "cell_type": "code",
   "execution_count": 47,
   "id": "6b00feaa",
   "metadata": {},
   "outputs": [
    {
     "data": {
      "text/html": [
       "<div>\n",
       "<style scoped>\n",
       "    .dataframe tbody tr th:only-of-type {\n",
       "        vertical-align: middle;\n",
       "    }\n",
       "\n",
       "    .dataframe tbody tr th {\n",
       "        vertical-align: top;\n",
       "    }\n",
       "\n",
       "    .dataframe thead th {\n",
       "        text-align: right;\n",
       "    }\n",
       "</style>\n",
       "<table border=\"1\" class=\"dataframe\">\n",
       "  <thead>\n",
       "    <tr style=\"text-align: right;\">\n",
       "      <th></th>\n",
       "      <th>Country</th>\n",
       "      <th>2021-Q1</th>\n",
       "      <th>2021-Q2</th>\n",
       "      <th>2021-Q3</th>\n",
       "      <th>2021-Q4</th>\n",
       "      <th>2022-Q1</th>\n",
       "      <th>2022-Q2</th>\n",
       "      <th>2022-Q3</th>\n",
       "      <th>2022-Q4</th>\n",
       "    </tr>\n",
       "  </thead>\n",
       "  <tbody>\n",
       "    <tr>\n",
       "      <th>0</th>\n",
       "      <td>GEO (Labels)</td>\n",
       "      <td>NaN</td>\n",
       "      <td>NaN</td>\n",
       "      <td>NaN</td>\n",
       "      <td>NaN</td>\n",
       "      <td>NaN</td>\n",
       "      <td>NaN</td>\n",
       "      <td>NaN</td>\n",
       "      <td>NaN</td>\n",
       "    </tr>\n",
       "    <tr>\n",
       "      <th>1</th>\n",
       "      <td>European Union - 27 countries (from 2020)</td>\n",
       "      <td>119.6</td>\n",
       "      <td>131.4</td>\n",
       "      <td>126.6</td>\n",
       "      <td>141.9</td>\n",
       "      <td>130</td>\n",
       "      <td>142.7</td>\n",
       "      <td>136.5</td>\n",
       "      <td>151.1</td>\n",
       "    </tr>\n",
       "    <tr>\n",
       "      <th>2</th>\n",
       "      <td>European Union - 28 countries (2013-2020)</td>\n",
       "      <td>:</td>\n",
       "      <td>:</td>\n",
       "      <td>:</td>\n",
       "      <td>:</td>\n",
       "      <td>:</td>\n",
       "      <td>:</td>\n",
       "      <td>:</td>\n",
       "      <td>:</td>\n",
       "    </tr>\n",
       "    <tr>\n",
       "      <th>3</th>\n",
       "      <td>Euro area – 20 countries (from 2023)</td>\n",
       "      <td>115.4</td>\n",
       "      <td>127.6</td>\n",
       "      <td>122.9</td>\n",
       "      <td>137.4</td>\n",
       "      <td>124.9</td>\n",
       "      <td>137.5</td>\n",
       "      <td>131.4</td>\n",
       "      <td>145.1</td>\n",
       "    </tr>\n",
       "    <tr>\n",
       "      <th>4</th>\n",
       "      <td>Euro area - 19 countries  (2015-2022)</td>\n",
       "      <td>115.4</td>\n",
       "      <td>127.6</td>\n",
       "      <td>122.9</td>\n",
       "      <td>137.5</td>\n",
       "      <td>124.9</td>\n",
       "      <td>137.5</td>\n",
       "      <td>131.3</td>\n",
       "      <td>145.1</td>\n",
       "    </tr>\n",
       "    <tr>\n",
       "      <th>5</th>\n",
       "      <td>Belgium</td>\n",
       "      <td>112.8</td>\n",
       "      <td>127.3</td>\n",
       "      <td>105.6</td>\n",
       "      <td>126.2</td>\n",
       "      <td>122.2</td>\n",
       "      <td>137.8</td>\n",
       "      <td>115.3</td>\n",
       "      <td>138.8</td>\n",
       "    </tr>\n",
       "    <tr>\n",
       "      <th>6</th>\n",
       "      <td>Bulgaria</td>\n",
       "      <td>131</td>\n",
       "      <td>142.4</td>\n",
       "      <td>144.5</td>\n",
       "      <td>153.4</td>\n",
       "      <td>139.4</td>\n",
       "      <td>150.5</td>\n",
       "      <td>154.6</td>\n",
       "      <td>162.5</td>\n",
       "    </tr>\n",
       "    <tr>\n",
       "      <th>7</th>\n",
       "      <td>Czechia</td>\n",
       "      <td>119.5</td>\n",
       "      <td>134.7</td>\n",
       "      <td>138.4</td>\n",
       "      <td>145.3</td>\n",
       "      <td>129.3</td>\n",
       "      <td>146.5</td>\n",
       "      <td>150.4</td>\n",
       "      <td>158.3</td>\n",
       "    </tr>\n",
       "    <tr>\n",
       "      <th>8</th>\n",
       "      <td>Denmark</td>\n",
       "      <td>133.7</td>\n",
       "      <td>145.4</td>\n",
       "      <td>135.5</td>\n",
       "      <td>169.4</td>\n",
       "      <td>145.7</td>\n",
       "      <td>155.1</td>\n",
       "      <td>144.9</td>\n",
       "      <td>180.6</td>\n",
       "    </tr>\n",
       "    <tr>\n",
       "      <th>9</th>\n",
       "      <td>Germany (until 1990 former territory of the FRG)</td>\n",
       "      <td>115.9</td>\n",
       "      <td>129.9</td>\n",
       "      <td>131</td>\n",
       "      <td>139.5</td>\n",
       "      <td>123.3</td>\n",
       "      <td>136.5</td>\n",
       "      <td>138.2</td>\n",
       "      <td>144.4</td>\n",
       "    </tr>\n",
       "    <tr>\n",
       "      <th>10</th>\n",
       "      <td>Estonia</td>\n",
       "      <td>135.5</td>\n",
       "      <td>151.7</td>\n",
       "      <td>163.5</td>\n",
       "      <td>170.9</td>\n",
       "      <td>164</td>\n",
       "      <td>178.3</td>\n",
       "      <td>185</td>\n",
       "      <td>191.8</td>\n",
       "    </tr>\n",
       "    <tr>\n",
       "      <th>11</th>\n",
       "      <td>Ireland</td>\n",
       "      <td>152.5</td>\n",
       "      <td>146</td>\n",
       "      <td>183</td>\n",
       "      <td>214.4</td>\n",
       "      <td>203.9</td>\n",
       "      <td>217</td>\n",
       "      <td>227.2</td>\n",
       "      <td>222.5</td>\n",
       "    </tr>\n",
       "    <tr>\n",
       "      <th>12</th>\n",
       "      <td>Greece</td>\n",
       "      <td>94.9</td>\n",
       "      <td>95.9</td>\n",
       "      <td>100.1</td>\n",
       "      <td>115</td>\n",
       "      <td>84.9</td>\n",
       "      <td>111.2</td>\n",
       "      <td>108</td>\n",
       "      <td>125.6</td>\n",
       "    </tr>\n",
       "    <tr>\n",
       "      <th>13</th>\n",
       "      <td>Spain</td>\n",
       "      <td>99.1</td>\n",
       "      <td>112.6</td>\n",
       "      <td>105.9</td>\n",
       "      <td>119.7</td>\n",
       "      <td>105.9</td>\n",
       "      <td>120.6</td>\n",
       "      <td>112.9</td>\n",
       "      <td>129.5</td>\n",
       "    </tr>\n",
       "    <tr>\n",
       "      <th>14</th>\n",
       "      <td>France</td>\n",
       "      <td>123</td>\n",
       "      <td>123.7</td>\n",
       "      <td>117.4</td>\n",
       "      <td>133.9</td>\n",
       "      <td>129.8</td>\n",
       "      <td>130.2</td>\n",
       "      <td>122.8</td>\n",
       "      <td>140.3</td>\n",
       "    </tr>\n",
       "    <tr>\n",
       "      <th>15</th>\n",
       "      <td>Croatia</td>\n",
       "      <td>122.5</td>\n",
       "      <td>123.8</td>\n",
       "      <td>126</td>\n",
       "      <td>127.1</td>\n",
       "      <td>131.9</td>\n",
       "      <td>134.1</td>\n",
       "      <td>136.7</td>\n",
       "      <td>141.4</td>\n",
       "    </tr>\n",
       "    <tr>\n",
       "      <th>16</th>\n",
       "      <td>Italy</td>\n",
       "      <td>106.1</td>\n",
       "      <td>123.7</td>\n",
       "      <td>118.1</td>\n",
       "      <td>145.7</td>\n",
       "      <td>129</td>\n",
       "      <td>147.4</td>\n",
       "      <td>133.9</td>\n",
       "      <td>161.6</td>\n",
       "    </tr>\n",
       "    <tr>\n",
       "      <th>17</th>\n",
       "      <td>Cyprus</td>\n",
       "      <td>172.7</td>\n",
       "      <td>181.4</td>\n",
       "      <td>178.4</td>\n",
       "      <td>208</td>\n",
       "      <td>186.7</td>\n",
       "      <td>191.2</td>\n",
       "      <td>187.5</td>\n",
       "      <td>216.9</td>\n",
       "    </tr>\n",
       "    <tr>\n",
       "      <th>18</th>\n",
       "      <td>Latvia</td>\n",
       "      <td>132.2</td>\n",
       "      <td>154.7</td>\n",
       "      <td>172</td>\n",
       "      <td>159.2</td>\n",
       "      <td>144.1</td>\n",
       "      <td>162.9</td>\n",
       "      <td>174.4</td>\n",
       "      <td>167.6</td>\n",
       "    </tr>\n",
       "    <tr>\n",
       "      <th>19</th>\n",
       "      <td>Lithuania</td>\n",
       "      <td>144.4</td>\n",
       "      <td>164.9</td>\n",
       "      <td>172.1</td>\n",
       "      <td>172.1</td>\n",
       "      <td>163.3</td>\n",
       "      <td>175.7</td>\n",
       "      <td>177.6</td>\n",
       "      <td>177.5</td>\n",
       "    </tr>\n",
       "    <tr>\n",
       "      <th>20</th>\n",
       "      <td>Luxembourg</td>\n",
       "      <td>115.6</td>\n",
       "      <td>119.9</td>\n",
       "      <td>116.3</td>\n",
       "      <td>137.4</td>\n",
       "      <td>121.4</td>\n",
       "      <td>125.5</td>\n",
       "      <td>123.7</td>\n",
       "      <td>141.8</td>\n",
       "    </tr>\n",
       "    <tr>\n",
       "      <th>21</th>\n",
       "      <td>Hungary</td>\n",
       "      <td>234.3</td>\n",
       "      <td>256.7</td>\n",
       "      <td>256.5</td>\n",
       "      <td>287.2</td>\n",
       "      <td>284.2</td>\n",
       "      <td>315.4</td>\n",
       "      <td>323.5</td>\n",
       "      <td>346.7</td>\n",
       "    </tr>\n",
       "    <tr>\n",
       "      <th>22</th>\n",
       "      <td>Malta</td>\n",
       "      <td>126.6</td>\n",
       "      <td>124.5</td>\n",
       "      <td>126.9</td>\n",
       "      <td>131.9</td>\n",
       "      <td>133</td>\n",
       "      <td>135.8</td>\n",
       "      <td>138.8</td>\n",
       "      <td>142.1</td>\n",
       "    </tr>\n",
       "    <tr>\n",
       "      <th>23</th>\n",
       "      <td>Netherlands</td>\n",
       "      <td>121.1</td>\n",
       "      <td>145.3</td>\n",
       "      <td>121.1</td>\n",
       "      <td>127.9</td>\n",
       "      <td>126.1</td>\n",
       "      <td>151.9</td>\n",
       "      <td>129.5</td>\n",
       "      <td>:</td>\n",
       "    </tr>\n",
       "    <tr>\n",
       "      <th>24</th>\n",
       "      <td>Austria</td>\n",
       "      <td>109.1</td>\n",
       "      <td>140.8</td>\n",
       "      <td>134.9</td>\n",
       "      <td>161.1</td>\n",
       "      <td>118</td>\n",
       "      <td>150.8</td>\n",
       "      <td>142.7</td>\n",
       "      <td>170.4</td>\n",
       "    </tr>\n",
       "    <tr>\n",
       "      <th>25</th>\n",
       "      <td>Poland</td>\n",
       "      <td>145.5</td>\n",
       "      <td>155.3</td>\n",
       "      <td>158.2</td>\n",
       "      <td>166.4</td>\n",
       "      <td>166.9</td>\n",
       "      <td>177</td>\n",
       "      <td>179.7</td>\n",
       "      <td>186.9</td>\n",
       "    </tr>\n",
       "    <tr>\n",
       "      <th>26</th>\n",
       "      <td>Portugal</td>\n",
       "      <td>102.7</td>\n",
       "      <td>111.4</td>\n",
       "      <td>113.7</td>\n",
       "      <td>124.1</td>\n",
       "      <td>110.5</td>\n",
       "      <td>119.1</td>\n",
       "      <td>120.4</td>\n",
       "      <td>129.7</td>\n",
       "    </tr>\n",
       "    <tr>\n",
       "      <th>27</th>\n",
       "      <td>Romania</td>\n",
       "      <td>271.8</td>\n",
       "      <td>293.7</td>\n",
       "      <td>299.4</td>\n",
       "      <td>309.1</td>\n",
       "      <td>308.4</td>\n",
       "      <td>328.5</td>\n",
       "      <td>339</td>\n",
       "      <td>354.8</td>\n",
       "    </tr>\n",
       "    <tr>\n",
       "      <th>28</th>\n",
       "      <td>Slovenia</td>\n",
       "      <td>120.7</td>\n",
       "      <td>125</td>\n",
       "      <td>126.7</td>\n",
       "      <td>131.2</td>\n",
       "      <td>129</td>\n",
       "      <td>133.9</td>\n",
       "      <td>135</td>\n",
       "      <td>141.7</td>\n",
       "    </tr>\n",
       "    <tr>\n",
       "      <th>29</th>\n",
       "      <td>Slovakia</td>\n",
       "      <td>123.7</td>\n",
       "      <td>133.9</td>\n",
       "      <td>140.3</td>\n",
       "      <td>142.5</td>\n",
       "      <td>123.2</td>\n",
       "      <td>129.5</td>\n",
       "      <td>132.4</td>\n",
       "      <td>138.9</td>\n",
       "    </tr>\n",
       "    <tr>\n",
       "      <th>30</th>\n",
       "      <td>Finland</td>\n",
       "      <td>114.2</td>\n",
       "      <td>134.2</td>\n",
       "      <td>134.1</td>\n",
       "      <td>136.4</td>\n",
       "      <td>122.9</td>\n",
       "      <td>141.8</td>\n",
       "      <td>144.7</td>\n",
       "      <td>138.6</td>\n",
       "    </tr>\n",
       "    <tr>\n",
       "      <th>31</th>\n",
       "      <td>Sweden</td>\n",
       "      <td>129.7</td>\n",
       "      <td>134</td>\n",
       "      <td>121.2</td>\n",
       "      <td>142.7</td>\n",
       "      <td>140</td>\n",
       "      <td>153.7</td>\n",
       "      <td>138.2</td>\n",
       "      <td>157.4</td>\n",
       "    </tr>\n",
       "    <tr>\n",
       "      <th>32</th>\n",
       "      <td>Iceland</td>\n",
       "      <td>:</td>\n",
       "      <td>:</td>\n",
       "      <td>:</td>\n",
       "      <td>:</td>\n",
       "      <td>:</td>\n",
       "      <td>:</td>\n",
       "      <td>:</td>\n",
       "      <td>:</td>\n",
       "    </tr>\n",
       "    <tr>\n",
       "      <th>33</th>\n",
       "      <td>Norway</td>\n",
       "      <td>124.2</td>\n",
       "      <td>160.2</td>\n",
       "      <td>132.6</td>\n",
       "      <td>148.5</td>\n",
       "      <td>132.4</td>\n",
       "      <td>176.1</td>\n",
       "      <td>143.3</td>\n",
       "      <td>160.1</td>\n",
       "    </tr>\n",
       "    <tr>\n",
       "      <th>34</th>\n",
       "      <td>Switzerland</td>\n",
       "      <td>:</td>\n",
       "      <td>:</td>\n",
       "      <td>:</td>\n",
       "      <td>:</td>\n",
       "      <td>:</td>\n",
       "      <td>:</td>\n",
       "      <td>:</td>\n",
       "      <td>:</td>\n",
       "    </tr>\n",
       "    <tr>\n",
       "      <th>35</th>\n",
       "      <td>United Kingdom</td>\n",
       "      <td>:</td>\n",
       "      <td>:</td>\n",
       "      <td>:</td>\n",
       "      <td>:</td>\n",
       "      <td>:</td>\n",
       "      <td>:</td>\n",
       "      <td>:</td>\n",
       "      <td>:</td>\n",
       "    </tr>\n",
       "    <tr>\n",
       "      <th>36</th>\n",
       "      <td>Montenegro</td>\n",
       "      <td>105.6</td>\n",
       "      <td>105.7</td>\n",
       "      <td>107.4</td>\n",
       "      <td>109.7</td>\n",
       "      <td>120.7</td>\n",
       "      <td>124.2</td>\n",
       "      <td>126.3</td>\n",
       "      <td>126.3</td>\n",
       "    </tr>\n",
       "    <tr>\n",
       "      <th>37</th>\n",
       "      <td>North Macedonia</td>\n",
       "      <td>135.5</td>\n",
       "      <td>141.2</td>\n",
       "      <td>145.2</td>\n",
       "      <td>149.6</td>\n",
       "      <td>147.1</td>\n",
       "      <td>161.6</td>\n",
       "      <td>167.3</td>\n",
       "      <td>176.1</td>\n",
       "    </tr>\n",
       "    <tr>\n",
       "      <th>38</th>\n",
       "      <td>Albania</td>\n",
       "      <td>140</td>\n",
       "      <td>141.2</td>\n",
       "      <td>140.1</td>\n",
       "      <td>143.7</td>\n",
       "      <td>160.1</td>\n",
       "      <td>160.5</td>\n",
       "      <td>165.7</td>\n",
       "      <td>168.7</td>\n",
       "    </tr>\n",
       "    <tr>\n",
       "      <th>39</th>\n",
       "      <td>Serbia</td>\n",
       "      <td>131.8</td>\n",
       "      <td>135.8</td>\n",
       "      <td>137.4</td>\n",
       "      <td>150.9</td>\n",
       "      <td>147.2</td>\n",
       "      <td>152.7</td>\n",
       "      <td>155.1</td>\n",
       "      <td>170.2</td>\n",
       "    </tr>\n",
       "    <tr>\n",
       "      <th>40</th>\n",
       "      <td>Türkiye</td>\n",
       "      <td>199.8</td>\n",
       "      <td>225.3</td>\n",
       "      <td>244.5</td>\n",
       "      <td>261.2</td>\n",
       "      <td>303.7</td>\n",
       "      <td>343.7</td>\n",
       "      <td>464.7</td>\n",
       "      <td>513.9</td>\n",
       "    </tr>\n",
       "    <tr>\n",
       "      <th>41</th>\n",
       "      <td>NaN</td>\n",
       "      <td>NaN</td>\n",
       "      <td>NaN</td>\n",
       "      <td>NaN</td>\n",
       "      <td>NaN</td>\n",
       "      <td>NaN</td>\n",
       "      <td>NaN</td>\n",
       "      <td>NaN</td>\n",
       "      <td>NaN</td>\n",
       "    </tr>\n",
       "    <tr>\n",
       "      <th>42</th>\n",
       "      <td>Special value</td>\n",
       "      <td>NaN</td>\n",
       "      <td>NaN</td>\n",
       "      <td>NaN</td>\n",
       "      <td>NaN</td>\n",
       "      <td>NaN</td>\n",
       "      <td>NaN</td>\n",
       "      <td>NaN</td>\n",
       "      <td>NaN</td>\n",
       "    </tr>\n",
       "    <tr>\n",
       "      <th>43</th>\n",
       "      <td>:</td>\n",
       "      <td>NaN</td>\n",
       "      <td>NaN</td>\n",
       "      <td>NaN</td>\n",
       "      <td>NaN</td>\n",
       "      <td>NaN</td>\n",
       "      <td>NaN</td>\n",
       "      <td>NaN</td>\n",
       "      <td>NaN</td>\n",
       "    </tr>\n",
       "    <tr>\n",
       "      <th>44</th>\n",
       "      <td>Available flags:</td>\n",
       "      <td>NaN</td>\n",
       "      <td>NaN</td>\n",
       "      <td>NaN</td>\n",
       "      <td>NaN</td>\n",
       "      <td>NaN</td>\n",
       "      <td>NaN</td>\n",
       "      <td>NaN</td>\n",
       "      <td>NaN</td>\n",
       "    </tr>\n",
       "    <tr>\n",
       "      <th>45</th>\n",
       "      <td>c</td>\n",
       "      <td>NaN</td>\n",
       "      <td>NaN</td>\n",
       "      <td>NaN</td>\n",
       "      <td>NaN</td>\n",
       "      <td>NaN</td>\n",
       "      <td>NaN</td>\n",
       "      <td>NaN</td>\n",
       "      <td>NaN</td>\n",
       "    </tr>\n",
       "    <tr>\n",
       "      <th>46</th>\n",
       "      <td>e</td>\n",
       "      <td>NaN</td>\n",
       "      <td>NaN</td>\n",
       "      <td>NaN</td>\n",
       "      <td>NaN</td>\n",
       "      <td>NaN</td>\n",
       "      <td>NaN</td>\n",
       "      <td>NaN</td>\n",
       "      <td>NaN</td>\n",
       "    </tr>\n",
       "    <tr>\n",
       "      <th>47</th>\n",
       "      <td>p</td>\n",
       "      <td>NaN</td>\n",
       "      <td>NaN</td>\n",
       "      <td>NaN</td>\n",
       "      <td>NaN</td>\n",
       "      <td>NaN</td>\n",
       "      <td>NaN</td>\n",
       "      <td>NaN</td>\n",
       "      <td>NaN</td>\n",
       "    </tr>\n",
       "  </tbody>\n",
       "</table>\n",
       "</div>"
      ],
      "text/plain": [
       "                                             Country 2021-Q1 2021-Q2 2021-Q3  \\\n",
       "0                                       GEO (Labels)     NaN     NaN     NaN   \n",
       "1          European Union - 27 countries (from 2020)   119.6   131.4   126.6   \n",
       "2          European Union - 28 countries (2013-2020)       :       :       :   \n",
       "3               Euro area – 20 countries (from 2023)   115.4   127.6   122.9   \n",
       "4              Euro area - 19 countries  (2015-2022)   115.4   127.6   122.9   \n",
       "5                                            Belgium   112.8   127.3   105.6   \n",
       "6                                           Bulgaria     131   142.4   144.5   \n",
       "7                                            Czechia   119.5   134.7   138.4   \n",
       "8                                            Denmark   133.7   145.4   135.5   \n",
       "9   Germany (until 1990 former territory of the FRG)   115.9   129.9     131   \n",
       "10                                           Estonia   135.5   151.7   163.5   \n",
       "11                                           Ireland   152.5     146     183   \n",
       "12                                            Greece    94.9    95.9   100.1   \n",
       "13                                             Spain    99.1   112.6   105.9   \n",
       "14                                            France     123   123.7   117.4   \n",
       "15                                           Croatia   122.5   123.8     126   \n",
       "16                                             Italy   106.1   123.7   118.1   \n",
       "17                                            Cyprus   172.7   181.4   178.4   \n",
       "18                                            Latvia   132.2   154.7     172   \n",
       "19                                         Lithuania   144.4   164.9   172.1   \n",
       "20                                        Luxembourg   115.6   119.9   116.3   \n",
       "21                                           Hungary   234.3   256.7   256.5   \n",
       "22                                             Malta   126.6   124.5   126.9   \n",
       "23                                       Netherlands   121.1   145.3   121.1   \n",
       "24                                           Austria   109.1   140.8   134.9   \n",
       "25                                            Poland   145.5   155.3   158.2   \n",
       "26                                          Portugal   102.7   111.4   113.7   \n",
       "27                                           Romania   271.8   293.7   299.4   \n",
       "28                                          Slovenia   120.7     125   126.7   \n",
       "29                                          Slovakia   123.7   133.9   140.3   \n",
       "30                                           Finland   114.2   134.2   134.1   \n",
       "31                                            Sweden   129.7     134   121.2   \n",
       "32                                           Iceland       :       :       :   \n",
       "33                                            Norway   124.2   160.2   132.6   \n",
       "34                                       Switzerland       :       :       :   \n",
       "35                                    United Kingdom       :       :       :   \n",
       "36                                        Montenegro   105.6   105.7   107.4   \n",
       "37                                   North Macedonia   135.5   141.2   145.2   \n",
       "38                                           Albania     140   141.2   140.1   \n",
       "39                                            Serbia   131.8   135.8   137.4   \n",
       "40                                           Türkiye   199.8   225.3   244.5   \n",
       "41                                               NaN     NaN     NaN     NaN   \n",
       "42                                     Special value     NaN     NaN     NaN   \n",
       "43                                                 :     NaN     NaN     NaN   \n",
       "44                                  Available flags:     NaN     NaN     NaN   \n",
       "45                                                 c     NaN     NaN     NaN   \n",
       "46                                                 e     NaN     NaN     NaN   \n",
       "47                                                 p     NaN     NaN     NaN   \n",
       "\n",
       "   2021-Q4 2022-Q1 2022-Q2 2022-Q3 2022-Q4  \n",
       "0      NaN     NaN     NaN     NaN     NaN  \n",
       "1    141.9     130   142.7   136.5   151.1  \n",
       "2        :       :       :       :       :  \n",
       "3    137.4   124.9   137.5   131.4   145.1  \n",
       "4    137.5   124.9   137.5   131.3   145.1  \n",
       "5    126.2   122.2   137.8   115.3   138.8  \n",
       "6    153.4   139.4   150.5   154.6   162.5  \n",
       "7    145.3   129.3   146.5   150.4   158.3  \n",
       "8    169.4   145.7   155.1   144.9   180.6  \n",
       "9    139.5   123.3   136.5   138.2   144.4  \n",
       "10   170.9     164   178.3     185   191.8  \n",
       "11   214.4   203.9     217   227.2   222.5  \n",
       "12     115    84.9   111.2     108   125.6  \n",
       "13   119.7   105.9   120.6   112.9   129.5  \n",
       "14   133.9   129.8   130.2   122.8   140.3  \n",
       "15   127.1   131.9   134.1   136.7   141.4  \n",
       "16   145.7     129   147.4   133.9   161.6  \n",
       "17     208   186.7   191.2   187.5   216.9  \n",
       "18   159.2   144.1   162.9   174.4   167.6  \n",
       "19   172.1   163.3   175.7   177.6   177.5  \n",
       "20   137.4   121.4   125.5   123.7   141.8  \n",
       "21   287.2   284.2   315.4   323.5   346.7  \n",
       "22   131.9     133   135.8   138.8   142.1  \n",
       "23   127.9   126.1   151.9   129.5       :  \n",
       "24   161.1     118   150.8   142.7   170.4  \n",
       "25   166.4   166.9     177   179.7   186.9  \n",
       "26   124.1   110.5   119.1   120.4   129.7  \n",
       "27   309.1   308.4   328.5     339   354.8  \n",
       "28   131.2     129   133.9     135   141.7  \n",
       "29   142.5   123.2   129.5   132.4   138.9  \n",
       "30   136.4   122.9   141.8   144.7   138.6  \n",
       "31   142.7     140   153.7   138.2   157.4  \n",
       "32       :       :       :       :       :  \n",
       "33   148.5   132.4   176.1   143.3   160.1  \n",
       "34       :       :       :       :       :  \n",
       "35       :       :       :       :       :  \n",
       "36   109.7   120.7   124.2   126.3   126.3  \n",
       "37   149.6   147.1   161.6   167.3   176.1  \n",
       "38   143.7   160.1   160.5   165.7   168.7  \n",
       "39   150.9   147.2   152.7   155.1   170.2  \n",
       "40   261.2   303.7   343.7   464.7   513.9  \n",
       "41     NaN     NaN     NaN     NaN     NaN  \n",
       "42     NaN     NaN     NaN     NaN     NaN  \n",
       "43     NaN     NaN     NaN     NaN     NaN  \n",
       "44     NaN     NaN     NaN     NaN     NaN  \n",
       "45     NaN     NaN     NaN     NaN     NaN  \n",
       "46     NaN     NaN     NaN     NaN     NaN  \n",
       "47     NaN     NaN     NaN     NaN     NaN  "
      ]
     },
     "metadata": {},
     "output_type": "display_data"
    }
   ],
   "source": [
    "display(wage)"
   ]
  },
  {
   "cell_type": "code",
   "execution_count": 48,
   "id": "72b56b43",
   "metadata": {},
   "outputs": [
    {
     "name": "stdout",
     "output_type": "stream",
     "text": [
      "<class 'pandas.core.frame.DataFrame'>\n",
      "RangeIndex: 48 entries, 0 to 47\n",
      "Data columns (total 9 columns):\n",
      " #   Column   Non-Null Count  Dtype \n",
      "---  ------   --------------  ----- \n",
      " 0   Country  47 non-null     object\n",
      " 1   2021-Q1  40 non-null     object\n",
      " 2   2021-Q2  40 non-null     object\n",
      " 3   2021-Q3  40 non-null     object\n",
      " 4   2021-Q4  40 non-null     object\n",
      " 5   2022-Q1  40 non-null     object\n",
      " 6   2022-Q2  40 non-null     object\n",
      " 7   2022-Q3  40 non-null     object\n",
      " 8   2022-Q4  40 non-null     object\n",
      "dtypes: object(9)\n",
      "memory usage: 3.5+ KB\n"
     ]
    }
   ],
   "source": [
    "wage.info()"
   ]
  },
  {
   "cell_type": "code",
   "execution_count": 49,
   "id": "d2a89d3b",
   "metadata": {},
   "outputs": [
    {
     "name": "stdout",
     "output_type": "stream",
     "text": [
      "Country    1\n",
      "2021-Q1    8\n",
      "2021-Q2    8\n",
      "2021-Q3    8\n",
      "2021-Q4    8\n",
      "2022-Q1    8\n",
      "2022-Q2    8\n",
      "2022-Q3    8\n",
      "2022-Q4    8\n",
      "dtype: int64\n"
     ]
    }
   ],
   "source": [
    "print(wage.isna().sum())"
   ]
  },
  {
   "cell_type": "code",
   "execution_count": 50,
   "id": "c7d8ed0d",
   "metadata": {},
   "outputs": [],
   "source": [
    "wage = wage.drop([0,1,2,3,4,41,42,43,44,45,46,47, 32, 34, 35], axis = 0)"
   ]
  },
  {
   "cell_type": "code",
   "execution_count": 51,
   "id": "407b5af5",
   "metadata": {},
   "outputs": [
    {
     "name": "stdout",
     "output_type": "stream",
     "text": [
      "Country    0\n",
      "2021-Q1    0\n",
      "2021-Q2    0\n",
      "2021-Q3    0\n",
      "2021-Q4    0\n",
      "2022-Q1    0\n",
      "2022-Q2    0\n",
      "2022-Q3    0\n",
      "2022-Q4    0\n",
      "dtype: int64\n"
     ]
    }
   ],
   "source": [
    "print(wage.isna().sum())"
   ]
  },
  {
   "cell_type": "code",
   "execution_count": 52,
   "id": "b065d2fa",
   "metadata": {},
   "outputs": [
    {
     "data": {
      "text/html": [
       "<div>\n",
       "<style scoped>\n",
       "    .dataframe tbody tr th:only-of-type {\n",
       "        vertical-align: middle;\n",
       "    }\n",
       "\n",
       "    .dataframe tbody tr th {\n",
       "        vertical-align: top;\n",
       "    }\n",
       "\n",
       "    .dataframe thead th {\n",
       "        text-align: right;\n",
       "    }\n",
       "</style>\n",
       "<table border=\"1\" class=\"dataframe\">\n",
       "  <thead>\n",
       "    <tr style=\"text-align: right;\">\n",
       "      <th></th>\n",
       "      <th>Country</th>\n",
       "      <th>2021-Q1</th>\n",
       "      <th>2021-Q2</th>\n",
       "      <th>2021-Q3</th>\n",
       "      <th>2021-Q4</th>\n",
       "      <th>2022-Q1</th>\n",
       "      <th>2022-Q2</th>\n",
       "      <th>2022-Q3</th>\n",
       "      <th>2022-Q4</th>\n",
       "    </tr>\n",
       "  </thead>\n",
       "  <tbody>\n",
       "    <tr>\n",
       "      <th>5</th>\n",
       "      <td>Belgium</td>\n",
       "      <td>112.8</td>\n",
       "      <td>127.3</td>\n",
       "      <td>105.6</td>\n",
       "      <td>126.2</td>\n",
       "      <td>122.2</td>\n",
       "      <td>137.8</td>\n",
       "      <td>115.3</td>\n",
       "      <td>138.8</td>\n",
       "    </tr>\n",
       "    <tr>\n",
       "      <th>6</th>\n",
       "      <td>Bulgaria</td>\n",
       "      <td>131</td>\n",
       "      <td>142.4</td>\n",
       "      <td>144.5</td>\n",
       "      <td>153.4</td>\n",
       "      <td>139.4</td>\n",
       "      <td>150.5</td>\n",
       "      <td>154.6</td>\n",
       "      <td>162.5</td>\n",
       "    </tr>\n",
       "    <tr>\n",
       "      <th>7</th>\n",
       "      <td>Czechia</td>\n",
       "      <td>119.5</td>\n",
       "      <td>134.7</td>\n",
       "      <td>138.4</td>\n",
       "      <td>145.3</td>\n",
       "      <td>129.3</td>\n",
       "      <td>146.5</td>\n",
       "      <td>150.4</td>\n",
       "      <td>158.3</td>\n",
       "    </tr>\n",
       "    <tr>\n",
       "      <th>8</th>\n",
       "      <td>Denmark</td>\n",
       "      <td>133.7</td>\n",
       "      <td>145.4</td>\n",
       "      <td>135.5</td>\n",
       "      <td>169.4</td>\n",
       "      <td>145.7</td>\n",
       "      <td>155.1</td>\n",
       "      <td>144.9</td>\n",
       "      <td>180.6</td>\n",
       "    </tr>\n",
       "    <tr>\n",
       "      <th>9</th>\n",
       "      <td>Germany (until 1990 former territory of the FRG)</td>\n",
       "      <td>115.9</td>\n",
       "      <td>129.9</td>\n",
       "      <td>131</td>\n",
       "      <td>139.5</td>\n",
       "      <td>123.3</td>\n",
       "      <td>136.5</td>\n",
       "      <td>138.2</td>\n",
       "      <td>144.4</td>\n",
       "    </tr>\n",
       "    <tr>\n",
       "      <th>10</th>\n",
       "      <td>Estonia</td>\n",
       "      <td>135.5</td>\n",
       "      <td>151.7</td>\n",
       "      <td>163.5</td>\n",
       "      <td>170.9</td>\n",
       "      <td>164</td>\n",
       "      <td>178.3</td>\n",
       "      <td>185</td>\n",
       "      <td>191.8</td>\n",
       "    </tr>\n",
       "    <tr>\n",
       "      <th>11</th>\n",
       "      <td>Ireland</td>\n",
       "      <td>152.5</td>\n",
       "      <td>146</td>\n",
       "      <td>183</td>\n",
       "      <td>214.4</td>\n",
       "      <td>203.9</td>\n",
       "      <td>217</td>\n",
       "      <td>227.2</td>\n",
       "      <td>222.5</td>\n",
       "    </tr>\n",
       "    <tr>\n",
       "      <th>12</th>\n",
       "      <td>Greece</td>\n",
       "      <td>94.9</td>\n",
       "      <td>95.9</td>\n",
       "      <td>100.1</td>\n",
       "      <td>115</td>\n",
       "      <td>84.9</td>\n",
       "      <td>111.2</td>\n",
       "      <td>108</td>\n",
       "      <td>125.6</td>\n",
       "    </tr>\n",
       "    <tr>\n",
       "      <th>13</th>\n",
       "      <td>Spain</td>\n",
       "      <td>99.1</td>\n",
       "      <td>112.6</td>\n",
       "      <td>105.9</td>\n",
       "      <td>119.7</td>\n",
       "      <td>105.9</td>\n",
       "      <td>120.6</td>\n",
       "      <td>112.9</td>\n",
       "      <td>129.5</td>\n",
       "    </tr>\n",
       "    <tr>\n",
       "      <th>14</th>\n",
       "      <td>France</td>\n",
       "      <td>123</td>\n",
       "      <td>123.7</td>\n",
       "      <td>117.4</td>\n",
       "      <td>133.9</td>\n",
       "      <td>129.8</td>\n",
       "      <td>130.2</td>\n",
       "      <td>122.8</td>\n",
       "      <td>140.3</td>\n",
       "    </tr>\n",
       "    <tr>\n",
       "      <th>15</th>\n",
       "      <td>Croatia</td>\n",
       "      <td>122.5</td>\n",
       "      <td>123.8</td>\n",
       "      <td>126</td>\n",
       "      <td>127.1</td>\n",
       "      <td>131.9</td>\n",
       "      <td>134.1</td>\n",
       "      <td>136.7</td>\n",
       "      <td>141.4</td>\n",
       "    </tr>\n",
       "    <tr>\n",
       "      <th>16</th>\n",
       "      <td>Italy</td>\n",
       "      <td>106.1</td>\n",
       "      <td>123.7</td>\n",
       "      <td>118.1</td>\n",
       "      <td>145.7</td>\n",
       "      <td>129</td>\n",
       "      <td>147.4</td>\n",
       "      <td>133.9</td>\n",
       "      <td>161.6</td>\n",
       "    </tr>\n",
       "    <tr>\n",
       "      <th>17</th>\n",
       "      <td>Cyprus</td>\n",
       "      <td>172.7</td>\n",
       "      <td>181.4</td>\n",
       "      <td>178.4</td>\n",
       "      <td>208</td>\n",
       "      <td>186.7</td>\n",
       "      <td>191.2</td>\n",
       "      <td>187.5</td>\n",
       "      <td>216.9</td>\n",
       "    </tr>\n",
       "    <tr>\n",
       "      <th>18</th>\n",
       "      <td>Latvia</td>\n",
       "      <td>132.2</td>\n",
       "      <td>154.7</td>\n",
       "      <td>172</td>\n",
       "      <td>159.2</td>\n",
       "      <td>144.1</td>\n",
       "      <td>162.9</td>\n",
       "      <td>174.4</td>\n",
       "      <td>167.6</td>\n",
       "    </tr>\n",
       "    <tr>\n",
       "      <th>19</th>\n",
       "      <td>Lithuania</td>\n",
       "      <td>144.4</td>\n",
       "      <td>164.9</td>\n",
       "      <td>172.1</td>\n",
       "      <td>172.1</td>\n",
       "      <td>163.3</td>\n",
       "      <td>175.7</td>\n",
       "      <td>177.6</td>\n",
       "      <td>177.5</td>\n",
       "    </tr>\n",
       "    <tr>\n",
       "      <th>20</th>\n",
       "      <td>Luxembourg</td>\n",
       "      <td>115.6</td>\n",
       "      <td>119.9</td>\n",
       "      <td>116.3</td>\n",
       "      <td>137.4</td>\n",
       "      <td>121.4</td>\n",
       "      <td>125.5</td>\n",
       "      <td>123.7</td>\n",
       "      <td>141.8</td>\n",
       "    </tr>\n",
       "    <tr>\n",
       "      <th>21</th>\n",
       "      <td>Hungary</td>\n",
       "      <td>234.3</td>\n",
       "      <td>256.7</td>\n",
       "      <td>256.5</td>\n",
       "      <td>287.2</td>\n",
       "      <td>284.2</td>\n",
       "      <td>315.4</td>\n",
       "      <td>323.5</td>\n",
       "      <td>346.7</td>\n",
       "    </tr>\n",
       "    <tr>\n",
       "      <th>22</th>\n",
       "      <td>Malta</td>\n",
       "      <td>126.6</td>\n",
       "      <td>124.5</td>\n",
       "      <td>126.9</td>\n",
       "      <td>131.9</td>\n",
       "      <td>133</td>\n",
       "      <td>135.8</td>\n",
       "      <td>138.8</td>\n",
       "      <td>142.1</td>\n",
       "    </tr>\n",
       "    <tr>\n",
       "      <th>23</th>\n",
       "      <td>Netherlands</td>\n",
       "      <td>121.1</td>\n",
       "      <td>145.3</td>\n",
       "      <td>121.1</td>\n",
       "      <td>127.9</td>\n",
       "      <td>126.1</td>\n",
       "      <td>151.9</td>\n",
       "      <td>129.5</td>\n",
       "      <td>:</td>\n",
       "    </tr>\n",
       "    <tr>\n",
       "      <th>24</th>\n",
       "      <td>Austria</td>\n",
       "      <td>109.1</td>\n",
       "      <td>140.8</td>\n",
       "      <td>134.9</td>\n",
       "      <td>161.1</td>\n",
       "      <td>118</td>\n",
       "      <td>150.8</td>\n",
       "      <td>142.7</td>\n",
       "      <td>170.4</td>\n",
       "    </tr>\n",
       "    <tr>\n",
       "      <th>25</th>\n",
       "      <td>Poland</td>\n",
       "      <td>145.5</td>\n",
       "      <td>155.3</td>\n",
       "      <td>158.2</td>\n",
       "      <td>166.4</td>\n",
       "      <td>166.9</td>\n",
       "      <td>177</td>\n",
       "      <td>179.7</td>\n",
       "      <td>186.9</td>\n",
       "    </tr>\n",
       "    <tr>\n",
       "      <th>26</th>\n",
       "      <td>Portugal</td>\n",
       "      <td>102.7</td>\n",
       "      <td>111.4</td>\n",
       "      <td>113.7</td>\n",
       "      <td>124.1</td>\n",
       "      <td>110.5</td>\n",
       "      <td>119.1</td>\n",
       "      <td>120.4</td>\n",
       "      <td>129.7</td>\n",
       "    </tr>\n",
       "    <tr>\n",
       "      <th>27</th>\n",
       "      <td>Romania</td>\n",
       "      <td>271.8</td>\n",
       "      <td>293.7</td>\n",
       "      <td>299.4</td>\n",
       "      <td>309.1</td>\n",
       "      <td>308.4</td>\n",
       "      <td>328.5</td>\n",
       "      <td>339</td>\n",
       "      <td>354.8</td>\n",
       "    </tr>\n",
       "    <tr>\n",
       "      <th>28</th>\n",
       "      <td>Slovenia</td>\n",
       "      <td>120.7</td>\n",
       "      <td>125</td>\n",
       "      <td>126.7</td>\n",
       "      <td>131.2</td>\n",
       "      <td>129</td>\n",
       "      <td>133.9</td>\n",
       "      <td>135</td>\n",
       "      <td>141.7</td>\n",
       "    </tr>\n",
       "    <tr>\n",
       "      <th>29</th>\n",
       "      <td>Slovakia</td>\n",
       "      <td>123.7</td>\n",
       "      <td>133.9</td>\n",
       "      <td>140.3</td>\n",
       "      <td>142.5</td>\n",
       "      <td>123.2</td>\n",
       "      <td>129.5</td>\n",
       "      <td>132.4</td>\n",
       "      <td>138.9</td>\n",
       "    </tr>\n",
       "    <tr>\n",
       "      <th>30</th>\n",
       "      <td>Finland</td>\n",
       "      <td>114.2</td>\n",
       "      <td>134.2</td>\n",
       "      <td>134.1</td>\n",
       "      <td>136.4</td>\n",
       "      <td>122.9</td>\n",
       "      <td>141.8</td>\n",
       "      <td>144.7</td>\n",
       "      <td>138.6</td>\n",
       "    </tr>\n",
       "    <tr>\n",
       "      <th>31</th>\n",
       "      <td>Sweden</td>\n",
       "      <td>129.7</td>\n",
       "      <td>134</td>\n",
       "      <td>121.2</td>\n",
       "      <td>142.7</td>\n",
       "      <td>140</td>\n",
       "      <td>153.7</td>\n",
       "      <td>138.2</td>\n",
       "      <td>157.4</td>\n",
       "    </tr>\n",
       "    <tr>\n",
       "      <th>33</th>\n",
       "      <td>Norway</td>\n",
       "      <td>124.2</td>\n",
       "      <td>160.2</td>\n",
       "      <td>132.6</td>\n",
       "      <td>148.5</td>\n",
       "      <td>132.4</td>\n",
       "      <td>176.1</td>\n",
       "      <td>143.3</td>\n",
       "      <td>160.1</td>\n",
       "    </tr>\n",
       "    <tr>\n",
       "      <th>36</th>\n",
       "      <td>Montenegro</td>\n",
       "      <td>105.6</td>\n",
       "      <td>105.7</td>\n",
       "      <td>107.4</td>\n",
       "      <td>109.7</td>\n",
       "      <td>120.7</td>\n",
       "      <td>124.2</td>\n",
       "      <td>126.3</td>\n",
       "      <td>126.3</td>\n",
       "    </tr>\n",
       "    <tr>\n",
       "      <th>37</th>\n",
       "      <td>North Macedonia</td>\n",
       "      <td>135.5</td>\n",
       "      <td>141.2</td>\n",
       "      <td>145.2</td>\n",
       "      <td>149.6</td>\n",
       "      <td>147.1</td>\n",
       "      <td>161.6</td>\n",
       "      <td>167.3</td>\n",
       "      <td>176.1</td>\n",
       "    </tr>\n",
       "    <tr>\n",
       "      <th>38</th>\n",
       "      <td>Albania</td>\n",
       "      <td>140</td>\n",
       "      <td>141.2</td>\n",
       "      <td>140.1</td>\n",
       "      <td>143.7</td>\n",
       "      <td>160.1</td>\n",
       "      <td>160.5</td>\n",
       "      <td>165.7</td>\n",
       "      <td>168.7</td>\n",
       "    </tr>\n",
       "    <tr>\n",
       "      <th>39</th>\n",
       "      <td>Serbia</td>\n",
       "      <td>131.8</td>\n",
       "      <td>135.8</td>\n",
       "      <td>137.4</td>\n",
       "      <td>150.9</td>\n",
       "      <td>147.2</td>\n",
       "      <td>152.7</td>\n",
       "      <td>155.1</td>\n",
       "      <td>170.2</td>\n",
       "    </tr>\n",
       "    <tr>\n",
       "      <th>40</th>\n",
       "      <td>Türkiye</td>\n",
       "      <td>199.8</td>\n",
       "      <td>225.3</td>\n",
       "      <td>244.5</td>\n",
       "      <td>261.2</td>\n",
       "      <td>303.7</td>\n",
       "      <td>343.7</td>\n",
       "      <td>464.7</td>\n",
       "      <td>513.9</td>\n",
       "    </tr>\n",
       "  </tbody>\n",
       "</table>\n",
       "</div>"
      ],
      "text/plain": [
       "                                             Country 2021-Q1 2021-Q2 2021-Q3  \\\n",
       "5                                            Belgium   112.8   127.3   105.6   \n",
       "6                                           Bulgaria     131   142.4   144.5   \n",
       "7                                            Czechia   119.5   134.7   138.4   \n",
       "8                                            Denmark   133.7   145.4   135.5   \n",
       "9   Germany (until 1990 former territory of the FRG)   115.9   129.9     131   \n",
       "10                                           Estonia   135.5   151.7   163.5   \n",
       "11                                           Ireland   152.5     146     183   \n",
       "12                                            Greece    94.9    95.9   100.1   \n",
       "13                                             Spain    99.1   112.6   105.9   \n",
       "14                                            France     123   123.7   117.4   \n",
       "15                                           Croatia   122.5   123.8     126   \n",
       "16                                             Italy   106.1   123.7   118.1   \n",
       "17                                            Cyprus   172.7   181.4   178.4   \n",
       "18                                            Latvia   132.2   154.7     172   \n",
       "19                                         Lithuania   144.4   164.9   172.1   \n",
       "20                                        Luxembourg   115.6   119.9   116.3   \n",
       "21                                           Hungary   234.3   256.7   256.5   \n",
       "22                                             Malta   126.6   124.5   126.9   \n",
       "23                                       Netherlands   121.1   145.3   121.1   \n",
       "24                                           Austria   109.1   140.8   134.9   \n",
       "25                                            Poland   145.5   155.3   158.2   \n",
       "26                                          Portugal   102.7   111.4   113.7   \n",
       "27                                           Romania   271.8   293.7   299.4   \n",
       "28                                          Slovenia   120.7     125   126.7   \n",
       "29                                          Slovakia   123.7   133.9   140.3   \n",
       "30                                           Finland   114.2   134.2   134.1   \n",
       "31                                            Sweden   129.7     134   121.2   \n",
       "33                                            Norway   124.2   160.2   132.6   \n",
       "36                                        Montenegro   105.6   105.7   107.4   \n",
       "37                                   North Macedonia   135.5   141.2   145.2   \n",
       "38                                           Albania     140   141.2   140.1   \n",
       "39                                            Serbia   131.8   135.8   137.4   \n",
       "40                                           Türkiye   199.8   225.3   244.5   \n",
       "\n",
       "   2021-Q4 2022-Q1 2022-Q2 2022-Q3 2022-Q4  \n",
       "5    126.2   122.2   137.8   115.3   138.8  \n",
       "6    153.4   139.4   150.5   154.6   162.5  \n",
       "7    145.3   129.3   146.5   150.4   158.3  \n",
       "8    169.4   145.7   155.1   144.9   180.6  \n",
       "9    139.5   123.3   136.5   138.2   144.4  \n",
       "10   170.9     164   178.3     185   191.8  \n",
       "11   214.4   203.9     217   227.2   222.5  \n",
       "12     115    84.9   111.2     108   125.6  \n",
       "13   119.7   105.9   120.6   112.9   129.5  \n",
       "14   133.9   129.8   130.2   122.8   140.3  \n",
       "15   127.1   131.9   134.1   136.7   141.4  \n",
       "16   145.7     129   147.4   133.9   161.6  \n",
       "17     208   186.7   191.2   187.5   216.9  \n",
       "18   159.2   144.1   162.9   174.4   167.6  \n",
       "19   172.1   163.3   175.7   177.6   177.5  \n",
       "20   137.4   121.4   125.5   123.7   141.8  \n",
       "21   287.2   284.2   315.4   323.5   346.7  \n",
       "22   131.9     133   135.8   138.8   142.1  \n",
       "23   127.9   126.1   151.9   129.5       :  \n",
       "24   161.1     118   150.8   142.7   170.4  \n",
       "25   166.4   166.9     177   179.7   186.9  \n",
       "26   124.1   110.5   119.1   120.4   129.7  \n",
       "27   309.1   308.4   328.5     339   354.8  \n",
       "28   131.2     129   133.9     135   141.7  \n",
       "29   142.5   123.2   129.5   132.4   138.9  \n",
       "30   136.4   122.9   141.8   144.7   138.6  \n",
       "31   142.7     140   153.7   138.2   157.4  \n",
       "33   148.5   132.4   176.1   143.3   160.1  \n",
       "36   109.7   120.7   124.2   126.3   126.3  \n",
       "37   149.6   147.1   161.6   167.3   176.1  \n",
       "38   143.7   160.1   160.5   165.7   168.7  \n",
       "39   150.9   147.2   152.7   155.1   170.2  \n",
       "40   261.2   303.7   343.7   464.7   513.9  "
      ]
     },
     "metadata": {},
     "output_type": "display_data"
    }
   ],
   "source": [
    "display(wage)"
   ]
  },
  {
   "cell_type": "code",
   "execution_count": 53,
   "id": "414401a9",
   "metadata": {},
   "outputs": [],
   "source": [
    "# selecting old value\n",
    "a = wage['2022-Q4'][23]\n",
    "# selecting new value\n",
    "b = wage['2022-Q3'][23]\n",
    "# replace values of one DataFrame\n",
    "# with the value of another DataFrame\n",
    "wage = wage.replace(a,b)\n"
   ]
  },
  {
   "cell_type": "code",
   "execution_count": 55,
   "id": "2063e89b",
   "metadata": {},
   "outputs": [],
   "source": [
    "# Changing the astype from Object to Float\n",
    "wage['2021-Q1'] = wage['2021-Q1'].astype('float')\n",
    "wage['2021-Q2'] = wage['2021-Q2'].astype('float')\n",
    "wage['2021-Q3'] = wage['2021-Q3'].astype('float')\n",
    "wage['2021-Q4'] = wage['2021-Q4'].astype('float')\n",
    "wage['2022-Q1'] = wage['2022-Q1'].astype('float')\n",
    "wage['2022-Q2'] = wage['2022-Q2'].astype('float')\n",
    "wage['2022-Q3'] = wage['2022-Q3'].astype('float')\n",
    "wage['2022-Q4'] = wage['2022-Q4'].astype('float')\n"
   ]
  },
  {
   "cell_type": "code",
   "execution_count": 56,
   "id": "9ef8c24c",
   "metadata": {},
   "outputs": [
    {
     "name": "stdout",
     "output_type": "stream",
     "text": [
      "<class 'pandas.core.frame.DataFrame'>\n",
      "Int64Index: 33 entries, 5 to 40\n",
      "Data columns (total 9 columns):\n",
      " #   Column   Non-Null Count  Dtype  \n",
      "---  ------   --------------  -----  \n",
      " 0   Country  33 non-null     object \n",
      " 1   2021-Q1  33 non-null     float64\n",
      " 2   2021-Q2  33 non-null     float64\n",
      " 3   2021-Q3  33 non-null     float64\n",
      " 4   2021-Q4  33 non-null     float64\n",
      " 5   2022-Q1  33 non-null     float64\n",
      " 6   2022-Q2  33 non-null     float64\n",
      " 7   2022-Q3  33 non-null     float64\n",
      " 8   2022-Q4  33 non-null     float64\n",
      "dtypes: float64(8), object(1)\n",
      "memory usage: 3.6+ KB\n"
     ]
    }
   ],
   "source": [
    "wage.info()"
   ]
  },
  {
   "cell_type": "code",
   "execution_count": 57,
   "id": "fa9085bd",
   "metadata": {},
   "outputs": [
    {
     "data": {
      "text/html": [
       "<div>\n",
       "<style scoped>\n",
       "    .dataframe tbody tr th:only-of-type {\n",
       "        vertical-align: middle;\n",
       "    }\n",
       "\n",
       "    .dataframe tbody tr th {\n",
       "        vertical-align: top;\n",
       "    }\n",
       "\n",
       "    .dataframe thead th {\n",
       "        text-align: right;\n",
       "    }\n",
       "</style>\n",
       "<table border=\"1\" class=\"dataframe\">\n",
       "  <thead>\n",
       "    <tr style=\"text-align: right;\">\n",
       "      <th></th>\n",
       "      <th>Country</th>\n",
       "      <th>2021-Q1</th>\n",
       "      <th>2021-Q2</th>\n",
       "      <th>2021-Q3</th>\n",
       "      <th>2021-Q4</th>\n",
       "      <th>2022-Q1</th>\n",
       "      <th>2022-Q2</th>\n",
       "      <th>2022-Q3</th>\n",
       "      <th>2022-Q4</th>\n",
       "    </tr>\n",
       "  </thead>\n",
       "  <tbody>\n",
       "    <tr>\n",
       "      <th>5</th>\n",
       "      <td>Belgium</td>\n",
       "      <td>112.8</td>\n",
       "      <td>127.3</td>\n",
       "      <td>105.6</td>\n",
       "      <td>126.2</td>\n",
       "      <td>122.2</td>\n",
       "      <td>137.8</td>\n",
       "      <td>115.3</td>\n",
       "      <td>138.8</td>\n",
       "    </tr>\n",
       "    <tr>\n",
       "      <th>6</th>\n",
       "      <td>Bulgaria</td>\n",
       "      <td>131.0</td>\n",
       "      <td>142.4</td>\n",
       "      <td>144.5</td>\n",
       "      <td>153.4</td>\n",
       "      <td>139.4</td>\n",
       "      <td>150.5</td>\n",
       "      <td>154.6</td>\n",
       "      <td>162.5</td>\n",
       "    </tr>\n",
       "    <tr>\n",
       "      <th>7</th>\n",
       "      <td>Czechia</td>\n",
       "      <td>119.5</td>\n",
       "      <td>134.7</td>\n",
       "      <td>138.4</td>\n",
       "      <td>145.3</td>\n",
       "      <td>129.3</td>\n",
       "      <td>146.5</td>\n",
       "      <td>150.4</td>\n",
       "      <td>158.3</td>\n",
       "    </tr>\n",
       "    <tr>\n",
       "      <th>8</th>\n",
       "      <td>Denmark</td>\n",
       "      <td>133.7</td>\n",
       "      <td>145.4</td>\n",
       "      <td>135.5</td>\n",
       "      <td>169.4</td>\n",
       "      <td>145.7</td>\n",
       "      <td>155.1</td>\n",
       "      <td>144.9</td>\n",
       "      <td>180.6</td>\n",
       "    </tr>\n",
       "    <tr>\n",
       "      <th>9</th>\n",
       "      <td>Germany (until 1990 former territory of the FRG)</td>\n",
       "      <td>115.9</td>\n",
       "      <td>129.9</td>\n",
       "      <td>131.0</td>\n",
       "      <td>139.5</td>\n",
       "      <td>123.3</td>\n",
       "      <td>136.5</td>\n",
       "      <td>138.2</td>\n",
       "      <td>144.4</td>\n",
       "    </tr>\n",
       "    <tr>\n",
       "      <th>10</th>\n",
       "      <td>Estonia</td>\n",
       "      <td>135.5</td>\n",
       "      <td>151.7</td>\n",
       "      <td>163.5</td>\n",
       "      <td>170.9</td>\n",
       "      <td>164.0</td>\n",
       "      <td>178.3</td>\n",
       "      <td>185.0</td>\n",
       "      <td>191.8</td>\n",
       "    </tr>\n",
       "    <tr>\n",
       "      <th>11</th>\n",
       "      <td>Ireland</td>\n",
       "      <td>152.5</td>\n",
       "      <td>146.0</td>\n",
       "      <td>183.0</td>\n",
       "      <td>214.4</td>\n",
       "      <td>203.9</td>\n",
       "      <td>217.0</td>\n",
       "      <td>227.2</td>\n",
       "      <td>222.5</td>\n",
       "    </tr>\n",
       "    <tr>\n",
       "      <th>12</th>\n",
       "      <td>Greece</td>\n",
       "      <td>94.9</td>\n",
       "      <td>95.9</td>\n",
       "      <td>100.1</td>\n",
       "      <td>115.0</td>\n",
       "      <td>84.9</td>\n",
       "      <td>111.2</td>\n",
       "      <td>108.0</td>\n",
       "      <td>125.6</td>\n",
       "    </tr>\n",
       "    <tr>\n",
       "      <th>13</th>\n",
       "      <td>Spain</td>\n",
       "      <td>99.1</td>\n",
       "      <td>112.6</td>\n",
       "      <td>105.9</td>\n",
       "      <td>119.7</td>\n",
       "      <td>105.9</td>\n",
       "      <td>120.6</td>\n",
       "      <td>112.9</td>\n",
       "      <td>129.5</td>\n",
       "    </tr>\n",
       "    <tr>\n",
       "      <th>14</th>\n",
       "      <td>France</td>\n",
       "      <td>123.0</td>\n",
       "      <td>123.7</td>\n",
       "      <td>117.4</td>\n",
       "      <td>133.9</td>\n",
       "      <td>129.8</td>\n",
       "      <td>130.2</td>\n",
       "      <td>122.8</td>\n",
       "      <td>140.3</td>\n",
       "    </tr>\n",
       "    <tr>\n",
       "      <th>15</th>\n",
       "      <td>Croatia</td>\n",
       "      <td>122.5</td>\n",
       "      <td>123.8</td>\n",
       "      <td>126.0</td>\n",
       "      <td>127.1</td>\n",
       "      <td>131.9</td>\n",
       "      <td>134.1</td>\n",
       "      <td>136.7</td>\n",
       "      <td>141.4</td>\n",
       "    </tr>\n",
       "    <tr>\n",
       "      <th>16</th>\n",
       "      <td>Italy</td>\n",
       "      <td>106.1</td>\n",
       "      <td>123.7</td>\n",
       "      <td>118.1</td>\n",
       "      <td>145.7</td>\n",
       "      <td>129.0</td>\n",
       "      <td>147.4</td>\n",
       "      <td>133.9</td>\n",
       "      <td>161.6</td>\n",
       "    </tr>\n",
       "    <tr>\n",
       "      <th>17</th>\n",
       "      <td>Cyprus</td>\n",
       "      <td>172.7</td>\n",
       "      <td>181.4</td>\n",
       "      <td>178.4</td>\n",
       "      <td>208.0</td>\n",
       "      <td>186.7</td>\n",
       "      <td>191.2</td>\n",
       "      <td>187.5</td>\n",
       "      <td>216.9</td>\n",
       "    </tr>\n",
       "    <tr>\n",
       "      <th>18</th>\n",
       "      <td>Latvia</td>\n",
       "      <td>132.2</td>\n",
       "      <td>154.7</td>\n",
       "      <td>172.0</td>\n",
       "      <td>159.2</td>\n",
       "      <td>144.1</td>\n",
       "      <td>162.9</td>\n",
       "      <td>174.4</td>\n",
       "      <td>167.6</td>\n",
       "    </tr>\n",
       "    <tr>\n",
       "      <th>19</th>\n",
       "      <td>Lithuania</td>\n",
       "      <td>144.4</td>\n",
       "      <td>164.9</td>\n",
       "      <td>172.1</td>\n",
       "      <td>172.1</td>\n",
       "      <td>163.3</td>\n",
       "      <td>175.7</td>\n",
       "      <td>177.6</td>\n",
       "      <td>177.5</td>\n",
       "    </tr>\n",
       "    <tr>\n",
       "      <th>20</th>\n",
       "      <td>Luxembourg</td>\n",
       "      <td>115.6</td>\n",
       "      <td>119.9</td>\n",
       "      <td>116.3</td>\n",
       "      <td>137.4</td>\n",
       "      <td>121.4</td>\n",
       "      <td>125.5</td>\n",
       "      <td>123.7</td>\n",
       "      <td>141.8</td>\n",
       "    </tr>\n",
       "    <tr>\n",
       "      <th>21</th>\n",
       "      <td>Hungary</td>\n",
       "      <td>234.3</td>\n",
       "      <td>256.7</td>\n",
       "      <td>256.5</td>\n",
       "      <td>287.2</td>\n",
       "      <td>284.2</td>\n",
       "      <td>315.4</td>\n",
       "      <td>323.5</td>\n",
       "      <td>346.7</td>\n",
       "    </tr>\n",
       "    <tr>\n",
       "      <th>22</th>\n",
       "      <td>Malta</td>\n",
       "      <td>126.6</td>\n",
       "      <td>124.5</td>\n",
       "      <td>126.9</td>\n",
       "      <td>131.9</td>\n",
       "      <td>133.0</td>\n",
       "      <td>135.8</td>\n",
       "      <td>138.8</td>\n",
       "      <td>142.1</td>\n",
       "    </tr>\n",
       "    <tr>\n",
       "      <th>23</th>\n",
       "      <td>Netherlands</td>\n",
       "      <td>121.1</td>\n",
       "      <td>145.3</td>\n",
       "      <td>121.1</td>\n",
       "      <td>127.9</td>\n",
       "      <td>126.1</td>\n",
       "      <td>151.9</td>\n",
       "      <td>129.5</td>\n",
       "      <td>129.5</td>\n",
       "    </tr>\n",
       "    <tr>\n",
       "      <th>24</th>\n",
       "      <td>Austria</td>\n",
       "      <td>109.1</td>\n",
       "      <td>140.8</td>\n",
       "      <td>134.9</td>\n",
       "      <td>161.1</td>\n",
       "      <td>118.0</td>\n",
       "      <td>150.8</td>\n",
       "      <td>142.7</td>\n",
       "      <td>170.4</td>\n",
       "    </tr>\n",
       "    <tr>\n",
       "      <th>25</th>\n",
       "      <td>Poland</td>\n",
       "      <td>145.5</td>\n",
       "      <td>155.3</td>\n",
       "      <td>158.2</td>\n",
       "      <td>166.4</td>\n",
       "      <td>166.9</td>\n",
       "      <td>177.0</td>\n",
       "      <td>179.7</td>\n",
       "      <td>186.9</td>\n",
       "    </tr>\n",
       "    <tr>\n",
       "      <th>26</th>\n",
       "      <td>Portugal</td>\n",
       "      <td>102.7</td>\n",
       "      <td>111.4</td>\n",
       "      <td>113.7</td>\n",
       "      <td>124.1</td>\n",
       "      <td>110.5</td>\n",
       "      <td>119.1</td>\n",
       "      <td>120.4</td>\n",
       "      <td>129.7</td>\n",
       "    </tr>\n",
       "    <tr>\n",
       "      <th>27</th>\n",
       "      <td>Romania</td>\n",
       "      <td>271.8</td>\n",
       "      <td>293.7</td>\n",
       "      <td>299.4</td>\n",
       "      <td>309.1</td>\n",
       "      <td>308.4</td>\n",
       "      <td>328.5</td>\n",
       "      <td>339.0</td>\n",
       "      <td>354.8</td>\n",
       "    </tr>\n",
       "    <tr>\n",
       "      <th>28</th>\n",
       "      <td>Slovenia</td>\n",
       "      <td>120.7</td>\n",
       "      <td>125.0</td>\n",
       "      <td>126.7</td>\n",
       "      <td>131.2</td>\n",
       "      <td>129.0</td>\n",
       "      <td>133.9</td>\n",
       "      <td>135.0</td>\n",
       "      <td>141.7</td>\n",
       "    </tr>\n",
       "    <tr>\n",
       "      <th>29</th>\n",
       "      <td>Slovakia</td>\n",
       "      <td>123.7</td>\n",
       "      <td>133.9</td>\n",
       "      <td>140.3</td>\n",
       "      <td>142.5</td>\n",
       "      <td>123.2</td>\n",
       "      <td>129.5</td>\n",
       "      <td>132.4</td>\n",
       "      <td>138.9</td>\n",
       "    </tr>\n",
       "    <tr>\n",
       "      <th>30</th>\n",
       "      <td>Finland</td>\n",
       "      <td>114.2</td>\n",
       "      <td>134.2</td>\n",
       "      <td>134.1</td>\n",
       "      <td>136.4</td>\n",
       "      <td>122.9</td>\n",
       "      <td>141.8</td>\n",
       "      <td>144.7</td>\n",
       "      <td>138.6</td>\n",
       "    </tr>\n",
       "    <tr>\n",
       "      <th>31</th>\n",
       "      <td>Sweden</td>\n",
       "      <td>129.7</td>\n",
       "      <td>134.0</td>\n",
       "      <td>121.2</td>\n",
       "      <td>142.7</td>\n",
       "      <td>140.0</td>\n",
       "      <td>153.7</td>\n",
       "      <td>138.2</td>\n",
       "      <td>157.4</td>\n",
       "    </tr>\n",
       "    <tr>\n",
       "      <th>33</th>\n",
       "      <td>Norway</td>\n",
       "      <td>124.2</td>\n",
       "      <td>160.2</td>\n",
       "      <td>132.6</td>\n",
       "      <td>148.5</td>\n",
       "      <td>132.4</td>\n",
       "      <td>176.1</td>\n",
       "      <td>143.3</td>\n",
       "      <td>160.1</td>\n",
       "    </tr>\n",
       "    <tr>\n",
       "      <th>36</th>\n",
       "      <td>Montenegro</td>\n",
       "      <td>105.6</td>\n",
       "      <td>105.7</td>\n",
       "      <td>107.4</td>\n",
       "      <td>109.7</td>\n",
       "      <td>120.7</td>\n",
       "      <td>124.2</td>\n",
       "      <td>126.3</td>\n",
       "      <td>126.3</td>\n",
       "    </tr>\n",
       "    <tr>\n",
       "      <th>37</th>\n",
       "      <td>North Macedonia</td>\n",
       "      <td>135.5</td>\n",
       "      <td>141.2</td>\n",
       "      <td>145.2</td>\n",
       "      <td>149.6</td>\n",
       "      <td>147.1</td>\n",
       "      <td>161.6</td>\n",
       "      <td>167.3</td>\n",
       "      <td>176.1</td>\n",
       "    </tr>\n",
       "    <tr>\n",
       "      <th>38</th>\n",
       "      <td>Albania</td>\n",
       "      <td>140.0</td>\n",
       "      <td>141.2</td>\n",
       "      <td>140.1</td>\n",
       "      <td>143.7</td>\n",
       "      <td>160.1</td>\n",
       "      <td>160.5</td>\n",
       "      <td>165.7</td>\n",
       "      <td>168.7</td>\n",
       "    </tr>\n",
       "    <tr>\n",
       "      <th>39</th>\n",
       "      <td>Serbia</td>\n",
       "      <td>131.8</td>\n",
       "      <td>135.8</td>\n",
       "      <td>137.4</td>\n",
       "      <td>150.9</td>\n",
       "      <td>147.2</td>\n",
       "      <td>152.7</td>\n",
       "      <td>155.1</td>\n",
       "      <td>170.2</td>\n",
       "    </tr>\n",
       "    <tr>\n",
       "      <th>40</th>\n",
       "      <td>Türkiye</td>\n",
       "      <td>199.8</td>\n",
       "      <td>225.3</td>\n",
       "      <td>244.5</td>\n",
       "      <td>261.2</td>\n",
       "      <td>303.7</td>\n",
       "      <td>343.7</td>\n",
       "      <td>464.7</td>\n",
       "      <td>513.9</td>\n",
       "    </tr>\n",
       "  </tbody>\n",
       "</table>\n",
       "</div>"
      ],
      "text/plain": [
       "                                             Country  2021-Q1  2021-Q2  \\\n",
       "5                                            Belgium    112.8    127.3   \n",
       "6                                           Bulgaria    131.0    142.4   \n",
       "7                                            Czechia    119.5    134.7   \n",
       "8                                            Denmark    133.7    145.4   \n",
       "9   Germany (until 1990 former territory of the FRG)    115.9    129.9   \n",
       "10                                           Estonia    135.5    151.7   \n",
       "11                                           Ireland    152.5    146.0   \n",
       "12                                            Greece     94.9     95.9   \n",
       "13                                             Spain     99.1    112.6   \n",
       "14                                            France    123.0    123.7   \n",
       "15                                           Croatia    122.5    123.8   \n",
       "16                                             Italy    106.1    123.7   \n",
       "17                                            Cyprus    172.7    181.4   \n",
       "18                                            Latvia    132.2    154.7   \n",
       "19                                         Lithuania    144.4    164.9   \n",
       "20                                        Luxembourg    115.6    119.9   \n",
       "21                                           Hungary    234.3    256.7   \n",
       "22                                             Malta    126.6    124.5   \n",
       "23                                       Netherlands    121.1    145.3   \n",
       "24                                           Austria    109.1    140.8   \n",
       "25                                            Poland    145.5    155.3   \n",
       "26                                          Portugal    102.7    111.4   \n",
       "27                                           Romania    271.8    293.7   \n",
       "28                                          Slovenia    120.7    125.0   \n",
       "29                                          Slovakia    123.7    133.9   \n",
       "30                                           Finland    114.2    134.2   \n",
       "31                                            Sweden    129.7    134.0   \n",
       "33                                            Norway    124.2    160.2   \n",
       "36                                        Montenegro    105.6    105.7   \n",
       "37                                   North Macedonia    135.5    141.2   \n",
       "38                                           Albania    140.0    141.2   \n",
       "39                                            Serbia    131.8    135.8   \n",
       "40                                           Türkiye    199.8    225.3   \n",
       "\n",
       "    2021-Q3  2021-Q4  2022-Q1  2022-Q2  2022-Q3  2022-Q4  \n",
       "5     105.6    126.2    122.2    137.8    115.3    138.8  \n",
       "6     144.5    153.4    139.4    150.5    154.6    162.5  \n",
       "7     138.4    145.3    129.3    146.5    150.4    158.3  \n",
       "8     135.5    169.4    145.7    155.1    144.9    180.6  \n",
       "9     131.0    139.5    123.3    136.5    138.2    144.4  \n",
       "10    163.5    170.9    164.0    178.3    185.0    191.8  \n",
       "11    183.0    214.4    203.9    217.0    227.2    222.5  \n",
       "12    100.1    115.0     84.9    111.2    108.0    125.6  \n",
       "13    105.9    119.7    105.9    120.6    112.9    129.5  \n",
       "14    117.4    133.9    129.8    130.2    122.8    140.3  \n",
       "15    126.0    127.1    131.9    134.1    136.7    141.4  \n",
       "16    118.1    145.7    129.0    147.4    133.9    161.6  \n",
       "17    178.4    208.0    186.7    191.2    187.5    216.9  \n",
       "18    172.0    159.2    144.1    162.9    174.4    167.6  \n",
       "19    172.1    172.1    163.3    175.7    177.6    177.5  \n",
       "20    116.3    137.4    121.4    125.5    123.7    141.8  \n",
       "21    256.5    287.2    284.2    315.4    323.5    346.7  \n",
       "22    126.9    131.9    133.0    135.8    138.8    142.1  \n",
       "23    121.1    127.9    126.1    151.9    129.5    129.5  \n",
       "24    134.9    161.1    118.0    150.8    142.7    170.4  \n",
       "25    158.2    166.4    166.9    177.0    179.7    186.9  \n",
       "26    113.7    124.1    110.5    119.1    120.4    129.7  \n",
       "27    299.4    309.1    308.4    328.5    339.0    354.8  \n",
       "28    126.7    131.2    129.0    133.9    135.0    141.7  \n",
       "29    140.3    142.5    123.2    129.5    132.4    138.9  \n",
       "30    134.1    136.4    122.9    141.8    144.7    138.6  \n",
       "31    121.2    142.7    140.0    153.7    138.2    157.4  \n",
       "33    132.6    148.5    132.4    176.1    143.3    160.1  \n",
       "36    107.4    109.7    120.7    124.2    126.3    126.3  \n",
       "37    145.2    149.6    147.1    161.6    167.3    176.1  \n",
       "38    140.1    143.7    160.1    160.5    165.7    168.7  \n",
       "39    137.4    150.9    147.2    152.7    155.1    170.2  \n",
       "40    244.5    261.2    303.7    343.7    464.7    513.9  "
      ]
     },
     "metadata": {},
     "output_type": "display_data"
    }
   ],
   "source": [
    "display(wage)"
   ]
  },
  {
   "cell_type": "code",
   "execution_count": 58,
   "id": "518769f5",
   "metadata": {},
   "outputs": [
    {
     "data": {
      "text/html": [
       "<div>\n",
       "<style scoped>\n",
       "    .dataframe tbody tr th:only-of-type {\n",
       "        vertical-align: middle;\n",
       "    }\n",
       "\n",
       "    .dataframe tbody tr th {\n",
       "        vertical-align: top;\n",
       "    }\n",
       "\n",
       "    .dataframe thead th {\n",
       "        text-align: right;\n",
       "    }\n",
       "</style>\n",
       "<table border=\"1\" class=\"dataframe\">\n",
       "  <thead>\n",
       "    <tr style=\"text-align: right;\">\n",
       "      <th></th>\n",
       "      <th>2021-Q1</th>\n",
       "      <th>2021-Q2</th>\n",
       "      <th>2021-Q3</th>\n",
       "      <th>2021-Q4</th>\n",
       "      <th>2022-Q1</th>\n",
       "      <th>2022-Q2</th>\n",
       "      <th>2022-Q3</th>\n",
       "      <th>2022-Q4</th>\n",
       "    </tr>\n",
       "  </thead>\n",
       "  <tbody>\n",
       "    <tr>\n",
       "      <th>count</th>\n",
       "      <td>33.000000</td>\n",
       "      <td>33.000000</td>\n",
       "      <td>33.000000</td>\n",
       "      <td>33.000000</td>\n",
       "      <td>33.000000</td>\n",
       "      <td>33.000000</td>\n",
       "      <td>33.000000</td>\n",
       "      <td>33.000000</td>\n",
       "    </tr>\n",
       "    <tr>\n",
       "      <th>mean</th>\n",
       "      <td>134.778788</td>\n",
       "      <td>146.733333</td>\n",
       "      <td>146.909091</td>\n",
       "      <td>159.433333</td>\n",
       "      <td>151.460606</td>\n",
       "      <td>165.960606</td>\n",
       "      <td>167.860606</td>\n",
       "      <td>180.396970</td>\n",
       "    </tr>\n",
       "    <tr>\n",
       "      <th>std</th>\n",
       "      <td>37.088532</td>\n",
       "      <td>40.782622</td>\n",
       "      <td>44.497341</td>\n",
       "      <td>46.927908</td>\n",
       "      <td>52.602881</td>\n",
       "      <td>57.114791</td>\n",
       "      <td>73.933437</td>\n",
       "      <td>79.641146</td>\n",
       "    </tr>\n",
       "    <tr>\n",
       "      <th>min</th>\n",
       "      <td>94.900000</td>\n",
       "      <td>95.900000</td>\n",
       "      <td>100.100000</td>\n",
       "      <td>109.700000</td>\n",
       "      <td>84.900000</td>\n",
       "      <td>111.200000</td>\n",
       "      <td>108.000000</td>\n",
       "      <td>125.600000</td>\n",
       "    </tr>\n",
       "    <tr>\n",
       "      <th>25%</th>\n",
       "      <td>115.600000</td>\n",
       "      <td>124.500000</td>\n",
       "      <td>121.100000</td>\n",
       "      <td>131.900000</td>\n",
       "      <td>123.200000</td>\n",
       "      <td>134.100000</td>\n",
       "      <td>132.400000</td>\n",
       "      <td>140.300000</td>\n",
       "    </tr>\n",
       "    <tr>\n",
       "      <th>50%</th>\n",
       "      <td>124.200000</td>\n",
       "      <td>135.800000</td>\n",
       "      <td>134.900000</td>\n",
       "      <td>145.300000</td>\n",
       "      <td>132.400000</td>\n",
       "      <td>150.800000</td>\n",
       "      <td>143.300000</td>\n",
       "      <td>160.100000</td>\n",
       "    </tr>\n",
       "    <tr>\n",
       "      <th>75%</th>\n",
       "      <td>135.500000</td>\n",
       "      <td>151.700000</td>\n",
       "      <td>158.200000</td>\n",
       "      <td>166.400000</td>\n",
       "      <td>160.100000</td>\n",
       "      <td>175.700000</td>\n",
       "      <td>174.400000</td>\n",
       "      <td>177.500000</td>\n",
       "    </tr>\n",
       "    <tr>\n",
       "      <th>max</th>\n",
       "      <td>271.800000</td>\n",
       "      <td>293.700000</td>\n",
       "      <td>299.400000</td>\n",
       "      <td>309.100000</td>\n",
       "      <td>308.400000</td>\n",
       "      <td>343.700000</td>\n",
       "      <td>464.700000</td>\n",
       "      <td>513.900000</td>\n",
       "    </tr>\n",
       "  </tbody>\n",
       "</table>\n",
       "</div>"
      ],
      "text/plain": [
       "          2021-Q1     2021-Q2     2021-Q3     2021-Q4     2022-Q1     2022-Q2  \\\n",
       "count   33.000000   33.000000   33.000000   33.000000   33.000000   33.000000   \n",
       "mean   134.778788  146.733333  146.909091  159.433333  151.460606  165.960606   \n",
       "std     37.088532   40.782622   44.497341   46.927908   52.602881   57.114791   \n",
       "min     94.900000   95.900000  100.100000  109.700000   84.900000  111.200000   \n",
       "25%    115.600000  124.500000  121.100000  131.900000  123.200000  134.100000   \n",
       "50%    124.200000  135.800000  134.900000  145.300000  132.400000  150.800000   \n",
       "75%    135.500000  151.700000  158.200000  166.400000  160.100000  175.700000   \n",
       "max    271.800000  293.700000  299.400000  309.100000  308.400000  343.700000   \n",
       "\n",
       "          2022-Q3     2022-Q4  \n",
       "count   33.000000   33.000000  \n",
       "mean   167.860606  180.396970  \n",
       "std     73.933437   79.641146  \n",
       "min    108.000000  125.600000  \n",
       "25%    132.400000  140.300000  \n",
       "50%    143.300000  160.100000  \n",
       "75%    174.400000  177.500000  \n",
       "max    464.700000  513.900000  "
      ]
     },
     "execution_count": 58,
     "metadata": {},
     "output_type": "execute_result"
    }
   ],
   "source": [
    " wage.describe()"
   ]
  },
  {
   "cell_type": "code",
   "execution_count": 87,
   "id": "2e90addf",
   "metadata": {},
   "outputs": [
    {
     "data": {
      "text/html": [
       "<div>\n",
       "<style scoped>\n",
       "    .dataframe tbody tr th:only-of-type {\n",
       "        vertical-align: middle;\n",
       "    }\n",
       "\n",
       "    .dataframe tbody tr th {\n",
       "        vertical-align: top;\n",
       "    }\n",
       "\n",
       "    .dataframe thead th {\n",
       "        text-align: right;\n",
       "    }\n",
       "</style>\n",
       "<table border=\"1\" class=\"dataframe\">\n",
       "  <thead>\n",
       "    <tr style=\"text-align: right;\">\n",
       "      <th></th>\n",
       "      <th>2021-Q1</th>\n",
       "      <th>2021-Q2</th>\n",
       "      <th>2021-Q3</th>\n",
       "      <th>2021-Q4</th>\n",
       "      <th>2022-Q1</th>\n",
       "      <th>2022-Q2</th>\n",
       "      <th>2022-Q3</th>\n",
       "      <th>2022-Q4</th>\n",
       "      <th>total_quarter_2021</th>\n",
       "      <th>total_quarter_2022</th>\n",
       "    </tr>\n",
       "  </thead>\n",
       "  <tbody>\n",
       "    <tr>\n",
       "      <th>2021-Q1</th>\n",
       "      <td>1.000000</td>\n",
       "      <td>0.970485</td>\n",
       "      <td>0.964500</td>\n",
       "      <td>0.956880</td>\n",
       "      <td>0.958621</td>\n",
       "      <td>0.931198</td>\n",
       "      <td>0.858201</td>\n",
       "      <td>0.838013</td>\n",
       "      <td>0.985061</td>\n",
       "      <td>0.899295</td>\n",
       "    </tr>\n",
       "    <tr>\n",
       "      <th>2021-Q2</th>\n",
       "      <td>0.970485</td>\n",
       "      <td>1.000000</td>\n",
       "      <td>0.963850</td>\n",
       "      <td>0.953628</td>\n",
       "      <td>0.935366</td>\n",
       "      <td>0.943144</td>\n",
       "      <td>0.860150</td>\n",
       "      <td>0.846607</td>\n",
       "      <td>0.984627</td>\n",
       "      <td>0.900401</td>\n",
       "    </tr>\n",
       "    <tr>\n",
       "      <th>2021-Q3</th>\n",
       "      <td>0.964500</td>\n",
       "      <td>0.963850</td>\n",
       "      <td>1.000000</td>\n",
       "      <td>0.973102</td>\n",
       "      <td>0.960430</td>\n",
       "      <td>0.951892</td>\n",
       "      <td>0.909058</td>\n",
       "      <td>0.877200</td>\n",
       "      <td>0.989575</td>\n",
       "      <td>0.930674</td>\n",
       "    </tr>\n",
       "    <tr>\n",
       "      <th>2021-Q4</th>\n",
       "      <td>0.956880</td>\n",
       "      <td>0.953628</td>\n",
       "      <td>0.973102</td>\n",
       "      <td>1.000000</td>\n",
       "      <td>0.962965</td>\n",
       "      <td>0.960566</td>\n",
       "      <td>0.899684</td>\n",
       "      <td>0.892119</td>\n",
       "      <td>0.985777</td>\n",
       "      <td>0.934997</td>\n",
       "    </tr>\n",
       "    <tr>\n",
       "      <th>2022-Q1</th>\n",
       "      <td>0.958621</td>\n",
       "      <td>0.935366</td>\n",
       "      <td>0.960430</td>\n",
       "      <td>0.962965</td>\n",
       "      <td>1.000000</td>\n",
       "      <td>0.983457</td>\n",
       "      <td>0.956319</td>\n",
       "      <td>0.940261</td>\n",
       "      <td>0.967919</td>\n",
       "      <td>0.978372</td>\n",
       "    </tr>\n",
       "    <tr>\n",
       "      <th>2022-Q2</th>\n",
       "      <td>0.931198</td>\n",
       "      <td>0.943144</td>\n",
       "      <td>0.951892</td>\n",
       "      <td>0.960566</td>\n",
       "      <td>0.983457</td>\n",
       "      <td>1.000000</td>\n",
       "      <td>0.967085</td>\n",
       "      <td>0.957125</td>\n",
       "      <td>0.960778</td>\n",
       "      <td>0.986887</td>\n",
       "    </tr>\n",
       "    <tr>\n",
       "      <th>2022-Q3</th>\n",
       "      <td>0.858201</td>\n",
       "      <td>0.860150</td>\n",
       "      <td>0.909058</td>\n",
       "      <td>0.899684</td>\n",
       "      <td>0.956319</td>\n",
       "      <td>0.967085</td>\n",
       "      <td>1.000000</td>\n",
       "      <td>0.989483</td>\n",
       "      <td>0.895771</td>\n",
       "      <td>0.993437</td>\n",
       "    </tr>\n",
       "    <tr>\n",
       "      <th>2022-Q4</th>\n",
       "      <td>0.838013</td>\n",
       "      <td>0.846607</td>\n",
       "      <td>0.877200</td>\n",
       "      <td>0.892119</td>\n",
       "      <td>0.940261</td>\n",
       "      <td>0.957125</td>\n",
       "      <td>0.989483</td>\n",
       "      <td>1.000000</td>\n",
       "      <td>0.877364</td>\n",
       "      <td>0.988231</td>\n",
       "    </tr>\n",
       "    <tr>\n",
       "      <th>total_quarter_2021</th>\n",
       "      <td>0.985061</td>\n",
       "      <td>0.984627</td>\n",
       "      <td>0.989575</td>\n",
       "      <td>0.985777</td>\n",
       "      <td>0.967919</td>\n",
       "      <td>0.960778</td>\n",
       "      <td>0.895771</td>\n",
       "      <td>0.877364</td>\n",
       "      <td>1.000000</td>\n",
       "      <td>0.930413</td>\n",
       "    </tr>\n",
       "    <tr>\n",
       "      <th>total_quarter_2022</th>\n",
       "      <td>0.899295</td>\n",
       "      <td>0.900401</td>\n",
       "      <td>0.930674</td>\n",
       "      <td>0.934997</td>\n",
       "      <td>0.978372</td>\n",
       "      <td>0.986887</td>\n",
       "      <td>0.993437</td>\n",
       "      <td>0.988231</td>\n",
       "      <td>0.930413</td>\n",
       "      <td>1.000000</td>\n",
       "    </tr>\n",
       "  </tbody>\n",
       "</table>\n",
       "</div>"
      ],
      "text/plain": [
       "                     2021-Q1   2021-Q2   2021-Q3   2021-Q4   2022-Q1  \\\n",
       "2021-Q1             1.000000  0.970485  0.964500  0.956880  0.958621   \n",
       "2021-Q2             0.970485  1.000000  0.963850  0.953628  0.935366   \n",
       "2021-Q3             0.964500  0.963850  1.000000  0.973102  0.960430   \n",
       "2021-Q4             0.956880  0.953628  0.973102  1.000000  0.962965   \n",
       "2022-Q1             0.958621  0.935366  0.960430  0.962965  1.000000   \n",
       "2022-Q2             0.931198  0.943144  0.951892  0.960566  0.983457   \n",
       "2022-Q3             0.858201  0.860150  0.909058  0.899684  0.956319   \n",
       "2022-Q4             0.838013  0.846607  0.877200  0.892119  0.940261   \n",
       "total_quarter_2021  0.985061  0.984627  0.989575  0.985777  0.967919   \n",
       "total_quarter_2022  0.899295  0.900401  0.930674  0.934997  0.978372   \n",
       "\n",
       "                     2022-Q2   2022-Q3   2022-Q4  total_quarter_2021  \\\n",
       "2021-Q1             0.931198  0.858201  0.838013            0.985061   \n",
       "2021-Q2             0.943144  0.860150  0.846607            0.984627   \n",
       "2021-Q3             0.951892  0.909058  0.877200            0.989575   \n",
       "2021-Q4             0.960566  0.899684  0.892119            0.985777   \n",
       "2022-Q1             0.983457  0.956319  0.940261            0.967919   \n",
       "2022-Q2             1.000000  0.967085  0.957125            0.960778   \n",
       "2022-Q3             0.967085  1.000000  0.989483            0.895771   \n",
       "2022-Q4             0.957125  0.989483  1.000000            0.877364   \n",
       "total_quarter_2021  0.960778  0.895771  0.877364            1.000000   \n",
       "total_quarter_2022  0.986887  0.993437  0.988231            0.930413   \n",
       "\n",
       "                    total_quarter_2022  \n",
       "2021-Q1                       0.899295  \n",
       "2021-Q2                       0.900401  \n",
       "2021-Q3                       0.930674  \n",
       "2021-Q4                       0.934997  \n",
       "2022-Q1                       0.978372  \n",
       "2022-Q2                       0.986887  \n",
       "2022-Q3                       0.993437  \n",
       "2022-Q4                       0.988231  \n",
       "total_quarter_2021            0.930413  \n",
       "total_quarter_2022            1.000000  "
      ]
     },
     "execution_count": 87,
     "metadata": {},
     "output_type": "execute_result"
    }
   ],
   "source": [
    "# Checking correlation\n",
    "corr = wage.corr()\n",
    "corr"
   ]
  },
  {
   "cell_type": "code",
   "execution_count": 88,
   "id": "f7def8a3",
   "metadata": {},
   "outputs": [
    {
     "data": {
      "text/plain": [
       "<AxesSubplot:>"
      ]
     },
     "execution_count": 88,
     "metadata": {},
     "output_type": "execute_result"
    },
    {
     "data": {
      "image/png": "[encoded data removed]",
      "text/plain": [
       "<Figure size 1500x1000 with 2 Axes>"
      ]
     },
     "metadata": {},
     "output_type": "display_data"
    }
   ],
   "source": [
    "# checking the correlation betrween the variable -  dark blue means a strong correlation, while white means 0 correlation\n",
    "plt.figure(figsize = (15, 10))\n",
    "sns.heatmap(data=corr, annot=True,cmap = 'Blues')\n"
   ]
  },
  {
   "cell_type": "code",
   "execution_count": 90,
   "id": "c3872da9",
   "metadata": {},
   "outputs": [
    {
     "data": {
      "text/plain": [
       "array([[<AxesSubplot:title={'center':'2021-Q1'}>,\n",
       "        <AxesSubplot:title={'center':'2021-Q2'}>,\n",
       "        <AxesSubplot:title={'center':'2021-Q3'}>],\n",
       "       [<AxesSubplot:title={'center':'2021-Q4'}>,\n",
       "        <AxesSubplot:title={'center':'2022-Q1'}>,\n",
       "        <AxesSubplot:title={'center':'2022-Q2'}>],\n",
       "       [<AxesSubplot:title={'center':'2022-Q3'}>,\n",
       "        <AxesSubplot:title={'center':'2022-Q4'}>,\n",
       "        <AxesSubplot:title={'center':'total_quarter_2021'}>],\n",
       "       [<AxesSubplot:title={'center':'total_quarter_2022'}>,\n",
       "        <AxesSubplot:>, <AxesSubplot:>]], dtype=object)"
      ]
     },
     "execution_count": 90,
     "metadata": {},
     "output_type": "execute_result"
    },
    {
     "data": {
      "image/png": "[encoded data removed]",
      "text/plain": [
       "<Figure size 3500x2000 with 12 Axes>"
      ]
     },
     "metadata": {},
     "output_type": "display_data"
    }
   ],
   "source": [
    "# Using histogram to show how the information is splitting the values\n",
    "wage.hist(bins = 40, figsize=(35,20)) "
   ]
  },
  {
   "cell_type": "code",
   "execution_count": 91,
   "id": "76f19b6b",
   "metadata": {},
   "outputs": [
    {
     "data": {
      "text/plain": [
       "<AxesSubplot:xlabel='Country', ylabel='total_quarter_2021'>"
      ]
     },
     "execution_count": 91,
     "metadata": {},
     "output_type": "execute_result"
    },
    {
     "data": {
      "image/png": "[encoded data removed]",
      "text/plain": [
       "<Figure size 1000x600 with 1 Axes>"
      ]
     },
     "metadata": {},
     "output_type": "display_data"
    }
   ],
   "source": [
    "# Getting information from column Dublin, and I could see the prices increasing gradually\n",
    "plt.figure(figsize=(10,6))\n",
    "plt.xticks(rotation = 50)\n",
    "sns.barplot(wage.Country, wage.total_quarter_2021 )"
   ]
  },
  {
   "cell_type": "code",
   "execution_count": 61,
   "id": "4bcae115",
   "metadata": {},
   "outputs": [],
   "source": [
    "ireland = wage[wage.Country == 'Ireland']\n",
    "portugal = wage[wage.Country == 'Portugal']"
   ]
  },
  {
   "cell_type": "code",
   "execution_count": 62,
   "id": "7dcf1e63",
   "metadata": {},
   "outputs": [
    {
     "data": {
      "text/html": [
       "<div>\n",
       "<style scoped>\n",
       "    .dataframe tbody tr th:only-of-type {\n",
       "        vertical-align: middle;\n",
       "    }\n",
       "\n",
       "    .dataframe tbody tr th {\n",
       "        vertical-align: top;\n",
       "    }\n",
       "\n",
       "    .dataframe thead th {\n",
       "        text-align: right;\n",
       "    }\n",
       "</style>\n",
       "<table border=\"1\" class=\"dataframe\">\n",
       "  <thead>\n",
       "    <tr style=\"text-align: right;\">\n",
       "      <th></th>\n",
       "      <th>Country</th>\n",
       "      <th>2021-Q1</th>\n",
       "      <th>2021-Q2</th>\n",
       "      <th>2021-Q3</th>\n",
       "      <th>2021-Q4</th>\n",
       "      <th>2022-Q1</th>\n",
       "      <th>2022-Q2</th>\n",
       "      <th>2022-Q3</th>\n",
       "      <th>2022-Q4</th>\n",
       "    </tr>\n",
       "  </thead>\n",
       "  <tbody>\n",
       "    <tr>\n",
       "      <th>11</th>\n",
       "      <td>Ireland</td>\n",
       "      <td>152.5</td>\n",
       "      <td>146.0</td>\n",
       "      <td>183.0</td>\n",
       "      <td>214.4</td>\n",
       "      <td>203.9</td>\n",
       "      <td>217.0</td>\n",
       "      <td>227.2</td>\n",
       "      <td>222.5</td>\n",
       "    </tr>\n",
       "  </tbody>\n",
       "</table>\n",
       "</div>"
      ],
      "text/plain": [
       "    Country  2021-Q1  2021-Q2  2021-Q3  2021-Q4  2022-Q1  2022-Q2  2022-Q3  \\\n",
       "11  Ireland    152.5    146.0    183.0    214.4    203.9    217.0    227.2   \n",
       "\n",
       "    2022-Q4  \n",
       "11    222.5  "
      ]
     },
     "execution_count": 62,
     "metadata": {},
     "output_type": "execute_result"
    }
   ],
   "source": [
    "ireland\n"
   ]
  },
  {
   "cell_type": "code",
   "execution_count": 63,
   "id": "89967430",
   "metadata": {},
   "outputs": [
    {
     "data": {
      "text/html": [
       "<div>\n",
       "<style scoped>\n",
       "    .dataframe tbody tr th:only-of-type {\n",
       "        vertical-align: middle;\n",
       "    }\n",
       "\n",
       "    .dataframe tbody tr th {\n",
       "        vertical-align: top;\n",
       "    }\n",
       "\n",
       "    .dataframe thead th {\n",
       "        text-align: right;\n",
       "    }\n",
       "</style>\n",
       "<table border=\"1\" class=\"dataframe\">\n",
       "  <thead>\n",
       "    <tr style=\"text-align: right;\">\n",
       "      <th></th>\n",
       "      <th>Country</th>\n",
       "      <th>2021-Q1</th>\n",
       "      <th>2021-Q2</th>\n",
       "      <th>2021-Q3</th>\n",
       "      <th>2021-Q4</th>\n",
       "      <th>2022-Q1</th>\n",
       "      <th>2022-Q2</th>\n",
       "      <th>2022-Q3</th>\n",
       "      <th>2022-Q4</th>\n",
       "    </tr>\n",
       "  </thead>\n",
       "  <tbody>\n",
       "    <tr>\n",
       "      <th>26</th>\n",
       "      <td>Portugal</td>\n",
       "      <td>102.7</td>\n",
       "      <td>111.4</td>\n",
       "      <td>113.7</td>\n",
       "      <td>124.1</td>\n",
       "      <td>110.5</td>\n",
       "      <td>119.1</td>\n",
       "      <td>120.4</td>\n",
       "      <td>129.7</td>\n",
       "    </tr>\n",
       "  </tbody>\n",
       "</table>\n",
       "</div>"
      ],
      "text/plain": [
       "     Country  2021-Q1  2021-Q2  2021-Q3  2021-Q4  2022-Q1  2022-Q2  2022-Q3  \\\n",
       "26  Portugal    102.7    111.4    113.7    124.1    110.5    119.1    120.4   \n",
       "\n",
       "    2022-Q4  \n",
       "26    129.7  "
      ]
     },
     "execution_count": 63,
     "metadata": {},
     "output_type": "execute_result"
    }
   ],
   "source": [
    "portugal"
   ]
  },
  {
   "cell_type": "code",
   "execution_count": 64,
   "id": "76c1d4db",
   "metadata": {},
   "outputs": [],
   "source": [
    "wage['total_quarter_2021'] = wage['2021-Q1']+wage['2021-Q2']+wage['2021-Q3']+wage['2021-Q4']"
   ]
  },
  {
   "cell_type": "code",
   "execution_count": 65,
   "id": "dfdfa4db",
   "metadata": {},
   "outputs": [],
   "source": [
    "wage['total_quarter_2022'] = wage['2022-Q1']+wage['2022-Q2']+wage['2022-Q3']+wage['2022-Q4']"
   ]
  },
  {
   "cell_type": "code",
   "execution_count": 67,
   "id": "60905322",
   "metadata": {},
   "outputs": [
    {
     "data": {
      "text/html": [
       "<div>\n",
       "<style scoped>\n",
       "    .dataframe tbody tr th:only-of-type {\n",
       "        vertical-align: middle;\n",
       "    }\n",
       "\n",
       "    .dataframe tbody tr th {\n",
       "        vertical-align: top;\n",
       "    }\n",
       "\n",
       "    .dataframe thead th {\n",
       "        text-align: right;\n",
       "    }\n",
       "</style>\n",
       "<table border=\"1\" class=\"dataframe\">\n",
       "  <thead>\n",
       "    <tr style=\"text-align: right;\">\n",
       "      <th></th>\n",
       "      <th>Country</th>\n",
       "      <th>2021-Q1</th>\n",
       "      <th>2021-Q2</th>\n",
       "      <th>2021-Q3</th>\n",
       "      <th>2021-Q4</th>\n",
       "      <th>2022-Q1</th>\n",
       "      <th>2022-Q2</th>\n",
       "      <th>2022-Q3</th>\n",
       "      <th>2022-Q4</th>\n",
       "      <th>total_quarter_2021</th>\n",
       "      <th>total_quarter_2022</th>\n",
       "    </tr>\n",
       "  </thead>\n",
       "  <tbody>\n",
       "    <tr>\n",
       "      <th>5</th>\n",
       "      <td>Belgium</td>\n",
       "      <td>112.8</td>\n",
       "      <td>127.3</td>\n",
       "      <td>105.6</td>\n",
       "      <td>126.2</td>\n",
       "      <td>122.2</td>\n",
       "      <td>137.8</td>\n",
       "      <td>115.3</td>\n",
       "      <td>138.8</td>\n",
       "      <td>471.9</td>\n",
       "      <td>514.1</td>\n",
       "    </tr>\n",
       "    <tr>\n",
       "      <th>6</th>\n",
       "      <td>Bulgaria</td>\n",
       "      <td>131.0</td>\n",
       "      <td>142.4</td>\n",
       "      <td>144.5</td>\n",
       "      <td>153.4</td>\n",
       "      <td>139.4</td>\n",
       "      <td>150.5</td>\n",
       "      <td>154.6</td>\n",
       "      <td>162.5</td>\n",
       "      <td>571.3</td>\n",
       "      <td>607.0</td>\n",
       "    </tr>\n",
       "    <tr>\n",
       "      <th>7</th>\n",
       "      <td>Czechia</td>\n",
       "      <td>119.5</td>\n",
       "      <td>134.7</td>\n",
       "      <td>138.4</td>\n",
       "      <td>145.3</td>\n",
       "      <td>129.3</td>\n",
       "      <td>146.5</td>\n",
       "      <td>150.4</td>\n",
       "      <td>158.3</td>\n",
       "      <td>537.9</td>\n",
       "      <td>584.5</td>\n",
       "    </tr>\n",
       "    <tr>\n",
       "      <th>8</th>\n",
       "      <td>Denmark</td>\n",
       "      <td>133.7</td>\n",
       "      <td>145.4</td>\n",
       "      <td>135.5</td>\n",
       "      <td>169.4</td>\n",
       "      <td>145.7</td>\n",
       "      <td>155.1</td>\n",
       "      <td>144.9</td>\n",
       "      <td>180.6</td>\n",
       "      <td>584.0</td>\n",
       "      <td>626.3</td>\n",
       "    </tr>\n",
       "    <tr>\n",
       "      <th>9</th>\n",
       "      <td>Germany (until 1990 former territory of the FRG)</td>\n",
       "      <td>115.9</td>\n",
       "      <td>129.9</td>\n",
       "      <td>131.0</td>\n",
       "      <td>139.5</td>\n",
       "      <td>123.3</td>\n",
       "      <td>136.5</td>\n",
       "      <td>138.2</td>\n",
       "      <td>144.4</td>\n",
       "      <td>516.3</td>\n",
       "      <td>542.4</td>\n",
       "    </tr>\n",
       "  </tbody>\n",
       "</table>\n",
       "</div>"
      ],
      "text/plain": [
       "                                            Country  2021-Q1  2021-Q2  \\\n",
       "5                                           Belgium    112.8    127.3   \n",
       "6                                          Bulgaria    131.0    142.4   \n",
       "7                                           Czechia    119.5    134.7   \n",
       "8                                           Denmark    133.7    145.4   \n",
       "9  Germany (until 1990 former territory of the FRG)    115.9    129.9   \n",
       "\n",
       "   2021-Q3  2021-Q4  2022-Q1  2022-Q2  2022-Q3  2022-Q4  total_quarter_2021  \\\n",
       "5    105.6    126.2    122.2    137.8    115.3    138.8               471.9   \n",
       "6    144.5    153.4    139.4    150.5    154.6    162.5               571.3   \n",
       "7    138.4    145.3    129.3    146.5    150.4    158.3               537.9   \n",
       "8    135.5    169.4    145.7    155.1    144.9    180.6               584.0   \n",
       "9    131.0    139.5    123.3    136.5    138.2    144.4               516.3   \n",
       "\n",
       "   total_quarter_2022  \n",
       "5               514.1  \n",
       "6               607.0  \n",
       "7               584.5  \n",
       "8               626.3  \n",
       "9               542.4  "
      ]
     },
     "execution_count": 67,
     "metadata": {},
     "output_type": "execute_result"
    }
   ],
   "source": [
    "wage.head()"
   ]
  },
  {
   "cell_type": "code",
   "execution_count": 68,
   "id": "64806489",
   "metadata": {},
   "outputs": [],
   "source": [
    "ireland = wage[wage.Country == 'Ireland']\n",
    "portugal = wage[wage.Country == 'Portugal']"
   ]
  },
  {
   "cell_type": "code",
   "execution_count": 75,
   "id": "d3732fd9",
   "metadata": {},
   "outputs": [
    {
     "data": {
      "text/html": [
       "<div>\n",
       "<style scoped>\n",
       "    .dataframe tbody tr th:only-of-type {\n",
       "        vertical-align: middle;\n",
       "    }\n",
       "\n",
       "    .dataframe tbody tr th {\n",
       "        vertical-align: top;\n",
       "    }\n",
       "\n",
       "    .dataframe thead th {\n",
       "        text-align: right;\n",
       "    }\n",
       "</style>\n",
       "<table border=\"1\" class=\"dataframe\">\n",
       "  <thead>\n",
       "    <tr style=\"text-align: right;\">\n",
       "      <th></th>\n",
       "      <th>2021-Q1</th>\n",
       "      <th>2021-Q2</th>\n",
       "      <th>2021-Q3</th>\n",
       "      <th>2021-Q4</th>\n",
       "      <th>2022-Q1</th>\n",
       "      <th>2022-Q2</th>\n",
       "      <th>2022-Q3</th>\n",
       "      <th>2022-Q4</th>\n",
       "      <th>total_quarter_2021</th>\n",
       "      <th>total_quarter_2022</th>\n",
       "    </tr>\n",
       "  </thead>\n",
       "  <tbody>\n",
       "    <tr>\n",
       "      <th>2021-Q1</th>\n",
       "      <td>1.000000</td>\n",
       "      <td>0.970485</td>\n",
       "      <td>0.964500</td>\n",
       "      <td>0.956880</td>\n",
       "      <td>0.958621</td>\n",
       "      <td>0.931198</td>\n",
       "      <td>0.858201</td>\n",
       "      <td>0.838013</td>\n",
       "      <td>0.985061</td>\n",
       "      <td>0.899295</td>\n",
       "    </tr>\n",
       "    <tr>\n",
       "      <th>2021-Q2</th>\n",
       "      <td>0.970485</td>\n",
       "      <td>1.000000</td>\n",
       "      <td>0.963850</td>\n",
       "      <td>0.953628</td>\n",
       "      <td>0.935366</td>\n",
       "      <td>0.943144</td>\n",
       "      <td>0.860150</td>\n",
       "      <td>0.846607</td>\n",
       "      <td>0.984627</td>\n",
       "      <td>0.900401</td>\n",
       "    </tr>\n",
       "    <tr>\n",
       "      <th>2021-Q3</th>\n",
       "      <td>0.964500</td>\n",
       "      <td>0.963850</td>\n",
       "      <td>1.000000</td>\n",
       "      <td>0.973102</td>\n",
       "      <td>0.960430</td>\n",
       "      <td>0.951892</td>\n",
       "      <td>0.909058</td>\n",
       "      <td>0.877200</td>\n",
       "      <td>0.989575</td>\n",
       "      <td>0.930674</td>\n",
       "    </tr>\n",
       "    <tr>\n",
       "      <th>2021-Q4</th>\n",
       "      <td>0.956880</td>\n",
       "      <td>0.953628</td>\n",
       "      <td>0.973102</td>\n",
       "      <td>1.000000</td>\n",
       "      <td>0.962965</td>\n",
       "      <td>0.960566</td>\n",
       "      <td>0.899684</td>\n",
       "      <td>0.892119</td>\n",
       "      <td>0.985777</td>\n",
       "      <td>0.934997</td>\n",
       "    </tr>\n",
       "    <tr>\n",
       "      <th>2022-Q1</th>\n",
       "      <td>0.958621</td>\n",
       "      <td>0.935366</td>\n",
       "      <td>0.960430</td>\n",
       "      <td>0.962965</td>\n",
       "      <td>1.000000</td>\n",
       "      <td>0.983457</td>\n",
       "      <td>0.956319</td>\n",
       "      <td>0.940261</td>\n",
       "      <td>0.967919</td>\n",
       "      <td>0.978372</td>\n",
       "    </tr>\n",
       "    <tr>\n",
       "      <th>2022-Q2</th>\n",
       "      <td>0.931198</td>\n",
       "      <td>0.943144</td>\n",
       "      <td>0.951892</td>\n",
       "      <td>0.960566</td>\n",
       "      <td>0.983457</td>\n",
       "      <td>1.000000</td>\n",
       "      <td>0.967085</td>\n",
       "      <td>0.957125</td>\n",
       "      <td>0.960778</td>\n",
       "      <td>0.986887</td>\n",
       "    </tr>\n",
       "    <tr>\n",
       "      <th>2022-Q3</th>\n",
       "      <td>0.858201</td>\n",
       "      <td>0.860150</td>\n",
       "      <td>0.909058</td>\n",
       "      <td>0.899684</td>\n",
       "      <td>0.956319</td>\n",
       "      <td>0.967085</td>\n",
       "      <td>1.000000</td>\n",
       "      <td>0.989483</td>\n",
       "      <td>0.895771</td>\n",
       "      <td>0.993437</td>\n",
       "    </tr>\n",
       "    <tr>\n",
       "      <th>2022-Q4</th>\n",
       "      <td>0.838013</td>\n",
       "      <td>0.846607</td>\n",
       "      <td>0.877200</td>\n",
       "      <td>0.892119</td>\n",
       "      <td>0.940261</td>\n",
       "      <td>0.957125</td>\n",
       "      <td>0.989483</td>\n",
       "      <td>1.000000</td>\n",
       "      <td>0.877364</td>\n",
       "      <td>0.988231</td>\n",
       "    </tr>\n",
       "    <tr>\n",
       "      <th>total_quarter_2021</th>\n",
       "      <td>0.985061</td>\n",
       "      <td>0.984627</td>\n",
       "      <td>0.989575</td>\n",
       "      <td>0.985777</td>\n",
       "      <td>0.967919</td>\n",
       "      <td>0.960778</td>\n",
       "      <td>0.895771</td>\n",
       "      <td>0.877364</td>\n",
       "      <td>1.000000</td>\n",
       "      <td>0.930413</td>\n",
       "    </tr>\n",
       "    <tr>\n",
       "      <th>total_quarter_2022</th>\n",
       "      <td>0.899295</td>\n",
       "      <td>0.900401</td>\n",
       "      <td>0.930674</td>\n",
       "      <td>0.934997</td>\n",
       "      <td>0.978372</td>\n",
       "      <td>0.986887</td>\n",
       "      <td>0.993437</td>\n",
       "      <td>0.988231</td>\n",
       "      <td>0.930413</td>\n",
       "      <td>1.000000</td>\n",
       "    </tr>\n",
       "  </tbody>\n",
       "</table>\n",
       "</div>"
      ],
      "text/plain": [
       "                     2021-Q1   2021-Q2   2021-Q3   2021-Q4   2022-Q1  \\\n",
       "2021-Q1             1.000000  0.970485  0.964500  0.956880  0.958621   \n",
       "2021-Q2             0.970485  1.000000  0.963850  0.953628  0.935366   \n",
       "2021-Q3             0.964500  0.963850  1.000000  0.973102  0.960430   \n",
       "2021-Q4             0.956880  0.953628  0.973102  1.000000  0.962965   \n",
       "2022-Q1             0.958621  0.935366  0.960430  0.962965  1.000000   \n",
       "2022-Q2             0.931198  0.943144  0.951892  0.960566  0.983457   \n",
       "2022-Q3             0.858201  0.860150  0.909058  0.899684  0.956319   \n",
       "2022-Q4             0.838013  0.846607  0.877200  0.892119  0.940261   \n",
       "total_quarter_2021  0.985061  0.984627  0.989575  0.985777  0.967919   \n",
       "total_quarter_2022  0.899295  0.900401  0.930674  0.934997  0.978372   \n",
       "\n",
       "                     2022-Q2   2022-Q3   2022-Q4  total_quarter_2021  \\\n",
       "2021-Q1             0.931198  0.858201  0.838013            0.985061   \n",
       "2021-Q2             0.943144  0.860150  0.846607            0.984627   \n",
       "2021-Q3             0.951892  0.909058  0.877200            0.989575   \n",
       "2021-Q4             0.960566  0.899684  0.892119            0.985777   \n",
       "2022-Q1             0.983457  0.956319  0.940261            0.967919   \n",
       "2022-Q2             1.000000  0.967085  0.957125            0.960778   \n",
       "2022-Q3             0.967085  1.000000  0.989483            0.895771   \n",
       "2022-Q4             0.957125  0.989483  1.000000            0.877364   \n",
       "total_quarter_2021  0.960778  0.895771  0.877364            1.000000   \n",
       "total_quarter_2022  0.986887  0.993437  0.988231            0.930413   \n",
       "\n",
       "                    total_quarter_2022  \n",
       "2021-Q1                       0.899295  \n",
       "2021-Q2                       0.900401  \n",
       "2021-Q3                       0.930674  \n",
       "2021-Q4                       0.934997  \n",
       "2022-Q1                       0.978372  \n",
       "2022-Q2                       0.986887  \n",
       "2022-Q3                       0.993437  \n",
       "2022-Q4                       0.988231  \n",
       "total_quarter_2021            0.930413  \n",
       "total_quarter_2022            1.000000  "
      ]
     },
     "execution_count": 75,
     "metadata": {},
     "output_type": "execute_result"
    }
   ],
   "source": [
    "wage.corr()"
   ]
  },
  {
   "cell_type": "code",
   "execution_count": 69,
   "id": "d9e3fad1",
   "metadata": {},
   "outputs": [
    {
     "data": {
      "text/html": [
       "<div>\n",
       "<style scoped>\n",
       "    .dataframe tbody tr th:only-of-type {\n",
       "        vertical-align: middle;\n",
       "    }\n",
       "\n",
       "    .dataframe tbody tr th {\n",
       "        vertical-align: top;\n",
       "    }\n",
       "\n",
       "    .dataframe thead th {\n",
       "        text-align: right;\n",
       "    }\n",
       "</style>\n",
       "<table border=\"1\" class=\"dataframe\">\n",
       "  <thead>\n",
       "    <tr style=\"text-align: right;\">\n",
       "      <th></th>\n",
       "      <th>Country</th>\n",
       "      <th>2021-Q1</th>\n",
       "      <th>2021-Q2</th>\n",
       "      <th>2021-Q3</th>\n",
       "      <th>2021-Q4</th>\n",
       "      <th>2022-Q1</th>\n",
       "      <th>2022-Q2</th>\n",
       "      <th>2022-Q3</th>\n",
       "      <th>2022-Q4</th>\n",
       "      <th>total_quarter_2021</th>\n",
       "      <th>total_quarter_2022</th>\n",
       "    </tr>\n",
       "  </thead>\n",
       "  <tbody>\n",
       "    <tr>\n",
       "      <th>11</th>\n",
       "      <td>Ireland</td>\n",
       "      <td>152.5</td>\n",
       "      <td>146.0</td>\n",
       "      <td>183.0</td>\n",
       "      <td>214.4</td>\n",
       "      <td>203.9</td>\n",
       "      <td>217.0</td>\n",
       "      <td>227.2</td>\n",
       "      <td>222.5</td>\n",
       "      <td>695.9</td>\n",
       "      <td>870.6</td>\n",
       "    </tr>\n",
       "  </tbody>\n",
       "</table>\n",
       "</div>"
      ],
      "text/plain": [
       "    Country  2021-Q1  2021-Q2  2021-Q3  2021-Q4  2022-Q1  2022-Q2  2022-Q3  \\\n",
       "11  Ireland    152.5    146.0    183.0    214.4    203.9    217.0    227.2   \n",
       "\n",
       "    2022-Q4  total_quarter_2021  total_quarter_2022  \n",
       "11    222.5               695.9               870.6  "
      ]
     },
     "execution_count": 69,
     "metadata": {},
     "output_type": "execute_result"
    }
   ],
   "source": [
    "ireland"
   ]
  },
  {
   "cell_type": "code",
   "execution_count": 31,
   "id": "4118b5ea",
   "metadata": {},
   "outputs": [
    {
     "data": {
      "image/png": "[encoded data removed]",
      "text/plain": [
       "<Figure size 1000x600 with 1 Axes>"
      ]
     },
     "metadata": {},
     "output_type": "display_data"
    }
   ],
   "source": [
    "plt.figure(figsize=(10, 6))\n",
    "plt.plot(wage.Country, wage.total_quarter_2021, label = '2021')\n",
    "plt.plot(wage.Country, wage.total_quarter_2022, label = '2022')\n",
    "plt.xticks(rotation = 50)\n",
    "plt.title('TOTAL OF QUARTERS 2021 & 2022 IN EU') \n",
    "wage = wage.sort_values('Country')\n",
    "plt.show()"
   ]
  },
  {
   "cell_type": "code",
   "execution_count": 32,
   "id": "0ff3ec3b",
   "metadata": {},
   "outputs": [
    {
     "data": {
      "image/png": "[encoded data removed]",
      "text/plain": [
       "<Figure size 1300x600 with 1 Axes>"
      ]
     },
     "metadata": {},
     "output_type": "display_data"
    }
   ],
   "source": [
    "plt.figure(figsize=(13, 6))\n",
    "sns.barplot(data = wage, x= 'Country', y='total_quarter_2021', ci = 45)\n",
    "plt.xticks(rotation = 55)\n",
    "wage = wage.sort_values('Country')"
   ]
  },
  {
   "cell_type": "code",
   "execution_count": 95,
   "id": "dd309d72",
   "metadata": {},
   "outputs": [
    {
     "data": {
      "application/vnd.plotly.v1+json": {
       "config": {
        "plotlyServerURL": "https://plot.ly"
       },
       "data": [
        {
         "alignmentgroup": "True",
         "hovertemplate": "Country=%{x}<br>total_quarter_2022=%{y}<extra></extra>",
         "legendgroup": "Belgium",
         "marker": {
          "color": "#636efa",
          "pattern": {
           "shape": ""
          }
         },
         "name": "Belgium",
         "offsetgroup": "Belgium",
         "orientation": "v",
         "showlegend": true,
         "textposition": "auto",
         "type": "bar",
         "x": [
          "Belgium"
         ],
         "xaxis": "x",
         "y": [
          514.1
         ],
         "yaxis": "y"
        },
        {
         "alignmentgroup": "True",
         "hovertemplate": "Country=%{x}<br>total_quarter_2022=%{y}<extra></extra>",
         "legendgroup": "Bulgaria",
         "marker": {
          "color": "#EF553B",
          "pattern": {
           "shape": ""
          }
         },
         "name": "Bulgaria",
         "offsetgroup": "Bulgaria",
         "orientation": "v",
         "showlegend": true,
         "textposition": "auto",
         "type": "bar",
         "x": [
          "Bulgaria"
         ],
         "xaxis": "x",
         "y": [
          607
         ],
         "yaxis": "y"
        },
        {
         "alignmentgroup": "True",
         "hovertemplate": "Country=%{x}<br>total_quarter_2022=%{y}<extra></extra>",
         "legendgroup": "Czechia",
         "marker": {
          "color": "#00cc96",
          "pattern": {
           "shape": ""
          }
         },
         "name": "Czechia",
         "offsetgroup": "Czechia",
         "orientation": "v",
         "showlegend": true,
         "textposition": "auto",
         "type": "bar",
         "x": [
          "Czechia"
         ],
         "xaxis": "x",
         "y": [
          584.5
         ],
         "yaxis": "y"
        },
        {
         "alignmentgroup": "True",
         "hovertemplate": "Country=%{x}<br>total_quarter_2022=%{y}<extra></extra>",
         "legendgroup": "Denmark",
         "marker": {
          "color": "#ab63fa",
          "pattern": {
           "shape": ""
          }
         },
         "name": "Denmark",
         "offsetgroup": "Denmark",
         "orientation": "v",
         "showlegend": true,
         "textposition": "auto",
         "type": "bar",
         "x": [
          "Denmark"
         ],
         "xaxis": "x",
         "y": [
          626.3
         ],
         "yaxis": "y"
        },
        {
         "alignmentgroup": "True",
         "hovertemplate": "Country=%{x}<br>total_quarter_2022=%{y}<extra></extra>",
         "legendgroup": "Germany (until 1990 former territory of the FRG)",
         "marker": {
          "color": "#FFA15A",
          "pattern": {
           "shape": ""
          }
         },
         "name": "Germany (until 1990 former territory of the FRG)",
         "offsetgroup": "Germany (until 1990 former territory of the FRG)",
         "orientation": "v",
         "showlegend": true,
         "textposition": "auto",
         "type": "bar",
         "x": [
          "Germany (until 1990 former territory of the FRG)"
         ],
         "xaxis": "x",
         "y": [
          542.4
         ],
         "yaxis": "y"
        },
        {
         "alignmentgroup": "True",
         "hovertemplate": "Country=%{x}<br>total_quarter_2022=%{y}<extra></extra>",
         "legendgroup": "Estonia",
         "marker": {
          "color": "#19d3f3",
          "pattern": {
           "shape": ""
          }
         },
         "name": "Estonia",
         "offsetgroup": "Estonia",
         "orientation": "v",
         "showlegend": true,
         "textposition": "auto",
         "type": "bar",
         "x": [
          "Estonia"
         ],
         "xaxis": "x",
         "y": [
          719.0999999999999
         ],
         "yaxis": "y"
        },
        {
         "alignmentgroup": "True",
         "hovertemplate": "Country=%{x}<br>total_quarter_2022=%{y}<extra></extra>",
         "legendgroup": "Ireland",
         "marker": {
          "color": "#FF6692",
          "pattern": {
           "shape": ""
          }
         },
         "name": "Ireland",
         "offsetgroup": "Ireland",
         "orientation": "v",
         "showlegend": true,
         "textposition": "auto",
         "type": "bar",
         "x": [
          "Ireland"
         ],
         "xaxis": "x",
         "y": [
          870.5999999999999
         ],
         "yaxis": "y"
        },
        {
         "alignmentgroup": "True",
         "hovertemplate": "Country=%{x}<br>total_quarter_2022=%{y}<extra></extra>",
         "legendgroup": "Greece",
         "marker": {
          "color": "#B6E880",
          "pattern": {
           "shape": ""
          }
         },
         "name": "Greece",
         "offsetgroup": "Greece",
         "orientation": "v",
         "showlegend": true,
         "textposition": "auto",
         "type": "bar",
         "x": [
          "Greece"
         ],
         "xaxis": "x",
         "y": [
          429.70000000000005
         ],
         "yaxis": "y"
        },
        {
         "alignmentgroup": "True",
         "hovertemplate": "Country=%{x}<br>total_quarter_2022=%{y}<extra></extra>",
         "legendgroup": "Spain",
         "marker": {
          "color": "#FF97FF",
          "pattern": {
           "shape": ""
          }
         },
         "name": "Spain",
         "offsetgroup": "Spain",
         "orientation": "v",
         "showlegend": true,
         "textposition": "auto",
         "type": "bar",
         "x": [
          "Spain"
         ],
         "xaxis": "x",
         "y": [
          468.9
         ],
         "yaxis": "y"
        },
        {
         "alignmentgroup": "True",
         "hovertemplate": "Country=%{x}<br>total_quarter_2022=%{y}<extra></extra>",
         "legendgroup": "France",
         "marker": {
          "color": "#FECB52",
          "pattern": {
           "shape": ""
          }
         },
         "name": "France",
         "offsetgroup": "France",
         "orientation": "v",
         "showlegend": true,
         "textposition": "auto",
         "type": "bar",
         "x": [
          "France"
         ],
         "xaxis": "x",
         "y": [
          523.1
         ],
         "yaxis": "y"
        },
        {
         "alignmentgroup": "True",
         "hovertemplate": "Country=%{x}<br>total_quarter_2022=%{y}<extra></extra>",
         "legendgroup": "Croatia",
         "marker": {
          "color": "#636efa",
          "pattern": {
           "shape": ""
          }
         },
         "name": "Croatia",
         "offsetgroup": "Croatia",
         "orientation": "v",
         "showlegend": true,
         "textposition": "auto",
         "type": "bar",
         "x": [
          "Croatia"
         ],
         "xaxis": "x",
         "y": [
          544.1
         ],
         "yaxis": "y"
        },
        {
         "alignmentgroup": "True",
         "hovertemplate": "Country=%{x}<br>total_quarter_2022=%{y}<extra></extra>",
         "legendgroup": "Italy",
         "marker": {
          "color": "#EF553B",
          "pattern": {
           "shape": ""
          }
         },
         "name": "Italy",
         "offsetgroup": "Italy",
         "orientation": "v",
         "showlegend": true,
         "textposition": "auto",
         "type": "bar",
         "x": [
          "Italy"
         ],
         "xaxis": "x",
         "y": [
          571.9
         ],
         "yaxis": "y"
        },
        {
         "alignmentgroup": "True",
         "hovertemplate": "Country=%{x}<br>total_quarter_2022=%{y}<extra></extra>",
         "legendgroup": "Cyprus",
         "marker": {
          "color": "#00cc96",
          "pattern": {
           "shape": ""
          }
         },
         "name": "Cyprus",
         "offsetgroup": "Cyprus",
         "orientation": "v",
         "showlegend": true,
         "textposition": "auto",
         "type": "bar",
         "x": [
          "Cyprus"
         ],
         "xaxis": "x",
         "y": [
          782.3
         ],
         "yaxis": "y"
        },
        {
         "alignmentgroup": "True",
         "hovertemplate": "Country=%{x}<br>total_quarter_2022=%{y}<extra></extra>",
         "legendgroup": "Latvia",
         "marker": {
          "color": "#ab63fa",
          "pattern": {
           "shape": ""
          }
         },
         "name": "Latvia",
         "offsetgroup": "Latvia",
         "orientation": "v",
         "showlegend": true,
         "textposition": "auto",
         "type": "bar",
         "x": [
          "Latvia"
         ],
         "xaxis": "x",
         "y": [
          649
         ],
         "yaxis": "y"
        },
        {
         "alignmentgroup": "True",
         "hovertemplate": "Country=%{x}<br>total_quarter_2022=%{y}<extra></extra>",
         "legendgroup": "Lithuania",
         "marker": {
          "color": "#FFA15A",
          "pattern": {
           "shape": ""
          }
         },
         "name": "Lithuania",
         "offsetgroup": "Lithuania",
         "orientation": "v",
         "showlegend": true,
         "textposition": "auto",
         "type": "bar",
         "x": [
          "Lithuania"
         ],
         "xaxis": "x",
         "y": [
          694.1
         ],
         "yaxis": "y"
        },
        {
         "alignmentgroup": "True",
         "hovertemplate": "Country=%{x}<br>total_quarter_2022=%{y}<extra></extra>",
         "legendgroup": "Luxembourg",
         "marker": {
          "color": "#19d3f3",
          "pattern": {
           "shape": ""
          }
         },
         "name": "Luxembourg",
         "offsetgroup": "Luxembourg",
         "orientation": "v",
         "showlegend": true,
         "textposition": "auto",
         "type": "bar",
         "x": [
          "Luxembourg"
         ],
         "xaxis": "x",
         "y": [
          512.4000000000001
         ],
         "yaxis": "y"
        },
        {
         "alignmentgroup": "True",
         "hovertemplate": "Country=%{x}<br>total_quarter_2022=%{y}<extra></extra>",
         "legendgroup": "Hungary",
         "marker": {
          "color": "#FF6692",
          "pattern": {
           "shape": ""
          }
         },
         "name": "Hungary",
         "offsetgroup": "Hungary",
         "orientation": "v",
         "showlegend": true,
         "textposition": "auto",
         "type": "bar",
         "x": [
          "Hungary"
         ],
         "xaxis": "x",
         "y": [
          1269.8
         ],
         "yaxis": "y"
        },
        {
         "alignmentgroup": "True",
         "hovertemplate": "Country=%{x}<br>total_quarter_2022=%{y}<extra></extra>",
         "legendgroup": "Malta",
         "marker": {
          "color": "#B6E880",
          "pattern": {
           "shape": ""
          }
         },
         "name": "Malta",
         "offsetgroup": "Malta",
         "orientation": "v",
         "showlegend": true,
         "textposition": "auto",
         "type": "bar",
         "x": [
          "Malta"
         ],
         "xaxis": "x",
         "y": [
          549.7
         ],
         "yaxis": "y"
        },
        {
         "alignmentgroup": "True",
         "hovertemplate": "Country=%{x}<br>total_quarter_2022=%{y}<extra></extra>",
         "legendgroup": "Netherlands",
         "marker": {
          "color": "#FF97FF",
          "pattern": {
           "shape": ""
          }
         },
         "name": "Netherlands",
         "offsetgroup": "Netherlands",
         "orientation": "v",
         "showlegend": true,
         "textposition": "auto",
         "type": "bar",
         "x": [
          "Netherlands"
         ],
         "xaxis": "x",
         "y": [
          537
         ],
         "yaxis": "y"
        },
        {
         "alignmentgroup": "True",
         "hovertemplate": "Country=%{x}<br>total_quarter_2022=%{y}<extra></extra>",
         "legendgroup": "Austria",
         "marker": {
          "color": "#FECB52",
          "pattern": {
           "shape": ""
          }
         },
         "name": "Austria",
         "offsetgroup": "Austria",
         "orientation": "v",
         "showlegend": true,
         "textposition": "auto",
         "type": "bar",
         "x": [
          "Austria"
         ],
         "xaxis": "x",
         "y": [
          581.9
         ],
         "yaxis": "y"
        },
        {
         "alignmentgroup": "True",
         "hovertemplate": "Country=%{x}<br>total_quarter_2022=%{y}<extra></extra>",
         "legendgroup": "Poland",
         "marker": {
          "color": "#636efa",
          "pattern": {
           "shape": ""
          }
         },
         "name": "Poland",
         "offsetgroup": "Poland",
         "orientation": "v",
         "showlegend": true,
         "textposition": "auto",
         "type": "bar",
         "x": [
          "Poland"
         ],
         "xaxis": "x",
         "y": [
          710.4999999999999
         ],
         "yaxis": "y"
        },
        {
         "alignmentgroup": "True",
         "hovertemplate": "Country=%{x}<br>total_quarter_2022=%{y}<extra></extra>",
         "legendgroup": "Portugal",
         "marker": {
          "color": "#EF553B",
          "pattern": {
           "shape": ""
          }
         },
         "name": "Portugal",
         "offsetgroup": "Portugal",
         "orientation": "v",
         "showlegend": true,
         "textposition": "auto",
         "type": "bar",
         "x": [
          "Portugal"
         ],
         "xaxis": "x",
         "y": [
          479.7
         ],
         "yaxis": "y"
        },
        {
         "alignmentgroup": "True",
         "hovertemplate": "Country=%{x}<br>total_quarter_2022=%{y}<extra></extra>",
         "legendgroup": "Romania",
         "marker": {
          "color": "#00cc96",
          "pattern": {
           "shape": ""
          }
         },
         "name": "Romania",
         "offsetgroup": "Romania",
         "orientation": "v",
         "showlegend": true,
         "textposition": "auto",
         "type": "bar",
         "x": [
          "Romania"
         ],
         "xaxis": "x",
         "y": [
          1330.7
         ],
         "yaxis": "y"
        },
        {
         "alignmentgroup": "True",
         "hovertemplate": "Country=%{x}<br>total_quarter_2022=%{y}<extra></extra>",
         "legendgroup": "Slovenia",
         "marker": {
          "color": "#ab63fa",
          "pattern": {
           "shape": ""
          }
         },
         "name": "Slovenia",
         "offsetgroup": "Slovenia",
         "orientation": "v",
         "showlegend": true,
         "textposition": "auto",
         "type": "bar",
         "x": [
          "Slovenia"
         ],
         "xaxis": "x",
         "y": [
          539.5999999999999
         ],
         "yaxis": "y"
        },
        {
         "alignmentgroup": "True",
         "hovertemplate": "Country=%{x}<br>total_quarter_2022=%{y}<extra></extra>",
         "legendgroup": "Slovakia",
         "marker": {
          "color": "#FFA15A",
          "pattern": {
           "shape": ""
          }
         },
         "name": "Slovakia",
         "offsetgroup": "Slovakia",
         "orientation": "v",
         "showlegend": true,
         "textposition": "auto",
         "type": "bar",
         "x": [
          "Slovakia"
         ],
         "xaxis": "x",
         "y": [
          524
         ],
         "yaxis": "y"
        },
        {
         "alignmentgroup": "True",
         "hovertemplate": "Country=%{x}<br>total_quarter_2022=%{y}<extra></extra>",
         "legendgroup": "Finland",
         "marker": {
          "color": "#19d3f3",
          "pattern": {
           "shape": ""
          }
         },
         "name": "Finland",
         "offsetgroup": "Finland",
         "orientation": "v",
         "showlegend": true,
         "textposition": "auto",
         "type": "bar",
         "x": [
          "Finland"
         ],
         "xaxis": "x",
         "y": [
          548
         ],
         "yaxis": "y"
        },
        {
         "alignmentgroup": "True",
         "hovertemplate": "Country=%{x}<br>total_quarter_2022=%{y}<extra></extra>",
         "legendgroup": "Sweden",
         "marker": {
          "color": "#FF6692",
          "pattern": {
           "shape": ""
          }
         },
         "name": "Sweden",
         "offsetgroup": "Sweden",
         "orientation": "v",
         "showlegend": true,
         "textposition": "auto",
         "type": "bar",
         "x": [
          "Sweden"
         ],
         "xaxis": "x",
         "y": [
          589.3
         ],
         "yaxis": "y"
        },
        {
         "alignmentgroup": "True",
         "hovertemplate": "Country=%{x}<br>total_quarter_2022=%{y}<extra></extra>",
         "legendgroup": "Norway",
         "marker": {
          "color": "#B6E880",
          "pattern": {
           "shape": ""
          }
         },
         "name": "Norway",
         "offsetgroup": "Norway",
         "orientation": "v",
         "showlegend": true,
         "textposition": "auto",
         "type": "bar",
         "x": [
          "Norway"
         ],
         "xaxis": "x",
         "y": [
          611.9
         ],
         "yaxis": "y"
        },
        {
         "alignmentgroup": "True",
         "hovertemplate": "Country=%{x}<br>total_quarter_2022=%{y}<extra></extra>",
         "legendgroup": "Montenegro",
         "marker": {
          "color": "#FF97FF",
          "pattern": {
           "shape": ""
          }
         },
         "name": "Montenegro",
         "offsetgroup": "Montenegro",
         "orientation": "v",
         "showlegend": true,
         "textposition": "auto",
         "type": "bar",
         "x": [
          "Montenegro"
         ],
         "xaxis": "x",
         "y": [
          497.5
         ],
         "yaxis": "y"
        },
        {
         "alignmentgroup": "True",
         "hovertemplate": "Country=%{x}<br>total_quarter_2022=%{y}<extra></extra>",
         "legendgroup": "North Macedonia",
         "marker": {
          "color": "#FECB52",
          "pattern": {
           "shape": ""
          }
         },
         "name": "North Macedonia",
         "offsetgroup": "North Macedonia",
         "orientation": "v",
         "showlegend": true,
         "textposition": "auto",
         "type": "bar",
         "x": [
          "North Macedonia"
         ],
         "xaxis": "x",
         "y": [
          652.1
         ],
         "yaxis": "y"
        },
        {
         "alignmentgroup": "True",
         "hovertemplate": "Country=%{x}<br>total_quarter_2022=%{y}<extra></extra>",
         "legendgroup": "Albania",
         "marker": {
          "color": "#636efa",
          "pattern": {
           "shape": ""
          }
         },
         "name": "Albania",
         "offsetgroup": "Albania",
         "orientation": "v",
         "showlegend": true,
         "textposition": "auto",
         "type": "bar",
         "x": [
          "Albania"
         ],
         "xaxis": "x",
         "y": [
          655
         ],
         "yaxis": "y"
        },
        {
         "alignmentgroup": "True",
         "hovertemplate": "Country=%{x}<br>total_quarter_2022=%{y}<extra></extra>",
         "legendgroup": "Serbia",
         "marker": {
          "color": "#EF553B",
          "pattern": {
           "shape": ""
          }
         },
         "name": "Serbia",
         "offsetgroup": "Serbia",
         "orientation": "v",
         "showlegend": true,
         "textposition": "auto",
         "type": "bar",
         "x": [
          "Serbia"
         ],
         "xaxis": "x",
         "y": [
          625.2
         ],
         "yaxis": "y"
        },
        {
         "alignmentgroup": "True",
         "hovertemplate": "Country=%{x}<br>total_quarter_2022=%{y}<extra></extra>",
         "legendgroup": "Türkiye",
         "marker": {
          "color": "#00cc96",
          "pattern": {
           "shape": ""
          }
         },
         "name": "Türkiye",
         "offsetgroup": "Türkiye",
         "orientation": "v",
         "showlegend": true,
         "textposition": "auto",
         "type": "bar",
         "x": [
          "Türkiye"
         ],
         "xaxis": "x",
         "y": [
          1626
         ],
         "yaxis": "y"
        }
       ],
       "layout": {
        "barmode": "relative",
        "legend": {
         "title": {
          "text": "Country"
         },
         "tracegroupgap": 0
        },
        "margin": {
         "t": 60
        },
        "template": {
         "data": {
          "bar": [
           {
            "error_x": {
             "color": "#2a3f5f"
            },
            "error_y": {
             "color": "#2a3f5f"
            },
            "marker": {
             "line": {
              "color": "#E5ECF6",
              "width": 0.5
             },
             "pattern": {
              "fillmode": "overlay",
              "size": 10,
              "solidity": 0.2
             }
            },
            "type": "bar"
           }
          ],
          "barpolar": [
           {
            "marker": {
             "line": {
              "color": "#E5ECF6",
              "width": 0.5
             },
             "pattern": {
              "fillmode": "overlay",
              "size": 10,
              "solidity": 0.2
             }
            },
            "type": "barpolar"
           }
          ],
          "carpet": [
           {
            "aaxis": {
             "endlinecolor": "#2a3f5f",
             "gridcolor": "white",
             "linecolor": "white",
             "minorgridcolor": "white",
             "startlinecolor": "#2a3f5f"
            },
            "baxis": {
             "endlinecolor": "#2a3f5f",
             "gridcolor": "white",
             "linecolor": "white",
             "minorgridcolor": "white",
             "startlinecolor": "#2a3f5f"
            },
            "type": "carpet"
           }
          ],
          "choropleth": [
           {
            "colorbar": {
             "outlinewidth": 0,
             "ticks": ""
            },
            "type": "choropleth"
           }
          ],
          "contour": [
           {
            "colorbar": {
             "outlinewidth": 0,
             "ticks": ""
            },
            "colorscale": [
             [
              0,
              "#0d0887"
             ],
             [
              0.1111111111111111,
              "#46039f"
             ],
             [
              0.2222222222222222,
              "#7201a8"
             ],
             [
              0.3333333333333333,
              "#9c179e"
             ],
             [
              0.4444444444444444,
              "#bd3786"
             ],
             [
              0.5555555555555556,
              "#d8576b"
             ],
             [
              0.6666666666666666,
              "#ed7953"
             ],
             [
              0.7777777777777778,
              "#fb9f3a"
             ],
             [
              0.8888888888888888,
              "#fdca26"
             ],
             [
              1,
              "#f0f921"
             ]
            ],
            "type": "contour"
           }
          ],
          "contourcarpet": [
           {
            "colorbar": {
             "outlinewidth": 0,
             "ticks": ""
            },
            "type": "contourcarpet"
           }
          ],
          "heatmap": [
           {
            "colorbar": {
             "outlinewidth": 0,
             "ticks": ""
            },
            "colorscale": [
             [
              0,
              "#0d0887"
             ],
             [
              0.1111111111111111,
              "#46039f"
             ],
             [
              0.2222222222222222,
              "#7201a8"
             ],
             [
              0.3333333333333333,
              "#9c179e"
             ],
             [
              0.4444444444444444,
              "#bd3786"
             ],
             [
              0.5555555555555556,
              "#d8576b"
             ],
             [
              0.6666666666666666,
              "#ed7953"
             ],
             [
              0.7777777777777778,
              "#fb9f3a"
             ],
             [
              0.8888888888888888,
              "#fdca26"
             ],
             [
              1,
              "#f0f921"
             ]
            ],
            "type": "heatmap"
           }
          ],
          "heatmapgl": [
           {
            "colorbar": {
             "outlinewidth": 0,
             "ticks": ""
            },
            "colorscale": [
             [
              0,
              "#0d0887"
             ],
             [
              0.1111111111111111,
              "#46039f"
             ],
             [
              0.2222222222222222,
              "#7201a8"
             ],
             [
              0.3333333333333333,
              "#9c179e"
             ],
             [
              0.4444444444444444,
              "#bd3786"
             ],
             [
              0.5555555555555556,
              "#d8576b"
             ],
             [
              0.6666666666666666,
              "#ed7953"
             ],
             [
              0.7777777777777778,
              "#fb9f3a"
             ],
             [
              0.8888888888888888,
              "#fdca26"
             ],
             [
              1,
              "#f0f921"
             ]
            ],
            "type": "heatmapgl"
           }
          ],
          "histogram": [
           {
            "marker": {
             "pattern": {
              "fillmode": "overlay",
              "size": 10,
              "solidity": 0.2
             }
            },
            "type": "histogram"
           }
          ],
          "histogram2d": [
           {
            "colorbar": {
             "outlinewidth": 0,
             "ticks": ""
            },
            "colorscale": [
             [
              0,
              "#0d0887"
             ],
             [
              0.1111111111111111,
              "#46039f"
             ],
             [
              0.2222222222222222,
              "#7201a8"
             ],
             [
              0.3333333333333333,
              "#9c179e"
             ],
             [
              0.4444444444444444,
              "#bd3786"
             ],
             [
              0.5555555555555556,
              "#d8576b"
             ],
             [
              0.6666666666666666,
              "#ed7953"
             ],
             [
              0.7777777777777778,
              "#fb9f3a"
             ],
             [
              0.8888888888888888,
              "#fdca26"
             ],
             [
              1,
              "#f0f921"
             ]
            ],
            "type": "histogram2d"
           }
          ],
          "histogram2dcontour": [
           {
            "colorbar": {
             "outlinewidth": 0,
             "ticks": ""
            },
            "colorscale": [
             [
              0,
              "#0d0887"
             ],
             [
              0.1111111111111111,
              "#46039f"
             ],
             [
              0.2222222222222222,
              "#7201a8"
             ],
             [
              0.3333333333333333,
              "#9c179e"
             ],
             [
              0.4444444444444444,
              "#bd3786"
             ],
             [
              0.5555555555555556,
              "#d8576b"
             ],
             [
              0.6666666666666666,
              "#ed7953"
             ],
             [
              0.7777777777777778,
              "#fb9f3a"
             ],
             [
              0.8888888888888888,
              "#fdca26"
             ],
             [
              1,
              "#f0f921"
             ]
            ],
            "type": "histogram2dcontour"
           }
          ],
          "mesh3d": [
           {
            "colorbar": {
             "outlinewidth": 0,
             "ticks": ""
            },
            "type": "mesh3d"
           }
          ],
          "parcoords": [
           {
            "line": {
             "colorbar": {
              "outlinewidth": 0,
              "ticks": ""
             }
            },
            "type": "parcoords"
           }
          ],
          "pie": [
           {
            "automargin": true,
            "type": "pie"
           }
          ],
          "scatter": [
           {
            "fillpattern": {
             "fillmode": "overlay",
             "size": 10,
             "solidity": 0.2
            },
            "type": "scatter"
           }
          ],
          "scatter3d": [
           {
            "line": {
             "colorbar": {
              "outlinewidth": 0,
              "ticks": ""
             }
            },
            "marker": {
             "colorbar": {
              "outlinewidth": 0,
              "ticks": ""
             }
            },
            "type": "scatter3d"
           }
          ],
          "scattercarpet": [
           {
            "marker": {
             "colorbar": {
              "outlinewidth": 0,
              "ticks": ""
             }
            },
            "type": "scattercarpet"
           }
          ],
          "scattergeo": [
           {
            "marker": {
             "colorbar": {
              "outlinewidth": 0,
              "ticks": ""
             }
            },
            "type": "scattergeo"
           }
          ],
          "scattergl": [
           {
            "marker": {
             "colorbar": {
              "outlinewidth": 0,
              "ticks": ""
             }
            },
            "type": "scattergl"
           }
          ],
          "scattermapbox": [
           {
            "marker": {
             "colorbar": {
              "outlinewidth": 0,
              "ticks": ""
             }
            },
            "type": "scattermapbox"
           }
          ],
          "scatterpolar": [
           {
            "marker": {
             "colorbar": {
              "outlinewidth": 0,
              "ticks": ""
             }
            },
            "type": "scatterpolar"
           }
          ],
          "scatterpolargl": [
           {
            "marker": {
             "colorbar": {
              "outlinewidth": 0,
              "ticks": ""
             }
            },
            "type": "scatterpolargl"
           }
          ],
          "scatterternary": [
           {
            "marker": {
             "colorbar": {
              "outlinewidth": 0,
              "ticks": ""
             }
            },
            "type": "scatterternary"
           }
          ],
          "surface": [
           {
            "colorbar": {
             "outlinewidth": 0,
             "ticks": ""
            },
            "colorscale": [
             [
              0,
              "#0d0887"
             ],
             [
              0.1111111111111111,
              "#46039f"
             ],
             [
              0.2222222222222222,
              "#7201a8"
             ],
             [
              0.3333333333333333,
              "#9c179e"
             ],
             [
              0.4444444444444444,
              "#bd3786"
             ],
             [
              0.5555555555555556,
              "#d8576b"
             ],
             [
              0.6666666666666666,
              "#ed7953"
             ],
             [
              0.7777777777777778,
              "#fb9f3a"
             ],
             [
              0.8888888888888888,
              "#fdca26"
             ],
             [
              1,
              "#f0f921"
             ]
            ],
            "type": "surface"
           }
          ],
          "table": [
           {
            "cells": {
             "fill": {
              "color": "#EBF0F8"
             },
             "line": {
              "color": "white"
             }
            },
            "header": {
             "fill": {
              "color": "#C8D4E3"
             },
             "line": {
              "color": "white"
             }
            },
            "type": "table"
           }
          ]
         },
         "layout": {
          "annotationdefaults": {
           "arrowcolor": "#2a3f5f",
           "arrowhead": 0,
           "arrowwidth": 1
          },
          "autotypenumbers": "strict",
          "coloraxis": {
           "colorbar": {
            "outlinewidth": 0,
            "ticks": ""
           }
          },
          "colorscale": {
           "diverging": [
            [
             0,
             "#8e0152"
            ],
            [
             0.1,
             "#c51b7d"
            ],
            [
             0.2,
             "#de77ae"
            ],
            [
             0.3,
             "#f1b6da"
            ],
            [
             0.4,
             "#fde0ef"
            ],
            [
             0.5,
             "#f7f7f7"
            ],
            [
             0.6,
             "#e6f5d0"
            ],
            [
             0.7,
             "#b8e186"
            ],
            [
             0.8,
             "#7fbc41"
            ],
            [
             0.9,
             "#4d9221"
            ],
            [
             1,
             "#276419"
            ]
           ],
           "sequential": [
            [
             0,
             "#0d0887"
            ],
            [
             0.1111111111111111,
             "#46039f"
            ],
            [
             0.2222222222222222,
             "#7201a8"
            ],
            [
             0.3333333333333333,
             "#9c179e"
            ],
            [
             0.4444444444444444,
             "#bd3786"
            ],
            [
             0.5555555555555556,
             "#d8576b"
            ],
            [
             0.6666666666666666,
             "#ed7953"
            ],
            [
             0.7777777777777778,
             "#fb9f3a"
            ],
            [
             0.8888888888888888,
             "#fdca26"
            ],
            [
             1,
             "#f0f921"
            ]
           ],
           "sequentialminus": [
            [
             0,
             "#0d0887"
            ],
            [
             0.1111111111111111,
             "#46039f"
            ],
            [
             0.2222222222222222,
             "#7201a8"
            ],
            [
             0.3333333333333333,
             "#9c179e"
            ],
            [
             0.4444444444444444,
             "#bd3786"
            ],
            [
             0.5555555555555556,
             "#d8576b"
            ],
            [
             0.6666666666666666,
             "#ed7953"
            ],
            [
             0.7777777777777778,
             "#fb9f3a"
            ],
            [
             0.8888888888888888,
             "#fdca26"
            ],
            [
             1,
             "#f0f921"
            ]
           ]
          },
          "colorway": [
           "#636efa",
           "#EF553B",
           "#00cc96",
           "#ab63fa",
           "#FFA15A",
           "#19d3f3",
           "#FF6692",
           "#B6E880",
           "#FF97FF",
           "#FECB52"
          ],
          "font": {
           "color": "#2a3f5f"
          },
          "geo": {
           "bgcolor": "white",
           "lakecolor": "white",
           "landcolor": "#E5ECF6",
           "showlakes": true,
           "showland": true,
           "subunitcolor": "white"
          },
          "hoverlabel": {
           "align": "left"
          },
          "hovermode": "closest",
          "mapbox": {
           "style": "light"
          },
          "paper_bgcolor": "white",
          "plot_bgcolor": "#E5ECF6",
          "polar": {
           "angularaxis": {
            "gridcolor": "white",
            "linecolor": "white",
            "ticks": ""
           },
           "bgcolor": "#E5ECF6",
           "radialaxis": {
            "gridcolor": "white",
            "linecolor": "white",
            "ticks": ""
           }
          },
          "scene": {
           "xaxis": {
            "backgroundcolor": "#E5ECF6",
            "gridcolor": "white",
            "gridwidth": 2,
            "linecolor": "white",
            "showbackground": true,
            "ticks": "",
            "zerolinecolor": "white"
           },
           "yaxis": {
            "backgroundcolor": "#E5ECF6",
            "gridcolor": "white",
            "gridwidth": 2,
            "linecolor": "white",
            "showbackground": true,
            "ticks": "",
            "zerolinecolor": "white"
           },
           "zaxis": {
            "backgroundcolor": "#E5ECF6",
            "gridcolor": "white",
            "gridwidth": 2,
            "linecolor": "white",
            "showbackground": true,
            "ticks": "",
            "zerolinecolor": "white"
           }
          },
          "shapedefaults": {
           "line": {
            "color": "#2a3f5f"
           }
          },
          "ternary": {
           "aaxis": {
            "gridcolor": "white",
            "linecolor": "white",
            "ticks": ""
           },
           "baxis": {
            "gridcolor": "white",
            "linecolor": "white",
            "ticks": ""
           },
           "bgcolor": "#E5ECF6",
           "caxis": {
            "gridcolor": "white",
            "linecolor": "white",
            "ticks": ""
           }
          },
          "title": {
           "x": 0.05
          },
          "xaxis": {
           "automargin": true,
           "gridcolor": "white",
           "linecolor": "white",
           "ticks": "",
           "title": {
            "standoff": 15
           },
           "zerolinecolor": "white",
           "zerolinewidth": 2
          },
          "yaxis": {
           "automargin": true,
           "gridcolor": "white",
           "linecolor": "white",
           "ticks": "",
           "title": {
            "standoff": 15
           },
           "zerolinecolor": "white",
           "zerolinewidth": 2
          }
         }
        },
        "xaxis": {
         "anchor": "y",
         "categoryarray": [
          "Belgium",
          "Bulgaria",
          "Czechia",
          "Denmark",
          "Germany (until 1990 former territory of the FRG)",
          "Estonia",
          "Ireland",
          "Greece",
          "Spain",
          "France",
          "Croatia",
          "Italy",
          "Cyprus",
          "Latvia",
          "Lithuania",
          "Luxembourg",
          "Hungary",
          "Malta",
          "Netherlands",
          "Austria",
          "Poland",
          "Portugal",
          "Romania",
          "Slovenia",
          "Slovakia",
          "Finland",
          "Sweden",
          "Norway",
          "Montenegro",
          "North Macedonia",
          "Albania",
          "Serbia",
          "Türkiye"
         ],
         "categoryorder": "array",
         "domain": [
          0,
          1
         ],
         "title": {
          "text": "Country"
         }
        },
        "yaxis": {
         "anchor": "x",
         "domain": [
          0,
          1
         ],
         "title": {
          "text": "total_quarter_2022"
         }
        }
       }
      },
      "text/html": [
       "<div>                            <div id=\"5dccfd38-070a-409f-889f-ca16cd03ead0\" class=\"plotly-graph-div\" style=\"height:525px; width:100%;\"></div>            <script type=\"text/javascript\">                require([\"plotly\"], function(Plotly) {                    window.PLOTLYENV=window.PLOTLYENV || {};                                    if (document.getElementById(\"5dccfd38-070a-409f-889f-ca16cd03ead0\")) {                    Plotly.newPlot(                        \"5dccfd38-070a-409f-889f-ca16cd03ead0\",                        [{\"alignmentgroup\":\"True\",\"hovertemplate\":\"Country=%{x}<br>total_quarter_2022=%{y}<extra></extra>\",\"legendgroup\":\"Belgium\",\"marker\":{\"color\":\"#636efa\",\"pattern\":{\"shape\":\"\"}},\"name\":\"Belgium\",\"offsetgroup\":\"Belgium\",\"orientation\":\"v\",\"showlegend\":true,\"textposition\":\"auto\",\"x\":[\"Belgium\"],\"xaxis\":\"x\",\"y\":[514.1],\"yaxis\":\"y\",\"type\":\"bar\"},{\"alignmentgroup\":\"True\",\"hovertemplate\":\"Country=%{x}<br>total_quarter_2022=%{y}<extra></extra>\",\"legendgroup\":\"Bulgaria\",\"marker\":{\"color\":\"#EF553B\",\"pattern\":{\"shape\":\"\"}},\"name\":\"Bulgaria\",\"offsetgroup\":\"Bulgaria\",\"orientation\":\"v\",\"showlegend\":true,\"textposition\":\"auto\",\"x\":[\"Bulgaria\"],\"xaxis\":\"x\",\"y\":[607.0],\"yaxis\":\"y\",\"type\":\"bar\"},{\"alignmentgroup\":\"True\",\"hovertemplate\":\"Country=%{x}<br>total_quarter_2022=%{y}<extra></extra>\",\"legendgroup\":\"Czechia\",\"marker\":{\"color\":\"#00cc96\",\"pattern\":{\"shape\":\"\"}},\"name\":\"Czechia\",\"offsetgroup\":\"Czechia\",\"orientation\":\"v\",\"showlegend\":true,\"textposition\":\"auto\",\"x\":[\"Czechia\"],\"xaxis\":\"x\",\"y\":[584.5],\"yaxis\":\"y\",\"type\":\"bar\"},{\"alignmentgroup\":\"True\",\"hovertemplate\":\"Country=%{x}<br>total_quarter_2022=%{y}<extra></extra>\",\"legendgroup\":\"Denmark\",\"marker\":{\"color\":\"#ab63fa\",\"pattern\":{\"shape\":\"\"}},\"name\":\"Denmark\",\"offsetgroup\":\"Denmark\",\"orientation\":\"v\",\"showlegend\":true,\"textposition\":\"auto\",\"x\":[\"Denmark\"],\"xaxis\":\"x\",\"y\":[626.3],\"yaxis\":\"y\",\"type\":\"bar\"},{\"alignmentgroup\":\"True\",\"hovertemplate\":\"Country=%{x}<br>total_quarter_2022=%{y}<extra></extra>\",\"legendgroup\":\"Germany (until 1990 former territory of the FRG)\",\"marker\":{\"color\":\"#FFA15A\",\"pattern\":{\"shape\":\"\"}},\"name\":\"Germany (until 1990 former territory of the FRG)\",\"offsetgroup\":\"Germany (until 1990 former territory of the FRG)\",\"orientation\":\"v\",\"showlegend\":true,\"textposition\":\"auto\",\"x\":[\"Germany (until 1990 former territory of the FRG)\"],\"xaxis\":\"x\",\"y\":[542.4],\"yaxis\":\"y\",\"type\":\"bar\"},{\"alignmentgroup\":\"True\",\"hovertemplate\":\"Country=%{x}<br>total_quarter_2022=%{y}<extra></extra>\",\"legendgroup\":\"Estonia\",\"marker\":{\"color\":\"#19d3f3\",\"pattern\":{\"shape\":\"\"}},\"name\":\"Estonia\",\"offsetgroup\":\"Estonia\",\"orientation\":\"v\",\"showlegend\":true,\"textposition\":\"auto\",\"x\":[\"Estonia\"],\"xaxis\":\"x\",\"y\":[719.0999999999999],\"yaxis\":\"y\",\"type\":\"bar\"},{\"alignmentgroup\":\"True\",\"hovertemplate\":\"Country=%{x}<br>total_quarter_2022=%{y}<extra></extra>\",\"legendgroup\":\"Ireland\",\"marker\":{\"color\":\"#FF6692\",\"pattern\":{\"shape\":\"\"}},\"name\":\"Ireland\",\"offsetgroup\":\"Ireland\",\"orientation\":\"v\",\"showlegend\":true,\"textposition\":\"auto\",\"x\":[\"Ireland\"],\"xaxis\":\"x\",\"y\":[870.5999999999999],\"yaxis\":\"y\",\"type\":\"bar\"},{\"alignmentgroup\":\"True\",\"hovertemplate\":\"Country=%{x}<br>total_quarter_2022=%{y}<extra></extra>\",\"legendgroup\":\"Greece\",\"marker\":{\"color\":\"#B6E880\",\"pattern\":{\"shape\":\"\"}},\"name\":\"Greece\",\"offsetgroup\":\"Greece\",\"orientation\":\"v\",\"showlegend\":true,\"textposition\":\"auto\",\"x\":[\"Greece\"],\"xaxis\":\"x\",\"y\":[429.70000000000005],\"yaxis\":\"y\",\"type\":\"bar\"},{\"alignmentgroup\":\"True\",\"hovertemplate\":\"Country=%{x}<br>total_quarter_2022=%{y}<extra></extra>\",\"legendgroup\":\"Spain\",\"marker\":{\"color\":\"#FF97FF\",\"pattern\":{\"shape\":\"\"}},\"name\":\"Spain\",\"offsetgroup\":\"Spain\",\"orientation\":\"v\",\"showlegend\":true,\"textposition\":\"auto\",\"x\":[\"Spain\"],\"xaxis\":\"x\",\"y\":[468.9],\"yaxis\":\"y\",\"type\":\"bar\"},{\"alignmentgroup\":\"True\",\"hovertemplate\":\"Country=%{x}<br>total_quarter_2022=%{y}<extra></extra>\",\"legendgroup\":\"France\",\"marker\":{\"color\":\"#FECB52\",\"pattern\":{\"shape\":\"\"}},\"name\":\"France\",\"offsetgroup\":\"France\",\"orientation\":\"v\",\"showlegend\":true,\"textposition\":\"auto\",\"x\":[\"France\"],\"xaxis\":\"x\",\"y\":[523.1],\"yaxis\":\"y\",\"type\":\"bar\"},{\"alignmentgroup\":\"True\",\"hovertemplate\":\"Country=%{x}<br>total_quarter_2022=%{y}<extra></extra>\",\"legendgroup\":\"Croatia\",\"marker\":{\"color\":\"#636efa\",\"pattern\":{\"shape\":\"\"}},\"name\":\"Croatia\",\"offsetgroup\":\"Croatia\",\"orientation\":\"v\",\"showlegend\":true,\"textposition\":\"auto\",\"x\":[\"Croatia\"],\"xaxis\":\"x\",\"y\":[544.1],\"yaxis\":\"y\",\"type\":\"bar\"},{\"alignmentgroup\":\"True\",\"hovertemplate\":\"Country=%{x}<br>total_quarter_2022=%{y}<extra></extra>\",\"legendgroup\":\"Italy\",\"marker\":{\"color\":\"#EF553B\",\"pattern\":{\"shape\":\"\"}},\"name\":\"Italy\",\"offsetgroup\":\"Italy\",\"orientation\":\"v\",\"showlegend\":true,\"textposition\":\"auto\",\"x\":[\"Italy\"],\"xaxis\":\"x\",\"y\":[571.9],\"yaxis\":\"y\",\"type\":\"bar\"},{\"alignmentgroup\":\"True\",\"hovertemplate\":\"Country=%{x}<br>total_quarter_2022=%{y}<extra></extra>\",\"legendgroup\":\"Cyprus\",\"marker\":{\"color\":\"#00cc96\",\"pattern\":{\"shape\":\"\"}},\"name\":\"Cyprus\",\"offsetgroup\":\"Cyprus\",\"orientation\":\"v\",\"showlegend\":true,\"textposition\":\"auto\",\"x\":[\"Cyprus\"],\"xaxis\":\"x\",\"y\":[782.3],\"yaxis\":\"y\",\"type\":\"bar\"},{\"alignmentgroup\":\"True\",\"hovertemplate\":\"Country=%{x}<br>total_quarter_2022=%{y}<extra></extra>\",\"legendgroup\":\"Latvia\",\"marker\":{\"color\":\"#ab63fa\",\"pattern\":{\"shape\":\"\"}},\"name\":\"Latvia\",\"offsetgroup\":\"Latvia\",\"orientation\":\"v\",\"showlegend\":true,\"textposition\":\"auto\",\"x\":[\"Latvia\"],\"xaxis\":\"x\",\"y\":[649.0],\"yaxis\":\"y\",\"type\":\"bar\"},{\"alignmentgroup\":\"True\",\"hovertemplate\":\"Country=%{x}<br>total_quarter_2022=%{y}<extra></extra>\",\"legendgroup\":\"Lithuania\",\"marker\":{\"color\":\"#FFA15A\",\"pattern\":{\"shape\":\"\"}},\"name\":\"Lithuania\",\"offsetgroup\":\"Lithuania\",\"orientation\":\"v\",\"showlegend\":true,\"textposition\":\"auto\",\"x\":[\"Lithuania\"],\"xaxis\":\"x\",\"y\":[694.1],\"yaxis\":\"y\",\"type\":\"bar\"},{\"alignmentgroup\":\"True\",\"hovertemplate\":\"Country=%{x}<br>total_quarter_2022=%{y}<extra></extra>\",\"legendgroup\":\"Luxembourg\",\"marker\":{\"color\":\"#19d3f3\",\"pattern\":{\"shape\":\"\"}},\"name\":\"Luxembourg\",\"offsetgroup\":\"Luxembourg\",\"orientation\":\"v\",\"showlegend\":true,\"textposition\":\"auto\",\"x\":[\"Luxembourg\"],\"xaxis\":\"x\",\"y\":[512.4000000000001],\"yaxis\":\"y\",\"type\":\"bar\"},{\"alignmentgroup\":\"True\",\"hovertemplate\":\"Country=%{x}<br>total_quarter_2022=%{y}<extra></extra>\",\"legendgroup\":\"Hungary\",\"marker\":{\"color\":\"#FF6692\",\"pattern\":{\"shape\":\"\"}},\"name\":\"Hungary\",\"offsetgroup\":\"Hungary\",\"orientation\":\"v\",\"showlegend\":true,\"textposition\":\"auto\",\"x\":[\"Hungary\"],\"xaxis\":\"x\",\"y\":[1269.8],\"yaxis\":\"y\",\"type\":\"bar\"},{\"alignmentgroup\":\"True\",\"hovertemplate\":\"Country=%{x}<br>total_quarter_2022=%{y}<extra></extra>\",\"legendgroup\":\"Malta\",\"marker\":{\"color\":\"#B6E880\",\"pattern\":{\"shape\":\"\"}},\"name\":\"Malta\",\"offsetgroup\":\"Malta\",\"orientation\":\"v\",\"showlegend\":true,\"textposition\":\"auto\",\"x\":[\"Malta\"],\"xaxis\":\"x\",\"y\":[549.7],\"yaxis\":\"y\",\"type\":\"bar\"},{\"alignmentgroup\":\"True\",\"hovertemplate\":\"Country=%{x}<br>total_quarter_2022=%{y}<extra></extra>\",\"legendgroup\":\"Netherlands\",\"marker\":{\"color\":\"#FF97FF\",\"pattern\":{\"shape\":\"\"}},\"name\":\"Netherlands\",\"offsetgroup\":\"Netherlands\",\"orientation\":\"v\",\"showlegend\":true,\"textposition\":\"auto\",\"x\":[\"Netherlands\"],\"xaxis\":\"x\",\"y\":[537.0],\"yaxis\":\"y\",\"type\":\"bar\"},{\"alignmentgroup\":\"True\",\"hovertemplate\":\"Country=%{x}<br>total_quarter_2022=%{y}<extra></extra>\",\"legendgroup\":\"Austria\",\"marker\":{\"color\":\"#FECB52\",\"pattern\":{\"shape\":\"\"}},\"name\":\"Austria\",\"offsetgroup\":\"Austria\",\"orientation\":\"v\",\"showlegend\":true,\"textposition\":\"auto\",\"x\":[\"Austria\"],\"xaxis\":\"x\",\"y\":[581.9],\"yaxis\":\"y\",\"type\":\"bar\"},{\"alignmentgroup\":\"True\",\"hovertemplate\":\"Country=%{x}<br>total_quarter_2022=%{y}<extra></extra>\",\"legendgroup\":\"Poland\",\"marker\":{\"color\":\"#636efa\",\"pattern\":{\"shape\":\"\"}},\"name\":\"Poland\",\"offsetgroup\":\"Poland\",\"orientation\":\"v\",\"showlegend\":true,\"textposition\":\"auto\",\"x\":[\"Poland\"],\"xaxis\":\"x\",\"y\":[710.4999999999999],\"yaxis\":\"y\",\"type\":\"bar\"},{\"alignmentgroup\":\"True\",\"hovertemplate\":\"Country=%{x}<br>total_quarter_2022=%{y}<extra></extra>\",\"legendgroup\":\"Portugal\",\"marker\":{\"color\":\"#EF553B\",\"pattern\":{\"shape\":\"\"}},\"name\":\"Portugal\",\"offsetgroup\":\"Portugal\",\"orientation\":\"v\",\"showlegend\":true,\"textposition\":\"auto\",\"x\":[\"Portugal\"],\"xaxis\":\"x\",\"y\":[479.7],\"yaxis\":\"y\",\"type\":\"bar\"},{\"alignmentgroup\":\"True\",\"hovertemplate\":\"Country=%{x}<br>total_quarter_2022=%{y}<extra></extra>\",\"legendgroup\":\"Romania\",\"marker\":{\"color\":\"#00cc96\",\"pattern\":{\"shape\":\"\"}},\"name\":\"Romania\",\"offsetgroup\":\"Romania\",\"orientation\":\"v\",\"showlegend\":true,\"textposition\":\"auto\",\"x\":[\"Romania\"],\"xaxis\":\"x\",\"y\":[1330.7],\"yaxis\":\"y\",\"type\":\"bar\"},{\"alignmentgroup\":\"True\",\"hovertemplate\":\"Country=%{x}<br>total_quarter_2022=%{y}<extra></extra>\",\"legendgroup\":\"Slovenia\",\"marker\":{\"color\":\"#ab63fa\",\"pattern\":{\"shape\":\"\"}},\"name\":\"Slovenia\",\"offsetgroup\":\"Slovenia\",\"orientation\":\"v\",\"showlegend\":true,\"textposition\":\"auto\",\"x\":[\"Slovenia\"],\"xaxis\":\"x\",\"y\":[539.5999999999999],\"yaxis\":\"y\",\"type\":\"bar\"},{\"alignmentgroup\":\"True\",\"hovertemplate\":\"Country=%{x}<br>total_quarter_2022=%{y}<extra></extra>\",\"legendgroup\":\"Slovakia\",\"marker\":{\"color\":\"#FFA15A\",\"pattern\":{\"shape\":\"\"}},\"name\":\"Slovakia\",\"offsetgroup\":\"Slovakia\",\"orientation\":\"v\",\"showlegend\":true,\"textposition\":\"auto\",\"x\":[\"Slovakia\"],\"xaxis\":\"x\",\"y\":[524.0],\"yaxis\":\"y\",\"type\":\"bar\"},{\"alignmentgroup\":\"True\",\"hovertemplate\":\"Country=%{x}<br>total_quarter_2022=%{y}<extra></extra>\",\"legendgroup\":\"Finland\",\"marker\":{\"color\":\"#19d3f3\",\"pattern\":{\"shape\":\"\"}},\"name\":\"Finland\",\"offsetgroup\":\"Finland\",\"orientation\":\"v\",\"showlegend\":true,\"textposition\":\"auto\",\"x\":[\"Finland\"],\"xaxis\":\"x\",\"y\":[548.0],\"yaxis\":\"y\",\"type\":\"bar\"},{\"alignmentgroup\":\"True\",\"hovertemplate\":\"Country=%{x}<br>total_quarter_2022=%{y}<extra></extra>\",\"legendgroup\":\"Sweden\",\"marker\":{\"color\":\"#FF6692\",\"pattern\":{\"shape\":\"\"}},\"name\":\"Sweden\",\"offsetgroup\":\"Sweden\",\"orientation\":\"v\",\"showlegend\":true,\"textposition\":\"auto\",\"x\":[\"Sweden\"],\"xaxis\":\"x\",\"y\":[589.3],\"yaxis\":\"y\",\"type\":\"bar\"},{\"alignmentgroup\":\"True\",\"hovertemplate\":\"Country=%{x}<br>total_quarter_2022=%{y}<extra></extra>\",\"legendgroup\":\"Norway\",\"marker\":{\"color\":\"#B6E880\",\"pattern\":{\"shape\":\"\"}},\"name\":\"Norway\",\"offsetgroup\":\"Norway\",\"orientation\":\"v\",\"showlegend\":true,\"textposition\":\"auto\",\"x\":[\"Norway\"],\"xaxis\":\"x\",\"y\":[611.9],\"yaxis\":\"y\",\"type\":\"bar\"},{\"alignmentgroup\":\"True\",\"hovertemplate\":\"Country=%{x}<br>total_quarter_2022=%{y}<extra></extra>\",\"legendgroup\":\"Montenegro\",\"marker\":{\"color\":\"#FF97FF\",\"pattern\":{\"shape\":\"\"}},\"name\":\"Montenegro\",\"offsetgroup\":\"Montenegro\",\"orientation\":\"v\",\"showlegend\":true,\"textposition\":\"auto\",\"x\":[\"Montenegro\"],\"xaxis\":\"x\",\"y\":[497.5],\"yaxis\":\"y\",\"type\":\"bar\"},{\"alignmentgroup\":\"True\",\"hovertemplate\":\"Country=%{x}<br>total_quarter_2022=%{y}<extra></extra>\",\"legendgroup\":\"North Macedonia\",\"marker\":{\"color\":\"#FECB52\",\"pattern\":{\"shape\":\"\"}},\"name\":\"North Macedonia\",\"offsetgroup\":\"North Macedonia\",\"orientation\":\"v\",\"showlegend\":true,\"textposition\":\"auto\",\"x\":[\"North Macedonia\"],\"xaxis\":\"x\",\"y\":[652.1],\"yaxis\":\"y\",\"type\":\"bar\"},{\"alignmentgroup\":\"True\",\"hovertemplate\":\"Country=%{x}<br>total_quarter_2022=%{y}<extra></extra>\",\"legendgroup\":\"Albania\",\"marker\":{\"color\":\"#636efa\",\"pattern\":{\"shape\":\"\"}},\"name\":\"Albania\",\"offsetgroup\":\"Albania\",\"orientation\":\"v\",\"showlegend\":true,\"textposition\":\"auto\",\"x\":[\"Albania\"],\"xaxis\":\"x\",\"y\":[655.0],\"yaxis\":\"y\",\"type\":\"bar\"},{\"alignmentgroup\":\"True\",\"hovertemplate\":\"Country=%{x}<br>total_quarter_2022=%{y}<extra></extra>\",\"legendgroup\":\"Serbia\",\"marker\":{\"color\":\"#EF553B\",\"pattern\":{\"shape\":\"\"}},\"name\":\"Serbia\",\"offsetgroup\":\"Serbia\",\"orientation\":\"v\",\"showlegend\":true,\"textposition\":\"auto\",\"x\":[\"Serbia\"],\"xaxis\":\"x\",\"y\":[625.2],\"yaxis\":\"y\",\"type\":\"bar\"},{\"alignmentgroup\":\"True\",\"hovertemplate\":\"Country=%{x}<br>total_quarter_2022=%{y}<extra></extra>\",\"legendgroup\":\"T\\u00fcrkiye\",\"marker\":{\"color\":\"#00cc96\",\"pattern\":{\"shape\":\"\"}},\"name\":\"T\\u00fcrkiye\",\"offsetgroup\":\"T\\u00fcrkiye\",\"orientation\":\"v\",\"showlegend\":true,\"textposition\":\"auto\",\"x\":[\"T\\u00fcrkiye\"],\"xaxis\":\"x\",\"y\":[1626.0],\"yaxis\":\"y\",\"type\":\"bar\"}],                        {\"template\":{\"data\":{\"histogram2dcontour\":[{\"type\":\"histogram2dcontour\",\"colorbar\":{\"outlinewidth\":0,\"ticks\":\"\"},\"colorscale\":[[0.0,\"#0d0887\"],[0.1111111111111111,\"#46039f\"],[0.2222222222222222,\"#7201a8\"],[0.3333333333333333,\"#9c179e\"],[0.4444444444444444,\"#bd3786\"],[0.5555555555555556,\"#d8576b\"],[0.6666666666666666,\"#ed7953\"],[0.7777777777777778,\"#fb9f3a\"],[0.8888888888888888,\"#fdca26\"],[1.0,\"#f0f921\"]]}],\"choropleth\":[{\"type\":\"choropleth\",\"colorbar\":{\"outlinewidth\":0,\"ticks\":\"\"}}],\"histogram2d\":[{\"type\":\"histogram2d\",\"colorbar\":{\"outlinewidth\":0,\"ticks\":\"\"},\"colorscale\":[[0.0,\"#0d0887\"],[0.1111111111111111,\"#46039f\"],[0.2222222222222222,\"#7201a8\"],[0.3333333333333333,\"#9c179e\"],[0.4444444444444444,\"#bd3786\"],[0.5555555555555556,\"#d8576b\"],[0.6666666666666666,\"#ed7953\"],[0.7777777777777778,\"#fb9f3a\"],[0.8888888888888888,\"#fdca26\"],[1.0,\"#f0f921\"]]}],\"heatmap\":[{\"type\":\"heatmap\",\"colorbar\":{\"outlinewidth\":0,\"ticks\":\"\"},\"colorscale\":[[0.0,\"#0d0887\"],[0.1111111111111111,\"#46039f\"],[0.2222222222222222,\"#7201a8\"],[0.3333333333333333,\"#9c179e\"],[0.4444444444444444,\"#bd3786\"],[0.5555555555555556,\"#d8576b\"],[0.6666666666666666,\"#ed7953\"],[0.7777777777777778,\"#fb9f3a\"],[0.8888888888888888,\"#fdca26\"],[1.0,\"#f0f921\"]]}],\"heatmapgl\":[{\"type\":\"heatmapgl\",\"colorbar\":{\"outlinewidth\":0,\"ticks\":\"\"},\"colorscale\":[[0.0,\"#0d0887\"],[0.1111111111111111,\"#46039f\"],[0.2222222222222222,\"#7201a8\"],[0.3333333333333333,\"#9c179e\"],[0.4444444444444444,\"#bd3786\"],[0.5555555555555556,\"#d8576b\"],[0.6666666666666666,\"#ed7953\"],[0.7777777777777778,\"#fb9f3a\"],[0.8888888888888888,\"#fdca26\"],[1.0,\"#f0f921\"]]}],\"contourcarpet\":[{\"type\":\"contourcarpet\",\"colorbar\":{\"outlinewidth\":0,\"ticks\":\"\"}}],\"contour\":[{\"type\":\"contour\",\"colorbar\":{\"outlinewidth\":0,\"ticks\":\"\"},\"colorscale\":[[0.0,\"#0d0887\"],[0.1111111111111111,\"#46039f\"],[0.2222222222222222,\"#7201a8\"],[0.3333333333333333,\"#9c179e\"],[0.4444444444444444,\"#bd3786\"],[0.5555555555555556,\"#d8576b\"],[0.6666666666666666,\"#ed7953\"],[0.7777777777777778,\"#fb9f3a\"],[0.8888888888888888,\"#fdca26\"],[1.0,\"#f0f921\"]]}],\"surface\":[{\"type\":\"surface\",\"colorbar\":{\"outlinewidth\":0,\"ticks\":\"\"},\"colorscale\":[[0.0,\"#0d0887\"],[0.1111111111111111,\"#46039f\"],[0.2222222222222222,\"#7201a8\"],[0.3333333333333333,\"#9c179e\"],[0.4444444444444444,\"#bd3786\"],[0.5555555555555556,\"#d8576b\"],[0.6666666666666666,\"#ed7953\"],[0.7777777777777778,\"#fb9f3a\"],[0.8888888888888888,\"#fdca26\"],[1.0,\"#f0f921\"]]}],\"mesh3d\":[{\"type\":\"mesh3d\",\"colorbar\":{\"outlinewidth\":0,\"ticks\":\"\"}}],\"scatter\":[{\"fillpattern\":{\"fillmode\":\"overlay\",\"size\":10,\"solidity\":0.2},\"type\":\"scatter\"}],\"parcoords\":[{\"type\":\"parcoords\",\"line\":{\"colorbar\":{\"outlinewidth\":0,\"ticks\":\"\"}}}],\"scatterpolargl\":[{\"type\":\"scatterpolargl\",\"marker\":{\"colorbar\":{\"outlinewidth\":0,\"ticks\":\"\"}}}],\"bar\":[{\"error_x\":{\"color\":\"#2a3f5f\"},\"error_y\":{\"color\":\"#2a3f5f\"},\"marker\":{\"line\":{\"color\":\"#E5ECF6\",\"width\":0.5},\"pattern\":{\"fillmode\":\"overlay\",\"size\":10,\"solidity\":0.2}},\"type\":\"bar\"}],\"scattergeo\":[{\"type\":\"scattergeo\",\"marker\":{\"colorbar\":{\"outlinewidth\":0,\"ticks\":\"\"}}}],\"scatterpolar\":[{\"type\":\"scatterpolar\",\"marker\":{\"colorbar\":{\"outlinewidth\":0,\"ticks\":\"\"}}}],\"histogram\":[{\"marker\":{\"pattern\":{\"fillmode\":\"overlay\",\"size\":10,\"solidity\":0.2}},\"type\":\"histogram\"}],\"scattergl\":[{\"type\":\"scattergl\",\"marker\":{\"colorbar\":{\"outlinewidth\":0,\"ticks\":\"\"}}}],\"scatter3d\":[{\"type\":\"scatter3d\",\"line\":{\"colorbar\":{\"outlinewidth\":0,\"ticks\":\"\"}},\"marker\":{\"colorbar\":{\"outlinewidth\":0,\"ticks\":\"\"}}}],\"scattermapbox\":[{\"type\":\"scattermapbox\",\"marker\":{\"colorbar\":{\"outlinewidth\":0,\"ticks\":\"\"}}}],\"scatterternary\":[{\"type\":\"scatterternary\",\"marker\":{\"colorbar\":{\"outlinewidth\":0,\"ticks\":\"\"}}}],\"scattercarpet\":[{\"type\":\"scattercarpet\",\"marker\":{\"colorbar\":{\"outlinewidth\":0,\"ticks\":\"\"}}}],\"carpet\":[{\"aaxis\":{\"endlinecolor\":\"#2a3f5f\",\"gridcolor\":\"white\",\"linecolor\":\"white\",\"minorgridcolor\":\"white\",\"startlinecolor\":\"#2a3f5f\"},\"baxis\":{\"endlinecolor\":\"#2a3f5f\",\"gridcolor\":\"white\",\"linecolor\":\"white\",\"minorgridcolor\":\"white\",\"startlinecolor\":\"#2a3f5f\"},\"type\":\"carpet\"}],\"table\":[{\"cells\":{\"fill\":{\"color\":\"#EBF0F8\"},\"line\":{\"color\":\"white\"}},\"header\":{\"fill\":{\"color\":\"#C8D4E3\"},\"line\":{\"color\":\"white\"}},\"type\":\"table\"}],\"barpolar\":[{\"marker\":{\"line\":{\"color\":\"#E5ECF6\",\"width\":0.5},\"pattern\":{\"fillmode\":\"overlay\",\"size\":10,\"solidity\":0.2}},\"type\":\"barpolar\"}],\"pie\":[{\"automargin\":true,\"type\":\"pie\"}]},\"layout\":{\"autotypenumbers\":\"strict\",\"colorway\":[\"#636efa\",\"#EF553B\",\"#00cc96\",\"#ab63fa\",\"#FFA15A\",\"#19d3f3\",\"#FF6692\",\"#B6E880\",\"#FF97FF\",\"#FECB52\"],\"font\":{\"color\":\"#2a3f5f\"},\"hovermode\":\"closest\",\"hoverlabel\":{\"align\":\"left\"},\"paper_bgcolor\":\"white\",\"plot_bgcolor\":\"#E5ECF6\",\"polar\":{\"bgcolor\":\"#E5ECF6\",\"angularaxis\":{\"gridcolor\":\"white\",\"linecolor\":\"white\",\"ticks\":\"\"},\"radialaxis\":{\"gridcolor\":\"white\",\"linecolor\":\"white\",\"ticks\":\"\"}},\"ternary\":{\"bgcolor\":\"#E5ECF6\",\"aaxis\":{\"gridcolor\":\"white\",\"linecolor\":\"white\",\"ticks\":\"\"},\"baxis\":{\"gridcolor\":\"white\",\"linecolor\":\"white\",\"ticks\":\"\"},\"caxis\":{\"gridcolor\":\"white\",\"linecolor\":\"white\",\"ticks\":\"\"}},\"coloraxis\":{\"colorbar\":{\"outlinewidth\":0,\"ticks\":\"\"}},\"colorscale\":{\"sequential\":[[0.0,\"#0d0887\"],[0.1111111111111111,\"#46039f\"],[0.2222222222222222,\"#7201a8\"],[0.3333333333333333,\"#9c179e\"],[0.4444444444444444,\"#bd3786\"],[0.5555555555555556,\"#d8576b\"],[0.6666666666666666,\"#ed7953\"],[0.7777777777777778,\"#fb9f3a\"],[0.8888888888888888,\"#fdca26\"],[1.0,\"#f0f921\"]],\"sequentialminus\":[[0.0,\"#0d0887\"],[0.1111111111111111,\"#46039f\"],[0.2222222222222222,\"#7201a8\"],[0.3333333333333333,\"#9c179e\"],[0.4444444444444444,\"#bd3786\"],[0.5555555555555556,\"#d8576b\"],[0.6666666666666666,\"#ed7953\"],[0.7777777777777778,\"#fb9f3a\"],[0.8888888888888888,\"#fdca26\"],[1.0,\"#f0f921\"]],\"diverging\":[[0,\"#8e0152\"],[0.1,\"#c51b7d\"],[0.2,\"#de77ae\"],[0.3,\"#f1b6da\"],[0.4,\"#fde0ef\"],[0.5,\"#f7f7f7\"],[0.6,\"#e6f5d0\"],[0.7,\"#b8e186\"],[0.8,\"#7fbc41\"],[0.9,\"#4d9221\"],[1,\"#276419\"]]},\"xaxis\":{\"gridcolor\":\"white\",\"linecolor\":\"white\",\"ticks\":\"\",\"title\":{\"standoff\":15},\"zerolinecolor\":\"white\",\"automargin\":true,\"zerolinewidth\":2},\"yaxis\":{\"gridcolor\":\"white\",\"linecolor\":\"white\",\"ticks\":\"\",\"title\":{\"standoff\":15},\"zerolinecolor\":\"white\",\"automargin\":true,\"zerolinewidth\":2},\"scene\":{\"xaxis\":{\"backgroundcolor\":\"#E5ECF6\",\"gridcolor\":\"white\",\"linecolor\":\"white\",\"showbackground\":true,\"ticks\":\"\",\"zerolinecolor\":\"white\",\"gridwidth\":2},\"yaxis\":{\"backgroundcolor\":\"#E5ECF6\",\"gridcolor\":\"white\",\"linecolor\":\"white\",\"showbackground\":true,\"ticks\":\"\",\"zerolinecolor\":\"white\",\"gridwidth\":2},\"zaxis\":{\"backgroundcolor\":\"#E5ECF6\",\"gridcolor\":\"white\",\"linecolor\":\"white\",\"showbackground\":true,\"ticks\":\"\",\"zerolinecolor\":\"white\",\"gridwidth\":2}},\"shapedefaults\":{\"line\":{\"color\":\"#2a3f5f\"}},\"annotationdefaults\":{\"arrowcolor\":\"#2a3f5f\",\"arrowhead\":0,\"arrowwidth\":1},\"geo\":{\"bgcolor\":\"white\",\"landcolor\":\"#E5ECF6\",\"subunitcolor\":\"white\",\"showland\":true,\"showlakes\":true,\"lakecolor\":\"white\"},\"title\":{\"x\":0.05},\"mapbox\":{\"style\":\"light\"}}},\"xaxis\":{\"anchor\":\"y\",\"domain\":[0.0,1.0],\"title\":{\"text\":\"Country\"},\"categoryorder\":\"array\",\"categoryarray\":[\"Belgium\",\"Bulgaria\",\"Czechia\",\"Denmark\",\"Germany (until 1990 former territory of the FRG)\",\"Estonia\",\"Ireland\",\"Greece\",\"Spain\",\"France\",\"Croatia\",\"Italy\",\"Cyprus\",\"Latvia\",\"Lithuania\",\"Luxembourg\",\"Hungary\",\"Malta\",\"Netherlands\",\"Austria\",\"Poland\",\"Portugal\",\"Romania\",\"Slovenia\",\"Slovakia\",\"Finland\",\"Sweden\",\"Norway\",\"Montenegro\",\"North Macedonia\",\"Albania\",\"Serbia\",\"T\\u00fcrkiye\"]},\"yaxis\":{\"anchor\":\"x\",\"domain\":[0.0,1.0],\"title\":{\"text\":\"total_quarter_2022\"}},\"legend\":{\"title\":{\"text\":\"Country\"},\"tracegroupgap\":0},\"margin\":{\"t\":60},\"barmode\":\"relative\"},                        {\"responsive\": true}                    ).then(function(){\n",
       "                            \n",
       "var gd = document.getElementById('5dccfd38-070a-409f-889f-ca16cd03ead0');\n",
       "var x = new MutationObserver(function (mutations, observer) {{\n",
       "        var display = window.getComputedStyle(gd).display;\n",
       "        if (!display || display === 'none') {{\n",
       "            console.log([gd, 'removed!']);\n",
       "            Plotly.purge(gd);\n",
       "            observer.disconnect();\n",
       "        }}\n",
       "}});\n",
       "\n",
       "// Listen for the removal of the full notebook cells\n",
       "var notebookContainer = gd.closest('#notebook-container');\n",
       "if (notebookContainer) {{\n",
       "    x.observe(notebookContainer, {childList: true});\n",
       "}}\n",
       "\n",
       "// Listen for the clearing of the current output cell\n",
       "var outputEl = gd.closest('.output');\n",
       "if (outputEl) {{\n",
       "    x.observe(outputEl, {childList: true});\n",
       "}}\n",
       "\n",
       "                        })                };                });            </script>        </div>"
      ]
     },
     "metadata": {},
     "output_type": "display_data"
    }
   ],
   "source": [
    "\n",
    "px.bar(wage, x= 'Country', y= 'total_quarter_2022', color = 'Country')\n",
    "#wage = px.()\n",
    "#fig = px.bar(wage, x=\"total_quarter_2021\", y=\"total_quarter_2022\", color=\"smoker\", barmode=\"group\")\n",
    "#fig.show()"
   ]
  },
  {
   "cell_type": "code",
   "execution_count": 105,
   "id": "9657641d",
   "metadata": {},
   "outputs": [
    {
     "data": {
      "application/vnd.plotly.v1+json": {
       "config": {
        "plotlyServerURL": "https://plot.ly"
       },
       "data": [
        {
         "alignmentgroup": "True",
         "hovertemplate": "Country=%{x}<br>total_quarter_2021=%{y}<br>total_quarter_2022=%{marker.color}<extra></extra>",
         "legendgroup": "",
         "marker": {
          "color": [
           514.1,
           607,
           584.5,
           626.3,
           542.4,
           719.0999999999999,
           870.5999999999999,
           429.70000000000005,
           468.9,
           523.1,
           544.1,
           571.9,
           782.3,
           649,
           694.1,
           512.4000000000001,
           1269.8,
           549.7,
           537,
           581.9,
           710.4999999999999,
           479.7,
           1330.7,
           539.5999999999999,
           524,
           548,
           589.3,
           611.9,
           497.5,
           652.1,
           655,
           625.2,
           1626
          ],
          "coloraxis": "coloraxis",
          "pattern": {
           "shape": ""
          }
         },
         "name": "",
         "offsetgroup": "",
         "orientation": "v",
         "showlegend": false,
         "textposition": "auto",
         "type": "bar",
         "x": [
          "Belgium",
          "Bulgaria",
          "Czechia",
          "Denmark",
          "Germany (until 1990 former territory of the FRG)",
          "Estonia",
          "Ireland",
          "Greece",
          "Spain",
          "France",
          "Croatia",
          "Italy",
          "Cyprus",
          "Latvia",
          "Lithuania",
          "Luxembourg",
          "Hungary",
          "Malta",
          "Netherlands",
          "Austria",
          "Poland",
          "Portugal",
          "Romania",
          "Slovenia",
          "Slovakia",
          "Finland",
          "Sweden",
          "Norway",
          "Montenegro",
          "North Macedonia",
          "Albania",
          "Serbia",
          "Türkiye"
         ],
         "xaxis": "x",
         "y": [
          471.9,
          571.3,
          537.9000000000001,
          584,
          516.3,
          621.6,
          695.9,
          405.9,
          437.3,
          498,
          499.4,
          493.59999999999997,
          740.5,
          618.0999999999999,
          653.5,
          489.20000000000005,
          1034.7,
          509.9,
          515.4,
          545.9,
          625.4,
          451.9,
          1174,
          503.59999999999997,
          540.4000000000001,
          518.9,
          527.5999999999999,
          565.5,
          428.40000000000003,
          571.5,
          565,
          555.9,
          930.8
         ],
         "yaxis": "y"
        }
       ],
       "layout": {
        "barmode": "stack",
        "coloraxis": {
         "colorbar": {
          "title": {
           "text": "total_quarter_2022"
          }
         },
         "colorscale": [
          [
           0,
           "#0d0887"
          ],
          [
           0.1111111111111111,
           "#46039f"
          ],
          [
           0.2222222222222222,
           "#7201a8"
          ],
          [
           0.3333333333333333,
           "#9c179e"
          ],
          [
           0.4444444444444444,
           "#bd3786"
          ],
          [
           0.5555555555555556,
           "#d8576b"
          ],
          [
           0.6666666666666666,
           "#ed7953"
          ],
          [
           0.7777777777777778,
           "#fb9f3a"
          ],
          [
           0.8888888888888888,
           "#fdca26"
          ],
          [
           1,
           "#f0f921"
          ]
         ]
        },
        "legend": {
         "tracegroupgap": 0
        },
        "margin": {
         "t": 60
        },
        "template": {
         "data": {
          "bar": [
           {
            "error_x": {
             "color": "#2a3f5f"
            },
            "error_y": {
             "color": "#2a3f5f"
            },
            "marker": {
             "line": {
              "color": "#E5ECF6",
              "width": 0.5
             },
             "pattern": {
              "fillmode": "overlay",
              "size": 10,
              "solidity": 0.2
             }
            },
            "type": "bar"
           }
          ],
          "barpolar": [
           {
            "marker": {
             "line": {
              "color": "#E5ECF6",
              "width": 0.5
             },
             "pattern": {
              "fillmode": "overlay",
              "size": 10,
              "solidity": 0.2
             }
            },
            "type": "barpolar"
           }
          ],
          "carpet": [
           {
            "aaxis": {
             "endlinecolor": "#2a3f5f",
             "gridcolor": "white",
             "linecolor": "white",
             "minorgridcolor": "white",
             "startlinecolor": "#2a3f5f"
            },
            "baxis": {
             "endlinecolor": "#2a3f5f",
             "gridcolor": "white",
             "linecolor": "white",
             "minorgridcolor": "white",
             "startlinecolor": "#2a3f5f"
            },
            "type": "carpet"
           }
          ],
          "choropleth": [
           {
            "colorbar": {
             "outlinewidth": 0,
             "ticks": ""
            },
            "type": "choropleth"
           }
          ],
          "contour": [
           {
            "colorbar": {
             "outlinewidth": 0,
             "ticks": ""
            },
            "colorscale": [
             [
              0,
              "#0d0887"
             ],
             [
              0.1111111111111111,
              "#46039f"
             ],
             [
              0.2222222222222222,
              "#7201a8"
             ],
             [
              0.3333333333333333,
              "#9c179e"
             ],
             [
              0.4444444444444444,
              "#bd3786"
             ],
             [
              0.5555555555555556,
              "#d8576b"
             ],
             [
              0.6666666666666666,
              "#ed7953"
             ],
             [
              0.7777777777777778,
              "#fb9f3a"
             ],
             [
              0.8888888888888888,
              "#fdca26"
             ],
             [
              1,
              "#f0f921"
             ]
            ],
            "type": "contour"
           }
          ],
          "contourcarpet": [
           {
            "colorbar": {
             "outlinewidth": 0,
             "ticks": ""
            },
            "type": "contourcarpet"
           }
          ],
          "heatmap": [
           {
            "colorbar": {
             "outlinewidth": 0,
             "ticks": ""
            },
            "colorscale": [
             [
              0,
              "#0d0887"
             ],
             [
              0.1111111111111111,
              "#46039f"
             ],
             [
              0.2222222222222222,
              "#7201a8"
             ],
             [
              0.3333333333333333,
              "#9c179e"
             ],
             [
              0.4444444444444444,
              "#bd3786"
             ],
             [
              0.5555555555555556,
              "#d8576b"
             ],
             [
              0.6666666666666666,
              "#ed7953"
             ],
             [
              0.7777777777777778,
              "#fb9f3a"
             ],
             [
              0.8888888888888888,
              "#fdca26"
             ],
             [
              1,
              "#f0f921"
             ]
            ],
            "type": "heatmap"
           }
          ],
          "heatmapgl": [
           {
            "colorbar": {
             "outlinewidth": 0,
             "ticks": ""
            },
            "colorscale": [
             [
              0,
              "#0d0887"
             ],
             [
              0.1111111111111111,
              "#46039f"
             ],
             [
              0.2222222222222222,
              "#7201a8"
             ],
             [
              0.3333333333333333,
              "#9c179e"
             ],
             [
              0.4444444444444444,
              "#bd3786"
             ],
             [
              0.5555555555555556,
              "#d8576b"
             ],
             [
              0.6666666666666666,
              "#ed7953"
             ],
             [
              0.7777777777777778,
              "#fb9f3a"
             ],
             [
              0.8888888888888888,
              "#fdca26"
             ],
             [
              1,
              "#f0f921"
             ]
            ],
            "type": "heatmapgl"
           }
          ],
          "histogram": [
           {
            "marker": {
             "pattern": {
              "fillmode": "overlay",
              "size": 10,
              "solidity": 0.2
             }
            },
            "type": "histogram"
           }
          ],
          "histogram2d": [
           {
            "colorbar": {
             "outlinewidth": 0,
             "ticks": ""
            },
            "colorscale": [
             [
              0,
              "#0d0887"
             ],
             [
              0.1111111111111111,
              "#46039f"
             ],
             [
              0.2222222222222222,
              "#7201a8"
             ],
             [
              0.3333333333333333,
              "#9c179e"
             ],
             [
              0.4444444444444444,
              "#bd3786"
             ],
             [
              0.5555555555555556,
              "#d8576b"
             ],
             [
              0.6666666666666666,
              "#ed7953"
             ],
             [
              0.7777777777777778,
              "#fb9f3a"
             ],
             [
              0.8888888888888888,
              "#fdca26"
             ],
             [
              1,
              "#f0f921"
             ]
            ],
            "type": "histogram2d"
           }
          ],
          "histogram2dcontour": [
           {
            "colorbar": {
             "outlinewidth": 0,
             "ticks": ""
            },
            "colorscale": [
             [
              0,
              "#0d0887"
             ],
             [
              0.1111111111111111,
              "#46039f"
             ],
             [
              0.2222222222222222,
              "#7201a8"
             ],
             [
              0.3333333333333333,
              "#9c179e"
             ],
             [
              0.4444444444444444,
              "#bd3786"
             ],
             [
              0.5555555555555556,
              "#d8576b"
             ],
             [
              0.6666666666666666,
              "#ed7953"
             ],
             [
              0.7777777777777778,
              "#fb9f3a"
             ],
             [
              0.8888888888888888,
              "#fdca26"
             ],
             [
              1,
              "#f0f921"
             ]
            ],
            "type": "histogram2dcontour"
           }
          ],
          "mesh3d": [
           {
            "colorbar": {
             "outlinewidth": 0,
             "ticks": ""
            },
            "type": "mesh3d"
           }
          ],
          "parcoords": [
           {
            "line": {
             "colorbar": {
              "outlinewidth": 0,
              "ticks": ""
             }
            },
            "type": "parcoords"
           }
          ],
          "pie": [
           {
            "automargin": true,
            "type": "pie"
           }
          ],
          "scatter": [
           {
            "fillpattern": {
             "fillmode": "overlay",
             "size": 10,
             "solidity": 0.2
            },
            "type": "scatter"
           }
          ],
          "scatter3d": [
           {
            "line": {
             "colorbar": {
              "outlinewidth": 0,
              "ticks": ""
             }
            },
            "marker": {
             "colorbar": {
              "outlinewidth": 0,
              "ticks": ""
             }
            },
            "type": "scatter3d"
           }
          ],
          "scattercarpet": [
           {
            "marker": {
             "colorbar": {
              "outlinewidth": 0,
              "ticks": ""
             }
            },
            "type": "scattercarpet"
           }
          ],
          "scattergeo": [
           {
            "marker": {
             "colorbar": {
              "outlinewidth": 0,
              "ticks": ""
             }
            },
            "type": "scattergeo"
           }
          ],
          "scattergl": [
           {
            "marker": {
             "colorbar": {
              "outlinewidth": 0,
              "ticks": ""
             }
            },
            "type": "scattergl"
           }
          ],
          "scattermapbox": [
           {
            "marker": {
             "colorbar": {
              "outlinewidth": 0,
              "ticks": ""
             }
            },
            "type": "scattermapbox"
           }
          ],
          "scatterpolar": [
           {
            "marker": {
             "colorbar": {
              "outlinewidth": 0,
              "ticks": ""
             }
            },
            "type": "scatterpolar"
           }
          ],
          "scatterpolargl": [
           {
            "marker": {
             "colorbar": {
              "outlinewidth": 0,
              "ticks": ""
             }
            },
            "type": "scatterpolargl"
           }
          ],
          "scatterternary": [
           {
            "marker": {
             "colorbar": {
              "outlinewidth": 0,
              "ticks": ""
             }
            },
            "type": "scatterternary"
           }
          ],
          "surface": [
           {
            "colorbar": {
             "outlinewidth": 0,
             "ticks": ""
            },
            "colorscale": [
             [
              0,
              "#0d0887"
             ],
             [
              0.1111111111111111,
              "#46039f"
             ],
             [
              0.2222222222222222,
              "#7201a8"
             ],
             [
              0.3333333333333333,
              "#9c179e"
             ],
             [
              0.4444444444444444,
              "#bd3786"
             ],
             [
              0.5555555555555556,
              "#d8576b"
             ],
             [
              0.6666666666666666,
              "#ed7953"
             ],
             [
              0.7777777777777778,
              "#fb9f3a"
             ],
             [
              0.8888888888888888,
              "#fdca26"
             ],
             [
              1,
              "#f0f921"
             ]
            ],
            "type": "surface"
           }
          ],
          "table": [
           {
            "cells": {
             "fill": {
              "color": "#EBF0F8"
             },
             "line": {
              "color": "white"
             }
            },
            "header": {
             "fill": {
              "color": "#C8D4E3"
             },
             "line": {
              "color": "white"
             }
            },
            "type": "table"
           }
          ]
         },
         "layout": {
          "annotationdefaults": {
           "arrowcolor": "#2a3f5f",
           "arrowhead": 0,
           "arrowwidth": 1
          },
          "autotypenumbers": "strict",
          "coloraxis": {
           "colorbar": {
            "outlinewidth": 0,
            "ticks": ""
           }
          },
          "colorscale": {
           "diverging": [
            [
             0,
             "#8e0152"
            ],
            [
             0.1,
             "#c51b7d"
            ],
            [
             0.2,
             "#de77ae"
            ],
            [
             0.3,
             "#f1b6da"
            ],
            [
             0.4,
             "#fde0ef"
            ],
            [
             0.5,
             "#f7f7f7"
            ],
            [
             0.6,
             "#e6f5d0"
            ],
            [
             0.7,
             "#b8e186"
            ],
            [
             0.8,
             "#7fbc41"
            ],
            [
             0.9,
             "#4d9221"
            ],
            [
             1,
             "#276419"
            ]
           ],
           "sequential": [
            [
             0,
             "#0d0887"
            ],
            [
             0.1111111111111111,
             "#46039f"
            ],
            [
             0.2222222222222222,
             "#7201a8"
            ],
            [
             0.3333333333333333,
             "#9c179e"
            ],
            [
             0.4444444444444444,
             "#bd3786"
            ],
            [
             0.5555555555555556,
             "#d8576b"
            ],
            [
             0.6666666666666666,
             "#ed7953"
            ],
            [
             0.7777777777777778,
             "#fb9f3a"
            ],
            [
             0.8888888888888888,
             "#fdca26"
            ],
            [
             1,
             "#f0f921"
            ]
           ],
           "sequentialminus": [
            [
             0,
             "#0d0887"
            ],
            [
             0.1111111111111111,
             "#46039f"
            ],
            [
             0.2222222222222222,
             "#7201a8"
            ],
            [
             0.3333333333333333,
             "#9c179e"
            ],
            [
             0.4444444444444444,
             "#bd3786"
            ],
            [
             0.5555555555555556,
             "#d8576b"
            ],
            [
             0.6666666666666666,
             "#ed7953"
            ],
            [
             0.7777777777777778,
             "#fb9f3a"
            ],
            [
             0.8888888888888888,
             "#fdca26"
            ],
            [
             1,
             "#f0f921"
            ]
           ]
          },
          "colorway": [
           "#636efa",
           "#EF553B",
           "#00cc96",
           "#ab63fa",
           "#FFA15A",
           "#19d3f3",
           "#FF6692",
           "#B6E880",
           "#FF97FF",
           "#FECB52"
          ],
          "font": {
           "color": "#2a3f5f"
          },
          "geo": {
           "bgcolor": "white",
           "lakecolor": "white",
           "landcolor": "#E5ECF6",
           "showlakes": true,
           "showland": true,
           "subunitcolor": "white"
          },
          "hoverlabel": {
           "align": "left"
          },
          "hovermode": "closest",
          "mapbox": {
           "style": "light"
          },
          "paper_bgcolor": "white",
          "plot_bgcolor": "#E5ECF6",
          "polar": {
           "angularaxis": {
            "gridcolor": "white",
            "linecolor": "white",
            "ticks": ""
           },
           "bgcolor": "#E5ECF6",
           "radialaxis": {
            "gridcolor": "white",
            "linecolor": "white",
            "ticks": ""
           }
          },
          "scene": {
           "xaxis": {
            "backgroundcolor": "#E5ECF6",
            "gridcolor": "white",
            "gridwidth": 2,
            "linecolor": "white",
            "showbackground": true,
            "ticks": "",
            "zerolinecolor": "white"
           },
           "yaxis": {
            "backgroundcolor": "#E5ECF6",
            "gridcolor": "white",
            "gridwidth": 2,
            "linecolor": "white",
            "showbackground": true,
            "ticks": "",
            "zerolinecolor": "white"
           },
           "zaxis": {
            "backgroundcolor": "#E5ECF6",
            "gridcolor": "white",
            "gridwidth": 2,
            "linecolor": "white",
            "showbackground": true,
            "ticks": "",
            "zerolinecolor": "white"
           }
          },
          "shapedefaults": {
           "line": {
            "color": "#2a3f5f"
           }
          },
          "ternary": {
           "aaxis": {
            "gridcolor": "white",
            "linecolor": "white",
            "ticks": ""
           },
           "baxis": {
            "gridcolor": "white",
            "linecolor": "white",
            "ticks": ""
           },
           "bgcolor": "#E5ECF6",
           "caxis": {
            "gridcolor": "white",
            "linecolor": "white",
            "ticks": ""
           }
          },
          "title": {
           "x": 0.05
          },
          "xaxis": {
           "automargin": true,
           "gridcolor": "white",
           "linecolor": "white",
           "ticks": "",
           "title": {
            "standoff": 15
           },
           "zerolinecolor": "white",
           "zerolinewidth": 2
          },
          "yaxis": {
           "automargin": true,
           "gridcolor": "white",
           "linecolor": "white",
           "ticks": "",
           "title": {
            "standoff": 15
           },
           "zerolinecolor": "white",
           "zerolinewidth": 2
          }
         }
        },
        "xaxis": {
         "anchor": "y",
         "domain": [
          0,
          1
         ],
         "title": {
          "text": "Country"
         }
        },
        "yaxis": {
         "anchor": "x",
         "domain": [
          0,
          1
         ],
         "title": {
          "text": "total_quarter_2021"
         }
        }
       }
      },
      "text/html": [
       "<div>                            <div id=\"d493189f-d130-4cb6-b77a-5442ff6e42da\" class=\"plotly-graph-div\" style=\"height:525px; width:100%;\"></div>            <script type=\"text/javascript\">                require([\"plotly\"], function(Plotly) {                    window.PLOTLYENV=window.PLOTLYENV || {};                                    if (document.getElementById(\"d493189f-d130-4cb6-b77a-5442ff6e42da\")) {                    Plotly.newPlot(                        \"d493189f-d130-4cb6-b77a-5442ff6e42da\",                        [{\"alignmentgroup\":\"True\",\"hovertemplate\":\"Country=%{x}<br>total_quarter_2021=%{y}<br>total_quarter_2022=%{marker.color}<extra></extra>\",\"legendgroup\":\"\",\"marker\":{\"color\":[514.1,607.0,584.5,626.3,542.4,719.0999999999999,870.5999999999999,429.70000000000005,468.9,523.1,544.1,571.9,782.3,649.0,694.1,512.4000000000001,1269.8,549.7,537.0,581.9,710.4999999999999,479.7,1330.7,539.5999999999999,524.0,548.0,589.3,611.9,497.5,652.1,655.0,625.2,1626.0],\"coloraxis\":\"coloraxis\",\"pattern\":{\"shape\":\"\"}},\"name\":\"\",\"offsetgroup\":\"\",\"orientation\":\"v\",\"showlegend\":false,\"textposition\":\"auto\",\"x\":[\"Belgium\",\"Bulgaria\",\"Czechia\",\"Denmark\",\"Germany (until 1990 former territory of the FRG)\",\"Estonia\",\"Ireland\",\"Greece\",\"Spain\",\"France\",\"Croatia\",\"Italy\",\"Cyprus\",\"Latvia\",\"Lithuania\",\"Luxembourg\",\"Hungary\",\"Malta\",\"Netherlands\",\"Austria\",\"Poland\",\"Portugal\",\"Romania\",\"Slovenia\",\"Slovakia\",\"Finland\",\"Sweden\",\"Norway\",\"Montenegro\",\"North Macedonia\",\"Albania\",\"Serbia\",\"T\\u00fcrkiye\"],\"xaxis\":\"x\",\"y\":[471.9,571.3,537.9000000000001,584.0,516.3,621.6,695.9,405.9,437.3,498.0,499.4,493.59999999999997,740.5,618.0999999999999,653.5,489.20000000000005,1034.7,509.9,515.4,545.9,625.4,451.9,1174.0,503.59999999999997,540.4000000000001,518.9,527.5999999999999,565.5,428.40000000000003,571.5,565.0,555.9,930.8],\"yaxis\":\"y\",\"type\":\"bar\"}],                        {\"template\":{\"data\":{\"histogram2dcontour\":[{\"type\":\"histogram2dcontour\",\"colorbar\":{\"outlinewidth\":0,\"ticks\":\"\"},\"colorscale\":[[0.0,\"#0d0887\"],[0.1111111111111111,\"#46039f\"],[0.2222222222222222,\"#7201a8\"],[0.3333333333333333,\"#9c179e\"],[0.4444444444444444,\"#bd3786\"],[0.5555555555555556,\"#d8576b\"],[0.6666666666666666,\"#ed7953\"],[0.7777777777777778,\"#fb9f3a\"],[0.8888888888888888,\"#fdca26\"],[1.0,\"#f0f921\"]]}],\"choropleth\":[{\"type\":\"choropleth\",\"colorbar\":{\"outlinewidth\":0,\"ticks\":\"\"}}],\"histogram2d\":[{\"type\":\"histogram2d\",\"colorbar\":{\"outlinewidth\":0,\"ticks\":\"\"},\"colorscale\":[[0.0,\"#0d0887\"],[0.1111111111111111,\"#46039f\"],[0.2222222222222222,\"#7201a8\"],[0.3333333333333333,\"#9c179e\"],[0.4444444444444444,\"#bd3786\"],[0.5555555555555556,\"#d8576b\"],[0.6666666666666666,\"#ed7953\"],[0.7777777777777778,\"#fb9f3a\"],[0.8888888888888888,\"#fdca26\"],[1.0,\"#f0f921\"]]}],\"heatmap\":[{\"type\":\"heatmap\",\"colorbar\":{\"outlinewidth\":0,\"ticks\":\"\"},\"colorscale\":[[0.0,\"#0d0887\"],[0.1111111111111111,\"#46039f\"],[0.2222222222222222,\"#7201a8\"],[0.3333333333333333,\"#9c179e\"],[0.4444444444444444,\"#bd3786\"],[0.5555555555555556,\"#d8576b\"],[0.6666666666666666,\"#ed7953\"],[0.7777777777777778,\"#fb9f3a\"],[0.8888888888888888,\"#fdca26\"],[1.0,\"#f0f921\"]]}],\"heatmapgl\":[{\"type\":\"heatmapgl\",\"colorbar\":{\"outlinewidth\":0,\"ticks\":\"\"},\"colorscale\":[[0.0,\"#0d0887\"],[0.1111111111111111,\"#46039f\"],[0.2222222222222222,\"#7201a8\"],[0.3333333333333333,\"#9c179e\"],[0.4444444444444444,\"#bd3786\"],[0.5555555555555556,\"#d8576b\"],[0.6666666666666666,\"#ed7953\"],[0.7777777777777778,\"#fb9f3a\"],[0.8888888888888888,\"#fdca26\"],[1.0,\"#f0f921\"]]}],\"contourcarpet\":[{\"type\":\"contourcarpet\",\"colorbar\":{\"outlinewidth\":0,\"ticks\":\"\"}}],\"contour\":[{\"type\":\"contour\",\"colorbar\":{\"outlinewidth\":0,\"ticks\":\"\"},\"colorscale\":[[0.0,\"#0d0887\"],[0.1111111111111111,\"#46039f\"],[0.2222222222222222,\"#7201a8\"],[0.3333333333333333,\"#9c179e\"],[0.4444444444444444,\"#bd3786\"],[0.5555555555555556,\"#d8576b\"],[0.6666666666666666,\"#ed7953\"],[0.7777777777777778,\"#fb9f3a\"],[0.8888888888888888,\"#fdca26\"],[1.0,\"#f0f921\"]]}],\"surface\":[{\"type\":\"surface\",\"colorbar\":{\"outlinewidth\":0,\"ticks\":\"\"},\"colorscale\":[[0.0,\"#0d0887\"],[0.1111111111111111,\"#46039f\"],[0.2222222222222222,\"#7201a8\"],[0.3333333333333333,\"#9c179e\"],[0.4444444444444444,\"#bd3786\"],[0.5555555555555556,\"#d8576b\"],[0.6666666666666666,\"#ed7953\"],[0.7777777777777778,\"#fb9f3a\"],[0.8888888888888888,\"#fdca26\"],[1.0,\"#f0f921\"]]}],\"mesh3d\":[{\"type\":\"mesh3d\",\"colorbar\":{\"outlinewidth\":0,\"ticks\":\"\"}}],\"scatter\":[{\"fillpattern\":{\"fillmode\":\"overlay\",\"size\":10,\"solidity\":0.2},\"type\":\"scatter\"}],\"parcoords\":[{\"type\":\"parcoords\",\"line\":{\"colorbar\":{\"outlinewidth\":0,\"ticks\":\"\"}}}],\"scatterpolargl\":[{\"type\":\"scatterpolargl\",\"marker\":{\"colorbar\":{\"outlinewidth\":0,\"ticks\":\"\"}}}],\"bar\":[{\"error_x\":{\"color\":\"#2a3f5f\"},\"error_y\":{\"color\":\"#2a3f5f\"},\"marker\":{\"line\":{\"color\":\"#E5ECF6\",\"width\":0.5},\"pattern\":{\"fillmode\":\"overlay\",\"size\":10,\"solidity\":0.2}},\"type\":\"bar\"}],\"scattergeo\":[{\"type\":\"scattergeo\",\"marker\":{\"colorbar\":{\"outlinewidth\":0,\"ticks\":\"\"}}}],\"scatterpolar\":[{\"type\":\"scatterpolar\",\"marker\":{\"colorbar\":{\"outlinewidth\":0,\"ticks\":\"\"}}}],\"histogram\":[{\"marker\":{\"pattern\":{\"fillmode\":\"overlay\",\"size\":10,\"solidity\":0.2}},\"type\":\"histogram\"}],\"scattergl\":[{\"type\":\"scattergl\",\"marker\":{\"colorbar\":{\"outlinewidth\":0,\"ticks\":\"\"}}}],\"scatter3d\":[{\"type\":\"scatter3d\",\"line\":{\"colorbar\":{\"outlinewidth\":0,\"ticks\":\"\"}},\"marker\":{\"colorbar\":{\"outlinewidth\":0,\"ticks\":\"\"}}}],\"scattermapbox\":[{\"type\":\"scattermapbox\",\"marker\":{\"colorbar\":{\"outlinewidth\":0,\"ticks\":\"\"}}}],\"scatterternary\":[{\"type\":\"scatterternary\",\"marker\":{\"colorbar\":{\"outlinewidth\":0,\"ticks\":\"\"}}}],\"scattercarpet\":[{\"type\":\"scattercarpet\",\"marker\":{\"colorbar\":{\"outlinewidth\":0,\"ticks\":\"\"}}}],\"carpet\":[{\"aaxis\":{\"endlinecolor\":\"#2a3f5f\",\"gridcolor\":\"white\",\"linecolor\":\"white\",\"minorgridcolor\":\"white\",\"startlinecolor\":\"#2a3f5f\"},\"baxis\":{\"endlinecolor\":\"#2a3f5f\",\"gridcolor\":\"white\",\"linecolor\":\"white\",\"minorgridcolor\":\"white\",\"startlinecolor\":\"#2a3f5f\"},\"type\":\"carpet\"}],\"table\":[{\"cells\":{\"fill\":{\"color\":\"#EBF0F8\"},\"line\":{\"color\":\"white\"}},\"header\":{\"fill\":{\"color\":\"#C8D4E3\"},\"line\":{\"color\":\"white\"}},\"type\":\"table\"}],\"barpolar\":[{\"marker\":{\"line\":{\"color\":\"#E5ECF6\",\"width\":0.5},\"pattern\":{\"fillmode\":\"overlay\",\"size\":10,\"solidity\":0.2}},\"type\":\"barpolar\"}],\"pie\":[{\"automargin\":true,\"type\":\"pie\"}]},\"layout\":{\"autotypenumbers\":\"strict\",\"colorway\":[\"#636efa\",\"#EF553B\",\"#00cc96\",\"#ab63fa\",\"#FFA15A\",\"#19d3f3\",\"#FF6692\",\"#B6E880\",\"#FF97FF\",\"#FECB52\"],\"font\":{\"color\":\"#2a3f5f\"},\"hovermode\":\"closest\",\"hoverlabel\":{\"align\":\"left\"},\"paper_bgcolor\":\"white\",\"plot_bgcolor\":\"#E5ECF6\",\"polar\":{\"bgcolor\":\"#E5ECF6\",\"angularaxis\":{\"gridcolor\":\"white\",\"linecolor\":\"white\",\"ticks\":\"\"},\"radialaxis\":{\"gridcolor\":\"white\",\"linecolor\":\"white\",\"ticks\":\"\"}},\"ternary\":{\"bgcolor\":\"#E5ECF6\",\"aaxis\":{\"gridcolor\":\"white\",\"linecolor\":\"white\",\"ticks\":\"\"},\"baxis\":{\"gridcolor\":\"white\",\"linecolor\":\"white\",\"ticks\":\"\"},\"caxis\":{\"gridcolor\":\"white\",\"linecolor\":\"white\",\"ticks\":\"\"}},\"coloraxis\":{\"colorbar\":{\"outlinewidth\":0,\"ticks\":\"\"}},\"colorscale\":{\"sequential\":[[0.0,\"#0d0887\"],[0.1111111111111111,\"#46039f\"],[0.2222222222222222,\"#7201a8\"],[0.3333333333333333,\"#9c179e\"],[0.4444444444444444,\"#bd3786\"],[0.5555555555555556,\"#d8576b\"],[0.6666666666666666,\"#ed7953\"],[0.7777777777777778,\"#fb9f3a\"],[0.8888888888888888,\"#fdca26\"],[1.0,\"#f0f921\"]],\"sequentialminus\":[[0.0,\"#0d0887\"],[0.1111111111111111,\"#46039f\"],[0.2222222222222222,\"#7201a8\"],[0.3333333333333333,\"#9c179e\"],[0.4444444444444444,\"#bd3786\"],[0.5555555555555556,\"#d8576b\"],[0.6666666666666666,\"#ed7953\"],[0.7777777777777778,\"#fb9f3a\"],[0.8888888888888888,\"#fdca26\"],[1.0,\"#f0f921\"]],\"diverging\":[[0,\"#8e0152\"],[0.1,\"#c51b7d\"],[0.2,\"#de77ae\"],[0.3,\"#f1b6da\"],[0.4,\"#fde0ef\"],[0.5,\"#f7f7f7\"],[0.6,\"#e6f5d0\"],[0.7,\"#b8e186\"],[0.8,\"#7fbc41\"],[0.9,\"#4d9221\"],[1,\"#276419\"]]},\"xaxis\":{\"gridcolor\":\"white\",\"linecolor\":\"white\",\"ticks\":\"\",\"title\":{\"standoff\":15},\"zerolinecolor\":\"white\",\"automargin\":true,\"zerolinewidth\":2},\"yaxis\":{\"gridcolor\":\"white\",\"linecolor\":\"white\",\"ticks\":\"\",\"title\":{\"standoff\":15},\"zerolinecolor\":\"white\",\"automargin\":true,\"zerolinewidth\":2},\"scene\":{\"xaxis\":{\"backgroundcolor\":\"#E5ECF6\",\"gridcolor\":\"white\",\"linecolor\":\"white\",\"showbackground\":true,\"ticks\":\"\",\"zerolinecolor\":\"white\",\"gridwidth\":2},\"yaxis\":{\"backgroundcolor\":\"#E5ECF6\",\"gridcolor\":\"white\",\"linecolor\":\"white\",\"showbackground\":true,\"ticks\":\"\",\"zerolinecolor\":\"white\",\"gridwidth\":2},\"zaxis\":{\"backgroundcolor\":\"#E5ECF6\",\"gridcolor\":\"white\",\"linecolor\":\"white\",\"showbackground\":true,\"ticks\":\"\",\"zerolinecolor\":\"white\",\"gridwidth\":2}},\"shapedefaults\":{\"line\":{\"color\":\"#2a3f5f\"}},\"annotationdefaults\":{\"arrowcolor\":\"#2a3f5f\",\"arrowhead\":0,\"arrowwidth\":1},\"geo\":{\"bgcolor\":\"white\",\"landcolor\":\"#E5ECF6\",\"subunitcolor\":\"white\",\"showland\":true,\"showlakes\":true,\"lakecolor\":\"white\"},\"title\":{\"x\":0.05},\"mapbox\":{\"style\":\"light\"}}},\"xaxis\":{\"anchor\":\"y\",\"domain\":[0.0,1.0],\"title\":{\"text\":\"Country\"}},\"yaxis\":{\"anchor\":\"x\",\"domain\":[0.0,1.0],\"title\":{\"text\":\"total_quarter_2021\"}},\"coloraxis\":{\"colorbar\":{\"title\":{\"text\":\"total_quarter_2022\"}},\"colorscale\":[[0.0,\"#0d0887\"],[0.1111111111111111,\"#46039f\"],[0.2222222222222222,\"#7201a8\"],[0.3333333333333333,\"#9c179e\"],[0.4444444444444444,\"#bd3786\"],[0.5555555555555556,\"#d8576b\"],[0.6666666666666666,\"#ed7953\"],[0.7777777777777778,\"#fb9f3a\"],[0.8888888888888888,\"#fdca26\"],[1.0,\"#f0f921\"]]},\"legend\":{\"tracegroupgap\":0},\"margin\":{\"t\":60},\"barmode\":\"stack\"},                        {\"responsive\": true}                    ).then(function(){\n",
       "                            \n",
       "var gd = document.getElementById('d493189f-d130-4cb6-b77a-5442ff6e42da');\n",
       "var x = new MutationObserver(function (mutations, observer) {{\n",
       "        var display = window.getComputedStyle(gd).display;\n",
       "        if (!display || display === 'none') {{\n",
       "            console.log([gd, 'removed!']);\n",
       "            Plotly.purge(gd);\n",
       "            observer.disconnect();\n",
       "        }}\n",
       "}});\n",
       "\n",
       "// Listen for the removal of the full notebook cells\n",
       "var notebookContainer = gd.closest('#notebook-container');\n",
       "if (notebookContainer) {{\n",
       "    x.observe(notebookContainer, {childList: true});\n",
       "}}\n",
       "\n",
       "// Listen for the clearing of the current output cell\n",
       "var outputEl = gd.closest('.output');\n",
       "if (outputEl) {{\n",
       "    x.observe(outputEl, {childList: true});\n",
       "}}\n",
       "\n",
       "                        })                };                });            </script>        </div>"
      ]
     },
     "metadata": {},
     "output_type": "display_data"
    }
   ],
   "source": [
    "\n",
    "fig = px.bar(wage, x=\"Country\", y= \"total_quarter_2021\", color = 'total_quarter_2022', barmode = 'stack')\n",
    "fig.show()"
   ]
  },
  {
   "cell_type": "code",
   "execution_count": 34,
   "id": "978eef7f",
   "metadata": {},
   "outputs": [
    {
     "data": {
      "application/vnd.plotly.v1+json": {
       "config": {
        "plotlyServerURL": "https://plot.ly"
       },
       "data": [
        {
         "domain": {
          "x": [
           0,
           1
          ],
          "y": [
           0,
           1
          ]
         },
         "hovertemplate": "total_quarter_2021=%{label}<extra></extra>",
         "labels": [
          565,
          545.9,
          471.9,
          571.3,
          499.4,
          740.5,
          537.9000000000001,
          584,
          621.6,
          518.9,
          498,
          516.3,
          405.9,
          1034.7,
          695.9,
          493.59999999999997,
          618.0999999999999,
          653.5,
          489.20000000000005,
          509.9,
          428.40000000000003,
          515.4,
          571.5,
          565.5,
          625.4,
          451.9,
          1174,
          555.9,
          540.4000000000001,
          503.59999999999997,
          437.3,
          527.5999999999999,
          930.8
         ],
         "legendgroup": "",
         "name": "",
         "showlegend": true,
         "type": "pie"
        }
       ],
       "layout": {
        "legend": {
         "tracegroupgap": 0
        },
        "margin": {
         "t": 60
        },
        "template": {
         "data": {
          "bar": [
           {
            "error_x": {
             "color": "#2a3f5f"
            },
            "error_y": {
             "color": "#2a3f5f"
            },
            "marker": {
             "line": {
              "color": "#E5ECF6",
              "width": 0.5
             },
             "pattern": {
              "fillmode": "overlay",
              "size": 10,
              "solidity": 0.2
             }
            },
            "type": "bar"
           }
          ],
          "barpolar": [
           {
            "marker": {
             "line": {
              "color": "#E5ECF6",
              "width": 0.5
             },
             "pattern": {
              "fillmode": "overlay",
              "size": 10,
              "solidity": 0.2
             }
            },
            "type": "barpolar"
           }
          ],
          "carpet": [
           {
            "aaxis": {
             "endlinecolor": "#2a3f5f",
             "gridcolor": "white",
             "linecolor": "white",
             "minorgridcolor": "white",
             "startlinecolor": "#2a3f5f"
            },
            "baxis": {
             "endlinecolor": "#2a3f5f",
             "gridcolor": "white",
             "linecolor": "white",
             "minorgridcolor": "white",
             "startlinecolor": "#2a3f5f"
            },
            "type": "carpet"
           }
          ],
          "choropleth": [
           {
            "colorbar": {
             "outlinewidth": 0,
             "ticks": ""
            },
            "type": "choropleth"
           }
          ],
          "contour": [
           {
            "colorbar": {
             "outlinewidth": 0,
             "ticks": ""
            },
            "colorscale": [
             [
              0,
              "#0d0887"
             ],
             [
              0.1111111111111111,
              "#46039f"
             ],
             [
              0.2222222222222222,
              "#7201a8"
             ],
             [
              0.3333333333333333,
              "#9c179e"
             ],
             [
              0.4444444444444444,
              "#bd3786"
             ],
             [
              0.5555555555555556,
              "#d8576b"
             ],
             [
              0.6666666666666666,
              "#ed7953"
             ],
             [
              0.7777777777777778,
              "#fb9f3a"
             ],
             [
              0.8888888888888888,
              "#fdca26"
             ],
             [
              1,
              "#f0f921"
             ]
            ],
            "type": "contour"
           }
          ],
          "contourcarpet": [
           {
            "colorbar": {
             "outlinewidth": 0,
             "ticks": ""
            },
            "type": "contourcarpet"
           }
          ],
          "heatmap": [
           {
            "colorbar": {
             "outlinewidth": 0,
             "ticks": ""
            },
            "colorscale": [
             [
              0,
              "#0d0887"
             ],
             [
              0.1111111111111111,
              "#46039f"
             ],
             [
              0.2222222222222222,
              "#7201a8"
             ],
             [
              0.3333333333333333,
              "#9c179e"
             ],
             [
              0.4444444444444444,
              "#bd3786"
             ],
             [
              0.5555555555555556,
              "#d8576b"
             ],
             [
              0.6666666666666666,
              "#ed7953"
             ],
             [
              0.7777777777777778,
              "#fb9f3a"
             ],
             [
              0.8888888888888888,
              "#fdca26"
             ],
             [
              1,
              "#f0f921"
             ]
            ],
            "type": "heatmap"
           }
          ],
          "heatmapgl": [
           {
            "colorbar": {
             "outlinewidth": 0,
             "ticks": ""
            },
            "colorscale": [
             [
              0,
              "#0d0887"
             ],
             [
              0.1111111111111111,
              "#46039f"
             ],
             [
              0.2222222222222222,
              "#7201a8"
             ],
             [
              0.3333333333333333,
              "#9c179e"
             ],
             [
              0.4444444444444444,
              "#bd3786"
             ],
             [
              0.5555555555555556,
              "#d8576b"
             ],
             [
              0.6666666666666666,
              "#ed7953"
             ],
             [
              0.7777777777777778,
              "#fb9f3a"
             ],
             [
              0.8888888888888888,
              "#fdca26"
             ],
             [
              1,
              "#f0f921"
             ]
            ],
            "type": "heatmapgl"
           }
          ],
          "histogram": [
           {
            "marker": {
             "pattern": {
              "fillmode": "overlay",
              "size": 10,
              "solidity": 0.2
             }
            },
            "type": "histogram"
           }
          ],
          "histogram2d": [
           {
            "colorbar": {
             "outlinewidth": 0,
             "ticks": ""
            },
            "colorscale": [
             [
              0,
              "#0d0887"
             ],
             [
              0.1111111111111111,
              "#46039f"
             ],
             [
              0.2222222222222222,
              "#7201a8"
             ],
             [
              0.3333333333333333,
              "#9c179e"
             ],
             [
              0.4444444444444444,
              "#bd3786"
             ],
             [
              0.5555555555555556,
              "#d8576b"
             ],
             [
              0.6666666666666666,
              "#ed7953"
             ],
             [
              0.7777777777777778,
              "#fb9f3a"
             ],
             [
              0.8888888888888888,
              "#fdca26"
             ],
             [
              1,
              "#f0f921"
             ]
            ],
            "type": "histogram2d"
           }
          ],
          "histogram2dcontour": [
           {
            "colorbar": {
             "outlinewidth": 0,
             "ticks": ""
            },
            "colorscale": [
             [
              0,
              "#0d0887"
             ],
             [
              0.1111111111111111,
              "#46039f"
             ],
             [
              0.2222222222222222,
              "#7201a8"
             ],
             [
              0.3333333333333333,
              "#9c179e"
             ],
             [
              0.4444444444444444,
              "#bd3786"
             ],
             [
              0.5555555555555556,
              "#d8576b"
             ],
             [
              0.6666666666666666,
              "#ed7953"
             ],
             [
              0.7777777777777778,
              "#fb9f3a"
             ],
             [
              0.8888888888888888,
              "#fdca26"
             ],
             [
              1,
              "#f0f921"
             ]
            ],
            "type": "histogram2dcontour"
           }
          ],
          "mesh3d": [
           {
            "colorbar": {
             "outlinewidth": 0,
             "ticks": ""
            },
            "type": "mesh3d"
           }
          ],
          "parcoords": [
           {
            "line": {
             "colorbar": {
              "outlinewidth": 0,
              "ticks": ""
             }
            },
            "type": "parcoords"
           }
          ],
          "pie": [
           {
            "automargin": true,
            "type": "pie"
           }
          ],
          "scatter": [
           {
            "fillpattern": {
             "fillmode": "overlay",
             "size": 10,
             "solidity": 0.2
            },
            "type": "scatter"
           }
          ],
          "scatter3d": [
           {
            "line": {
             "colorbar": {
              "outlinewidth": 0,
              "ticks": ""
             }
            },
            "marker": {
             "colorbar": {
              "outlinewidth": 0,
              "ticks": ""
             }
            },
            "type": "scatter3d"
           }
          ],
          "scattercarpet": [
           {
            "marker": {
             "colorbar": {
              "outlinewidth": 0,
              "ticks": ""
             }
            },
            "type": "scattercarpet"
           }
          ],
          "scattergeo": [
           {
            "marker": {
             "colorbar": {
              "outlinewidth": 0,
              "ticks": ""
             }
            },
            "type": "scattergeo"
           }
          ],
          "scattergl": [
           {
            "marker": {
             "colorbar": {
              "outlinewidth": 0,
              "ticks": ""
             }
            },
            "type": "scattergl"
           }
          ],
          "scattermapbox": [
           {
            "marker": {
             "colorbar": {
              "outlinewidth": 0,
              "ticks": ""
             }
            },
            "type": "scattermapbox"
           }
          ],
          "scatterpolar": [
           {
            "marker": {
             "colorbar": {
              "outlinewidth": 0,
              "ticks": ""
             }
            },
            "type": "scatterpolar"
           }
          ],
          "scatterpolargl": [
           {
            "marker": {
             "colorbar": {
              "outlinewidth": 0,
              "ticks": ""
             }
            },
            "type": "scatterpolargl"
           }
          ],
          "scatterternary": [
           {
            "marker": {
             "colorbar": {
              "outlinewidth": 0,
              "ticks": ""
             }
            },
            "type": "scatterternary"
           }
          ],
          "surface": [
           {
            "colorbar": {
             "outlinewidth": 0,
             "ticks": ""
            },
            "colorscale": [
             [
              0,
              "#0d0887"
             ],
             [
              0.1111111111111111,
              "#46039f"
             ],
             [
              0.2222222222222222,
              "#7201a8"
             ],
             [
              0.3333333333333333,
              "#9c179e"
             ],
             [
              0.4444444444444444,
              "#bd3786"
             ],
             [
              0.5555555555555556,
              "#d8576b"
             ],
             [
              0.6666666666666666,
              "#ed7953"
             ],
             [
              0.7777777777777778,
              "#fb9f3a"
             ],
             [
              0.8888888888888888,
              "#fdca26"
             ],
             [
              1,
              "#f0f921"
             ]
            ],
            "type": "surface"
           }
          ],
          "table": [
           {
            "cells": {
             "fill": {
              "color": "#EBF0F8"
             },
             "line": {
              "color": "white"
             }
            },
            "header": {
             "fill": {
              "color": "#C8D4E3"
             },
             "line": {
              "color": "white"
             }
            },
            "type": "table"
           }
          ]
         },
         "layout": {
          "annotationdefaults": {
           "arrowcolor": "#2a3f5f",
           "arrowhead": 0,
           "arrowwidth": 1
          },
          "autotypenumbers": "strict",
          "coloraxis": {
           "colorbar": {
            "outlinewidth": 0,
            "ticks": ""
           }
          },
          "colorscale": {
           "diverging": [
            [
             0,
             "#8e0152"
            ],
            [
             0.1,
             "#c51b7d"
            ],
            [
             0.2,
             "#de77ae"
            ],
            [
             0.3,
             "#f1b6da"
            ],
            [
             0.4,
             "#fde0ef"
            ],
            [
             0.5,
             "#f7f7f7"
            ],
            [
             0.6,
             "#e6f5d0"
            ],
            [
             0.7,
             "#b8e186"
            ],
            [
             0.8,
             "#7fbc41"
            ],
            [
             0.9,
             "#4d9221"
            ],
            [
             1,
             "#276419"
            ]
           ],
           "sequential": [
            [
             0,
             "#0d0887"
            ],
            [
             0.1111111111111111,
             "#46039f"
            ],
            [
             0.2222222222222222,
             "#7201a8"
            ],
            [
             0.3333333333333333,
             "#9c179e"
            ],
            [
             0.4444444444444444,
             "#bd3786"
            ],
            [
             0.5555555555555556,
             "#d8576b"
            ],
            [
             0.6666666666666666,
             "#ed7953"
            ],
            [
             0.7777777777777778,
             "#fb9f3a"
            ],
            [
             0.8888888888888888,
             "#fdca26"
            ],
            [
             1,
             "#f0f921"
            ]
           ],
           "sequentialminus": [
            [
             0,
             "#0d0887"
            ],
            [
             0.1111111111111111,
             "#46039f"
            ],
            [
             0.2222222222222222,
             "#7201a8"
            ],
            [
             0.3333333333333333,
             "#9c179e"
            ],
            [
             0.4444444444444444,
             "#bd3786"
            ],
            [
             0.5555555555555556,
             "#d8576b"
            ],
            [
             0.6666666666666666,
             "#ed7953"
            ],
            [
             0.7777777777777778,
             "#fb9f3a"
            ],
            [
             0.8888888888888888,
             "#fdca26"
            ],
            [
             1,
             "#f0f921"
            ]
           ]
          },
          "colorway": [
           "#636efa",
           "#EF553B",
           "#00cc96",
           "#ab63fa",
           "#FFA15A",
           "#19d3f3",
           "#FF6692",
           "#B6E880",
           "#FF97FF",
           "#FECB52"
          ],
          "font": {
           "color": "#2a3f5f"
          },
          "geo": {
           "bgcolor": "white",
           "lakecolor": "white",
           "landcolor": "#E5ECF6",
           "showlakes": true,
           "showland": true,
           "subunitcolor": "white"
          },
          "hoverlabel": {
           "align": "left"
          },
          "hovermode": "closest",
          "mapbox": {
           "style": "light"
          },
          "paper_bgcolor": "white",
          "plot_bgcolor": "#E5ECF6",
          "polar": {
           "angularaxis": {
            "gridcolor": "white",
            "linecolor": "white",
            "ticks": ""
           },
           "bgcolor": "#E5ECF6",
           "radialaxis": {
            "gridcolor": "white",
            "linecolor": "white",
            "ticks": ""
           }
          },
          "scene": {
           "xaxis": {
            "backgroundcolor": "#E5ECF6",
            "gridcolor": "white",
            "gridwidth": 2,
            "linecolor": "white",
            "showbackground": true,
            "ticks": "",
            "zerolinecolor": "white"
           },
           "yaxis": {
            "backgroundcolor": "#E5ECF6",
            "gridcolor": "white",
            "gridwidth": 2,
            "linecolor": "white",
            "showbackground": true,
            "ticks": "",
            "zerolinecolor": "white"
           },
           "zaxis": {
            "backgroundcolor": "#E5ECF6",
            "gridcolor": "white",
            "gridwidth": 2,
            "linecolor": "white",
            "showbackground": true,
            "ticks": "",
            "zerolinecolor": "white"
           }
          },
          "shapedefaults": {
           "line": {
            "color": "#2a3f5f"
           }
          },
          "ternary": {
           "aaxis": {
            "gridcolor": "white",
            "linecolor": "white",
            "ticks": ""
           },
           "baxis": {
            "gridcolor": "white",
            "linecolor": "white",
            "ticks": ""
           },
           "bgcolor": "#E5ECF6",
           "caxis": {
            "gridcolor": "white",
            "linecolor": "white",
            "ticks": ""
           }
          },
          "title": {
           "x": 0.05
          },
          "xaxis": {
           "automargin": true,
           "gridcolor": "white",
           "linecolor": "white",
           "ticks": "",
           "title": {
            "standoff": 15
           },
           "zerolinecolor": "white",
           "zerolinewidth": 2
          },
          "yaxis": {
           "automargin": true,
           "gridcolor": "white",
           "linecolor": "white",
           "ticks": "",
           "title": {
            "standoff": 15
           },
           "zerolinecolor": "white",
           "zerolinewidth": 2
          }
         }
        }
       }
      },
      "text/html": [
       "<div>                            <div id=\"06089053-dfd1-4e92-9773-870b76d9cb2e\" class=\"plotly-graph-div\" style=\"height:525px; width:100%;\"></div>            <script type=\"text/javascript\">                require([\"plotly\"], function(Plotly) {                    window.PLOTLYENV=window.PLOTLYENV || {};                                    if (document.getElementById(\"06089053-dfd1-4e92-9773-870b76d9cb2e\")) {                    Plotly.newPlot(                        \"06089053-dfd1-4e92-9773-870b76d9cb2e\",                        [{\"domain\":{\"x\":[0.0,1.0],\"y\":[0.0,1.0]},\"hovertemplate\":\"total_quarter_2021=%{label}<extra></extra>\",\"labels\":[565.0,545.9,471.9,571.3,499.4,740.5,537.9000000000001,584.0,621.6,518.9,498.0,516.3,405.9,1034.7,695.9,493.59999999999997,618.0999999999999,653.5,489.20000000000005,509.9,428.40000000000003,515.4,571.5,565.5,625.4,451.9,1174.0,555.9,540.4000000000001,503.59999999999997,437.3,527.5999999999999,930.8],\"legendgroup\":\"\",\"name\":\"\",\"showlegend\":true,\"type\":\"pie\"}],                        {\"template\":{\"data\":{\"histogram2dcontour\":[{\"type\":\"histogram2dcontour\",\"colorbar\":{\"outlinewidth\":0,\"ticks\":\"\"},\"colorscale\":[[0.0,\"#0d0887\"],[0.1111111111111111,\"#46039f\"],[0.2222222222222222,\"#7201a8\"],[0.3333333333333333,\"#9c179e\"],[0.4444444444444444,\"#bd3786\"],[0.5555555555555556,\"#d8576b\"],[0.6666666666666666,\"#ed7953\"],[0.7777777777777778,\"#fb9f3a\"],[0.8888888888888888,\"#fdca26\"],[1.0,\"#f0f921\"]]}],\"choropleth\":[{\"type\":\"choropleth\",\"colorbar\":{\"outlinewidth\":0,\"ticks\":\"\"}}],\"histogram2d\":[{\"type\":\"histogram2d\",\"colorbar\":{\"outlinewidth\":0,\"ticks\":\"\"},\"colorscale\":[[0.0,\"#0d0887\"],[0.1111111111111111,\"#46039f\"],[0.2222222222222222,\"#7201a8\"],[0.3333333333333333,\"#9c179e\"],[0.4444444444444444,\"#bd3786\"],[0.5555555555555556,\"#d8576b\"],[0.6666666666666666,\"#ed7953\"],[0.7777777777777778,\"#fb9f3a\"],[0.8888888888888888,\"#fdca26\"],[1.0,\"#f0f921\"]]}],\"heatmap\":[{\"type\":\"heatmap\",\"colorbar\":{\"outlinewidth\":0,\"ticks\":\"\"},\"colorscale\":[[0.0,\"#0d0887\"],[0.1111111111111111,\"#46039f\"],[0.2222222222222222,\"#7201a8\"],[0.3333333333333333,\"#9c179e\"],[0.4444444444444444,\"#bd3786\"],[0.5555555555555556,\"#d8576b\"],[0.6666666666666666,\"#ed7953\"],[0.7777777777777778,\"#fb9f3a\"],[0.8888888888888888,\"#fdca26\"],[1.0,\"#f0f921\"]]}],\"heatmapgl\":[{\"type\":\"heatmapgl\",\"colorbar\":{\"outlinewidth\":0,\"ticks\":\"\"},\"colorscale\":[[0.0,\"#0d0887\"],[0.1111111111111111,\"#46039f\"],[0.2222222222222222,\"#7201a8\"],[0.3333333333333333,\"#9c179e\"],[0.4444444444444444,\"#bd3786\"],[0.5555555555555556,\"#d8576b\"],[0.6666666666666666,\"#ed7953\"],[0.7777777777777778,\"#fb9f3a\"],[0.8888888888888888,\"#fdca26\"],[1.0,\"#f0f921\"]]}],\"contourcarpet\":[{\"type\":\"contourcarpet\",\"colorbar\":{\"outlinewidth\":0,\"ticks\":\"\"}}],\"contour\":[{\"type\":\"contour\",\"colorbar\":{\"outlinewidth\":0,\"ticks\":\"\"},\"colorscale\":[[0.0,\"#0d0887\"],[0.1111111111111111,\"#46039f\"],[0.2222222222222222,\"#7201a8\"],[0.3333333333333333,\"#9c179e\"],[0.4444444444444444,\"#bd3786\"],[0.5555555555555556,\"#d8576b\"],[0.6666666666666666,\"#ed7953\"],[0.7777777777777778,\"#fb9f3a\"],[0.8888888888888888,\"#fdca26\"],[1.0,\"#f0f921\"]]}],\"surface\":[{\"type\":\"surface\",\"colorbar\":{\"outlinewidth\":0,\"ticks\":\"\"},\"colorscale\":[[0.0,\"#0d0887\"],[0.1111111111111111,\"#46039f\"],[0.2222222222222222,\"#7201a8\"],[0.3333333333333333,\"#9c179e\"],[0.4444444444444444,\"#bd3786\"],[0.5555555555555556,\"#d8576b\"],[0.6666666666666666,\"#ed7953\"],[0.7777777777777778,\"#fb9f3a\"],[0.8888888888888888,\"#fdca26\"],[1.0,\"#f0f921\"]]}],\"mesh3d\":[{\"type\":\"mesh3d\",\"colorbar\":{\"outlinewidth\":0,\"ticks\":\"\"}}],\"scatter\":[{\"fillpattern\":{\"fillmode\":\"overlay\",\"size\":10,\"solidity\":0.2},\"type\":\"scatter\"}],\"parcoords\":[{\"type\":\"parcoords\",\"line\":{\"colorbar\":{\"outlinewidth\":0,\"ticks\":\"\"}}}],\"scatterpolargl\":[{\"type\":\"scatterpolargl\",\"marker\":{\"colorbar\":{\"outlinewidth\":0,\"ticks\":\"\"}}}],\"bar\":[{\"error_x\":{\"color\":\"#2a3f5f\"},\"error_y\":{\"color\":\"#2a3f5f\"},\"marker\":{\"line\":{\"color\":\"#E5ECF6\",\"width\":0.5},\"pattern\":{\"fillmode\":\"overlay\",\"size\":10,\"solidity\":0.2}},\"type\":\"bar\"}],\"scattergeo\":[{\"type\":\"scattergeo\",\"marker\":{\"colorbar\":{\"outlinewidth\":0,\"ticks\":\"\"}}}],\"scatterpolar\":[{\"type\":\"scatterpolar\",\"marker\":{\"colorbar\":{\"outlinewidth\":0,\"ticks\":\"\"}}}],\"histogram\":[{\"marker\":{\"pattern\":{\"fillmode\":\"overlay\",\"size\":10,\"solidity\":0.2}},\"type\":\"histogram\"}],\"scattergl\":[{\"type\":\"scattergl\",\"marker\":{\"colorbar\":{\"outlinewidth\":0,\"ticks\":\"\"}}}],\"scatter3d\":[{\"type\":\"scatter3d\",\"line\":{\"colorbar\":{\"outlinewidth\":0,\"ticks\":\"\"}},\"marker\":{\"colorbar\":{\"outlinewidth\":0,\"ticks\":\"\"}}}],\"scattermapbox\":[{\"type\":\"scattermapbox\",\"marker\":{\"colorbar\":{\"outlinewidth\":0,\"ticks\":\"\"}}}],\"scatterternary\":[{\"type\":\"scatterternary\",\"marker\":{\"colorbar\":{\"outlinewidth\":0,\"ticks\":\"\"}}}],\"scattercarpet\":[{\"type\":\"scattercarpet\",\"marker\":{\"colorbar\":{\"outlinewidth\":0,\"ticks\":\"\"}}}],\"carpet\":[{\"aaxis\":{\"endlinecolor\":\"#2a3f5f\",\"gridcolor\":\"white\",\"linecolor\":\"white\",\"minorgridcolor\":\"white\",\"startlinecolor\":\"#2a3f5f\"},\"baxis\":{\"endlinecolor\":\"#2a3f5f\",\"gridcolor\":\"white\",\"linecolor\":\"white\",\"minorgridcolor\":\"white\",\"startlinecolor\":\"#2a3f5f\"},\"type\":\"carpet\"}],\"table\":[{\"cells\":{\"fill\":{\"color\":\"#EBF0F8\"},\"line\":{\"color\":\"white\"}},\"header\":{\"fill\":{\"color\":\"#C8D4E3\"},\"line\":{\"color\":\"white\"}},\"type\":\"table\"}],\"barpolar\":[{\"marker\":{\"line\":{\"color\":\"#E5ECF6\",\"width\":0.5},\"pattern\":{\"fillmode\":\"overlay\",\"size\":10,\"solidity\":0.2}},\"type\":\"barpolar\"}],\"pie\":[{\"automargin\":true,\"type\":\"pie\"}]},\"layout\":{\"autotypenumbers\":\"strict\",\"colorway\":[\"#636efa\",\"#EF553B\",\"#00cc96\",\"#ab63fa\",\"#FFA15A\",\"#19d3f3\",\"#FF6692\",\"#B6E880\",\"#FF97FF\",\"#FECB52\"],\"font\":{\"color\":\"#2a3f5f\"},\"hovermode\":\"closest\",\"hoverlabel\":{\"align\":\"left\"},\"paper_bgcolor\":\"white\",\"plot_bgcolor\":\"#E5ECF6\",\"polar\":{\"bgcolor\":\"#E5ECF6\",\"angularaxis\":{\"gridcolor\":\"white\",\"linecolor\":\"white\",\"ticks\":\"\"},\"radialaxis\":{\"gridcolor\":\"white\",\"linecolor\":\"white\",\"ticks\":\"\"}},\"ternary\":{\"bgcolor\":\"#E5ECF6\",\"aaxis\":{\"gridcolor\":\"white\",\"linecolor\":\"white\",\"ticks\":\"\"},\"baxis\":{\"gridcolor\":\"white\",\"linecolor\":\"white\",\"ticks\":\"\"},\"caxis\":{\"gridcolor\":\"white\",\"linecolor\":\"white\",\"ticks\":\"\"}},\"coloraxis\":{\"colorbar\":{\"outlinewidth\":0,\"ticks\":\"\"}},\"colorscale\":{\"sequential\":[[0.0,\"#0d0887\"],[0.1111111111111111,\"#46039f\"],[0.2222222222222222,\"#7201a8\"],[0.3333333333333333,\"#9c179e\"],[0.4444444444444444,\"#bd3786\"],[0.5555555555555556,\"#d8576b\"],[0.6666666666666666,\"#ed7953\"],[0.7777777777777778,\"#fb9f3a\"],[0.8888888888888888,\"#fdca26\"],[1.0,\"#f0f921\"]],\"sequentialminus\":[[0.0,\"#0d0887\"],[0.1111111111111111,\"#46039f\"],[0.2222222222222222,\"#7201a8\"],[0.3333333333333333,\"#9c179e\"],[0.4444444444444444,\"#bd3786\"],[0.5555555555555556,\"#d8576b\"],[0.6666666666666666,\"#ed7953\"],[0.7777777777777778,\"#fb9f3a\"],[0.8888888888888888,\"#fdca26\"],[1.0,\"#f0f921\"]],\"diverging\":[[0,\"#8e0152\"],[0.1,\"#c51b7d\"],[0.2,\"#de77ae\"],[0.3,\"#f1b6da\"],[0.4,\"#fde0ef\"],[0.5,\"#f7f7f7\"],[0.6,\"#e6f5d0\"],[0.7,\"#b8e186\"],[0.8,\"#7fbc41\"],[0.9,\"#4d9221\"],[1,\"#276419\"]]},\"xaxis\":{\"gridcolor\":\"white\",\"linecolor\":\"white\",\"ticks\":\"\",\"title\":{\"standoff\":15},\"zerolinecolor\":\"white\",\"automargin\":true,\"zerolinewidth\":2},\"yaxis\":{\"gridcolor\":\"white\",\"linecolor\":\"white\",\"ticks\":\"\",\"title\":{\"standoff\":15},\"zerolinecolor\":\"white\",\"automargin\":true,\"zerolinewidth\":2},\"scene\":{\"xaxis\":{\"backgroundcolor\":\"#E5ECF6\",\"gridcolor\":\"white\",\"linecolor\":\"white\",\"showbackground\":true,\"ticks\":\"\",\"zerolinecolor\":\"white\",\"gridwidth\":2},\"yaxis\":{\"backgroundcolor\":\"#E5ECF6\",\"gridcolor\":\"white\",\"linecolor\":\"white\",\"showbackground\":true,\"ticks\":\"\",\"zerolinecolor\":\"white\",\"gridwidth\":2},\"zaxis\":{\"backgroundcolor\":\"#E5ECF6\",\"gridcolor\":\"white\",\"linecolor\":\"white\",\"showbackground\":true,\"ticks\":\"\",\"zerolinecolor\":\"white\",\"gridwidth\":2}},\"shapedefaults\":{\"line\":{\"color\":\"#2a3f5f\"}},\"annotationdefaults\":{\"arrowcolor\":\"#2a3f5f\",\"arrowhead\":0,\"arrowwidth\":1},\"geo\":{\"bgcolor\":\"white\",\"landcolor\":\"#E5ECF6\",\"subunitcolor\":\"white\",\"showland\":true,\"showlakes\":true,\"lakecolor\":\"white\"},\"title\":{\"x\":0.05},\"mapbox\":{\"style\":\"light\"}}},\"legend\":{\"tracegroupgap\":0},\"margin\":{\"t\":60}},                        {\"responsive\": true}                    ).then(function(){\n",
       "                            \n",
       "var gd = document.getElementById('06089053-dfd1-4e92-9773-870b76d9cb2e');\n",
       "var x = new MutationObserver(function (mutations, observer) {{\n",
       "        var display = window.getComputedStyle(gd).display;\n",
       "        if (!display || display === 'none') {{\n",
       "            console.log([gd, 'removed!']);\n",
       "            Plotly.purge(gd);\n",
       "            observer.disconnect();\n",
       "        }}\n",
       "}});\n",
       "\n",
       "// Listen for the removal of the full notebook cells\n",
       "var notebookContainer = gd.closest('#notebook-container');\n",
       "if (notebookContainer) {{\n",
       "    x.observe(notebookContainer, {childList: true});\n",
       "}}\n",
       "\n",
       "// Listen for the clearing of the current output cell\n",
       "var outputEl = gd.closest('.output');\n",
       "if (outputEl) {{\n",
       "    x.observe(outputEl, {childList: true});\n",
       "}}\n",
       "\n",
       "                        })                };                });            </script>        </div>"
      ]
     },
     "metadata": {},
     "output_type": "display_data"
    }
   ],
   "source": [
    "px.pie(wage, names='total_quarter_2021')"
   ]
  },
  {
   "cell_type": "code",
   "execution_count": 106,
   "id": "c207a564",
   "metadata": {},
   "outputs": [],
   "source": [
    "#!pip install tabula-py\n",
    "import tabula"
   ]
  },
  {
   "cell_type": "code",
   "execution_count": 107,
   "id": "ca8d9f70",
   "metadata": {},
   "outputs": [
    {
     "ename": "FileNotFoundError",
     "evalue": "[Errno 2] No such file or directory: 'FIEC_statistical_report_ireland'",
     "output_type": "error",
     "traceback": [
      "\u001b[1;31m---------------------------------------------------------------------------\u001b[0m",
      "\u001b[1;31mFileNotFoundError\u001b[0m                         Traceback (most recent call last)",
      "\u001b[1;32m~\\AppData\\Local\\Temp\\ipykernel_31932\\2992833759.py\u001b[0m in \u001b[0;36m<module>\u001b[1;34m\u001b[0m\n\u001b[1;32m----> 1\u001b[1;33m \u001b[0mresult_ireland\u001b[0m \u001b[1;33m=\u001b[0m \u001b[0mtabula\u001b[0m\u001b[1;33m.\u001b[0m\u001b[0mread_pdf\u001b[0m\u001b[1;33m(\u001b[0m\u001b[1;34m'FIEC_statistical_report_ireland'\u001b[0m\u001b[1;33m)\u001b[0m\u001b[1;33m\u001b[0m\u001b[1;33m\u001b[0m\u001b[0m\n\u001b[0m",
      "\u001b[1;32m~\\anaconda3\\lib\\site-packages\\tabula\\io.py\u001b[0m in \u001b[0;36mread_pdf\u001b[1;34m(input_path, output_format, encoding, java_options, pandas_options, multiple_tables, user_agent, use_raw_url, pages, guess, area, relative_area, lattice, stream, password, silent, columns, relative_columns, format, batch, output_path, options)\u001b[0m\n\u001b[0;32m    417\u001b[0m \u001b[1;33m\u001b[0m\u001b[0m\n\u001b[0;32m    418\u001b[0m     \u001b[1;32mif\u001b[0m \u001b[1;32mnot\u001b[0m \u001b[0mos\u001b[0m\u001b[1;33m.\u001b[0m\u001b[0mpath\u001b[0m\u001b[1;33m.\u001b[0m\u001b[0mexists\u001b[0m\u001b[1;33m(\u001b[0m\u001b[0mpath\u001b[0m\u001b[1;33m)\u001b[0m\u001b[1;33m:\u001b[0m\u001b[1;33m\u001b[0m\u001b[1;33m\u001b[0m\u001b[0m\n\u001b[1;32m--> 419\u001b[1;33m         \u001b[1;32mraise\u001b[0m \u001b[0mFileNotFoundError\u001b[0m\u001b[1;33m(\u001b[0m\u001b[0merrno\u001b[0m\u001b[1;33m.\u001b[0m\u001b[0mENOENT\u001b[0m\u001b[1;33m,\u001b[0m \u001b[0mos\u001b[0m\u001b[1;33m.\u001b[0m\u001b[0mstrerror\u001b[0m\u001b[1;33m(\u001b[0m\u001b[0merrno\u001b[0m\u001b[1;33m.\u001b[0m\u001b[0mENOENT\u001b[0m\u001b[1;33m)\u001b[0m\u001b[1;33m,\u001b[0m \u001b[0mpath\u001b[0m\u001b[1;33m)\u001b[0m\u001b[1;33m\u001b[0m\u001b[1;33m\u001b[0m\u001b[0m\n\u001b[0m\u001b[0;32m    420\u001b[0m \u001b[1;33m\u001b[0m\u001b[0m\n\u001b[0;32m    421\u001b[0m     \u001b[1;32mif\u001b[0m \u001b[0mos\u001b[0m\u001b[1;33m.\u001b[0m\u001b[0mpath\u001b[0m\u001b[1;33m.\u001b[0m\u001b[0mgetsize\u001b[0m\u001b[1;33m(\u001b[0m\u001b[0mpath\u001b[0m\u001b[1;33m)\u001b[0m \u001b[1;33m==\u001b[0m \u001b[1;36m0\u001b[0m\u001b[1;33m:\u001b[0m\u001b[1;33m\u001b[0m\u001b[1;33m\u001b[0m\u001b[0m\n",
      "\u001b[1;31mFileNotFoundError\u001b[0m: [Errno 2] No such file or directory: 'FIEC_statistical_report_ireland'"
     ]
    }
   ],
   "source": [
    "result_ireland = tabula.read_pdf('FIEC_statistical_report_ireland')"
   ]
  },
  {
   "cell_type": "code",
   "execution_count": 36,
   "id": "4243757f",
   "metadata": {},
   "outputs": [
    {
     "data": {
      "text/html": [
       "<div>\n",
       "<style scoped>\n",
       "    .dataframe tbody tr th:only-of-type {\n",
       "        vertical-align: middle;\n",
       "    }\n",
       "\n",
       "    .dataframe tbody tr th {\n",
       "        vertical-align: top;\n",
       "    }\n",
       "\n",
       "    .dataframe thead th {\n",
       "        text-align: right;\n",
       "    }\n",
       "</style>\n",
       "<table border=\"1\" class=\"dataframe\">\n",
       "  <thead>\n",
       "    <tr style=\"text-align: right;\">\n",
       "      <th></th>\n",
       "      <th>Belgium</th>\n",
       "      <th>5.9</th>\n",
       "      <th>Unnamed: 2</th>\n",
       "      <th>5.4</th>\n",
       "      <th>Unnamed: 4</th>\n",
       "      <th>5.6</th>\n",
       "      <th>Unnamed: 6</th>\n",
       "      <th>5.2</th>\n",
       "      <th>Unnamed: 8</th>\n",
       "      <th>5.3</th>\n",
       "      <th>...</th>\n",
       "      <th>5.9.3</th>\n",
       "      <th>Unnamed: 48</th>\n",
       "      <th>6.1.2</th>\n",
       "      <th>Unnamed: 50</th>\n",
       "      <th>6.1.3</th>\n",
       "      <th>p</th>\n",
       "      <th>6.3.1</th>\n",
       "      <th>p.1</th>\n",
       "      <th>6.3.2</th>\n",
       "      <th>p.2</th>\n",
       "    </tr>\n",
       "  </thead>\n",
       "  <tbody>\n",
       "    <tr>\n",
       "      <th>18</th>\n",
       "      <td>Austria</td>\n",
       "      <td>6.5</td>\n",
       "      <td>NaN</td>\n",
       "      <td>6.5</td>\n",
       "      <td>NaN</td>\n",
       "      <td>6.3</td>\n",
       "      <td>NaN</td>\n",
       "      <td>6.0</td>\n",
       "      <td>NaN</td>\n",
       "      <td>5.7</td>\n",
       "      <td>...</td>\n",
       "      <td>4.5</td>\n",
       "      <td>NaN</td>\n",
       "      <td>4.7</td>\n",
       "      <td>NaN</td>\n",
       "      <td>5.0</td>\n",
       "      <td>NaN</td>\n",
       "      <td>5.3</td>\n",
       "      <td>NaN</td>\n",
       "      <td>5.2</td>\n",
       "      <td>NaN</td>\n",
       "    </tr>\n",
       "    <tr>\n",
       "      <th>19</th>\n",
       "      <td>Poland</td>\n",
       "      <td>2.1</td>\n",
       "      <td>NaN</td>\n",
       "      <td>2.1</td>\n",
       "      <td>NaN</td>\n",
       "      <td>2.4</td>\n",
       "      <td>NaN</td>\n",
       "      <td>2.6</td>\n",
       "      <td>NaN</td>\n",
       "      <td>2.8</td>\n",
       "      <td>...</td>\n",
       "      <td>2.0</td>\n",
       "      <td>NaN</td>\n",
       "      <td>2.1</td>\n",
       "      <td>NaN</td>\n",
       "      <td>2.2</td>\n",
       "      <td>NaN</td>\n",
       "      <td>2.3</td>\n",
       "      <td>NaN</td>\n",
       "      <td>2.2</td>\n",
       "      <td>NaN</td>\n",
       "    </tr>\n",
       "    <tr>\n",
       "      <th>20</th>\n",
       "      <td>Portugal</td>\n",
       "      <td>7.3</td>\n",
       "      <td>NaN</td>\n",
       "      <td>7.1</td>\n",
       "      <td>NaN</td>\n",
       "      <td>7.5</td>\n",
       "      <td>NaN</td>\n",
       "      <td>7.8</td>\n",
       "      <td>NaN</td>\n",
       "      <td>8.0</td>\n",
       "      <td>...</td>\n",
       "      <td>3.1</td>\n",
       "      <td>NaN</td>\n",
       "      <td>3.2</td>\n",
       "      <td>NaN</td>\n",
       "      <td>3.4</td>\n",
       "      <td>NaN</td>\n",
       "      <td>3.8</td>\n",
       "      <td>p</td>\n",
       "      <td>4.0</td>\n",
       "      <td>p</td>\n",
       "    </tr>\n",
       "    <tr>\n",
       "      <th>21</th>\n",
       "      <td>Romania</td>\n",
       "      <td>0.9</td>\n",
       "      <td>NaN</td>\n",
       "      <td>1.0</td>\n",
       "      <td>NaN</td>\n",
       "      <td>0.9</td>\n",
       "      <td>NaN</td>\n",
       "      <td>0.8</td>\n",
       "      <td>NaN</td>\n",
       "      <td>0.6</td>\n",
       "      <td>...</td>\n",
       "      <td>2.1</td>\n",
       "      <td>NaN</td>\n",
       "      <td>2.3</td>\n",
       "      <td>NaN</td>\n",
       "      <td>2.4</td>\n",
       "      <td>NaN</td>\n",
       "      <td>2.5</td>\n",
       "      <td>p</td>\n",
       "      <td>2.7</td>\n",
       "      <td>p</td>\n",
       "    </tr>\n",
       "    <tr>\n",
       "      <th>22</th>\n",
       "      <td>Slovenia</td>\n",
       "      <td>3.4</td>\n",
       "      <td>NaN</td>\n",
       "      <td>3.6</td>\n",
       "      <td>NaN</td>\n",
       "      <td>4.0</td>\n",
       "      <td>NaN</td>\n",
       "      <td>4.1</td>\n",
       "      <td>NaN</td>\n",
       "      <td>4.0</td>\n",
       "      <td>...</td>\n",
       "      <td>2.1</td>\n",
       "      <td>NaN</td>\n",
       "      <td>2.2</td>\n",
       "      <td>NaN</td>\n",
       "      <td>2.3</td>\n",
       "      <td>NaN</td>\n",
       "      <td>2.4</td>\n",
       "      <td>NaN</td>\n",
       "      <td>2.7</td>\n",
       "      <td>NaN</td>\n",
       "    </tr>\n",
       "    <tr>\n",
       "      <th>23</th>\n",
       "      <td>Slovakia</td>\n",
       "      <td>0.8</td>\n",
       "      <td>NaN</td>\n",
       "      <td>1.2</td>\n",
       "      <td>NaN</td>\n",
       "      <td>1.6</td>\n",
       "      <td>NaN</td>\n",
       "      <td>2.9</td>\n",
       "      <td>NaN</td>\n",
       "      <td>3.9</td>\n",
       "      <td>...</td>\n",
       "      <td>3.3</td>\n",
       "      <td>NaN</td>\n",
       "      <td>3.3</td>\n",
       "      <td>NaN</td>\n",
       "      <td>3.8</td>\n",
       "      <td>NaN</td>\n",
       "      <td>4.0</td>\n",
       "      <td>NaN</td>\n",
       "      <td>4.3</td>\n",
       "      <td>NaN</td>\n",
       "    </tr>\n",
       "    <tr>\n",
       "      <th>24</th>\n",
       "      <td>Finland</td>\n",
       "      <td>4.5</td>\n",
       "      <td>NaN</td>\n",
       "      <td>4.4</td>\n",
       "      <td>NaN</td>\n",
       "      <td>4.9</td>\n",
       "      <td>NaN</td>\n",
       "      <td>5.3</td>\n",
       "      <td>NaN</td>\n",
       "      <td>5.7</td>\n",
       "      <td>...</td>\n",
       "      <td>7.2</td>\n",
       "      <td>NaN</td>\n",
       "      <td>7.0</td>\n",
       "      <td>NaN</td>\n",
       "      <td>7.0</td>\n",
       "      <td>NaN</td>\n",
       "      <td>7.0</td>\n",
       "      <td>NaN</td>\n",
       "      <td>7.4</td>\n",
       "      <td>NaN</td>\n",
       "    </tr>\n",
       "    <tr>\n",
       "      <th>25</th>\n",
       "      <td>Sweden</td>\n",
       "      <td>1.8</td>\n",
       "      <td>NaN</td>\n",
       "      <td>1.9</td>\n",
       "      <td>NaN</td>\n",
       "      <td>1.7</td>\n",
       "      <td>NaN</td>\n",
       "      <td>1.9</td>\n",
       "      <td>NaN</td>\n",
       "      <td>2.0</td>\n",
       "      <td>...</td>\n",
       "      <td>5.2</td>\n",
       "      <td>NaN</td>\n",
       "      <td>4.7</td>\n",
       "      <td>NaN</td>\n",
       "      <td>4.9</td>\n",
       "      <td>NaN</td>\n",
       "      <td>5.2</td>\n",
       "      <td>NaN</td>\n",
       "      <td>5.2</td>\n",
       "      <td>NaN</td>\n",
       "    </tr>\n",
       "    <tr>\n",
       "      <th>26</th>\n",
       "      <td>NaN</td>\n",
       "      <td>NaN</td>\n",
       "      <td>NaN</td>\n",
       "      <td>NaN</td>\n",
       "      <td>NaN</td>\n",
       "      <td>NaN</td>\n",
       "      <td>NaN</td>\n",
       "      <td>NaN</td>\n",
       "      <td>NaN</td>\n",
       "      <td>NaN</td>\n",
       "      <td>...</td>\n",
       "      <td>NaN</td>\n",
       "      <td>NaN</td>\n",
       "      <td>NaN</td>\n",
       "      <td>NaN</td>\n",
       "      <td>NaN</td>\n",
       "      <td>NaN</td>\n",
       "      <td>NaN</td>\n",
       "      <td>NaN</td>\n",
       "      <td>NaN</td>\n",
       "      <td>NaN</td>\n",
       "    </tr>\n",
       "    <tr>\n",
       "      <th>27</th>\n",
       "      <td>Special value</td>\n",
       "      <td>NaN</td>\n",
       "      <td>NaN</td>\n",
       "      <td>NaN</td>\n",
       "      <td>NaN</td>\n",
       "      <td>NaN</td>\n",
       "      <td>NaN</td>\n",
       "      <td>NaN</td>\n",
       "      <td>NaN</td>\n",
       "      <td>NaN</td>\n",
       "      <td>...</td>\n",
       "      <td>NaN</td>\n",
       "      <td>NaN</td>\n",
       "      <td>NaN</td>\n",
       "      <td>NaN</td>\n",
       "      <td>NaN</td>\n",
       "      <td>NaN</td>\n",
       "      <td>NaN</td>\n",
       "      <td>NaN</td>\n",
       "      <td>NaN</td>\n",
       "      <td>NaN</td>\n",
       "    </tr>\n",
       "    <tr>\n",
       "      <th>28</th>\n",
       "      <td>:</td>\n",
       "      <td>not available</td>\n",
       "      <td>NaN</td>\n",
       "      <td>NaN</td>\n",
       "      <td>NaN</td>\n",
       "      <td>NaN</td>\n",
       "      <td>NaN</td>\n",
       "      <td>NaN</td>\n",
       "      <td>NaN</td>\n",
       "      <td>NaN</td>\n",
       "      <td>...</td>\n",
       "      <td>NaN</td>\n",
       "      <td>NaN</td>\n",
       "      <td>NaN</td>\n",
       "      <td>NaN</td>\n",
       "      <td>NaN</td>\n",
       "      <td>NaN</td>\n",
       "      <td>NaN</td>\n",
       "      <td>NaN</td>\n",
       "      <td>NaN</td>\n",
       "      <td>NaN</td>\n",
       "    </tr>\n",
       "    <tr>\n",
       "      <th>29</th>\n",
       "      <td>Available flags:</td>\n",
       "      <td>NaN</td>\n",
       "      <td>NaN</td>\n",
       "      <td>NaN</td>\n",
       "      <td>NaN</td>\n",
       "      <td>NaN</td>\n",
       "      <td>NaN</td>\n",
       "      <td>NaN</td>\n",
       "      <td>NaN</td>\n",
       "      <td>NaN</td>\n",
       "      <td>...</td>\n",
       "      <td>NaN</td>\n",
       "      <td>NaN</td>\n",
       "      <td>NaN</td>\n",
       "      <td>NaN</td>\n",
       "      <td>NaN</td>\n",
       "      <td>NaN</td>\n",
       "      <td>NaN</td>\n",
       "      <td>NaN</td>\n",
       "      <td>NaN</td>\n",
       "      <td>NaN</td>\n",
       "    </tr>\n",
       "    <tr>\n",
       "      <th>30</th>\n",
       "      <td>b</td>\n",
       "      <td>break in time series</td>\n",
       "      <td>NaN</td>\n",
       "      <td>NaN</td>\n",
       "      <td>NaN</td>\n",
       "      <td>NaN</td>\n",
       "      <td>NaN</td>\n",
       "      <td>NaN</td>\n",
       "      <td>NaN</td>\n",
       "      <td>NaN</td>\n",
       "      <td>...</td>\n",
       "      <td>NaN</td>\n",
       "      <td>NaN</td>\n",
       "      <td>NaN</td>\n",
       "      <td>NaN</td>\n",
       "      <td>NaN</td>\n",
       "      <td>NaN</td>\n",
       "      <td>NaN</td>\n",
       "      <td>NaN</td>\n",
       "      <td>NaN</td>\n",
       "      <td>NaN</td>\n",
       "    </tr>\n",
       "    <tr>\n",
       "      <th>31</th>\n",
       "      <td>p</td>\n",
       "      <td>provisional</td>\n",
       "      <td>NaN</td>\n",
       "      <td>NaN</td>\n",
       "      <td>NaN</td>\n",
       "      <td>NaN</td>\n",
       "      <td>NaN</td>\n",
       "      <td>NaN</td>\n",
       "      <td>NaN</td>\n",
       "      <td>NaN</td>\n",
       "      <td>...</td>\n",
       "      <td>NaN</td>\n",
       "      <td>NaN</td>\n",
       "      <td>NaN</td>\n",
       "      <td>NaN</td>\n",
       "      <td>NaN</td>\n",
       "      <td>NaN</td>\n",
       "      <td>NaN</td>\n",
       "      <td>NaN</td>\n",
       "      <td>NaN</td>\n",
       "      <td>NaN</td>\n",
       "    </tr>\n",
       "  </tbody>\n",
       "</table>\n",
       "<p>14 rows × 57 columns</p>\n",
       "</div>"
      ],
      "text/plain": [
       "             Belgium                   5.9  Unnamed: 2  5.4  Unnamed: 4  5.6  \\\n",
       "18           Austria                   6.5         NaN  6.5         NaN  6.3   \n",
       "19            Poland                   2.1         NaN  2.1         NaN  2.4   \n",
       "20          Portugal                   7.3         NaN  7.1         NaN  7.5   \n",
       "21           Romania                   0.9         NaN  1.0         NaN  0.9   \n",
       "22          Slovenia                   3.4         NaN  3.6         NaN  4.0   \n",
       "23          Slovakia                   0.8         NaN  1.2         NaN  1.6   \n",
       "24           Finland                   4.5         NaN  4.4         NaN  4.9   \n",
       "25            Sweden                   1.8         NaN  1.9         NaN  1.7   \n",
       "26               NaN                   NaN         NaN  NaN         NaN  NaN   \n",
       "27     Special value                   NaN         NaN  NaN         NaN  NaN   \n",
       "28                 :         not available         NaN  NaN         NaN  NaN   \n",
       "29  Available flags:                   NaN         NaN  NaN         NaN  NaN   \n",
       "30                 b  break in time series         NaN  NaN         NaN  NaN   \n",
       "31                 p           provisional         NaN  NaN         NaN  NaN   \n",
       "\n",
       "    Unnamed: 6  5.2  Unnamed: 8  5.3  ...  5.9.3  Unnamed: 48  6.1.2  \\\n",
       "18         NaN  6.0         NaN  5.7  ...    4.5          NaN    4.7   \n",
       "19         NaN  2.6         NaN  2.8  ...    2.0          NaN    2.1   \n",
       "20         NaN  7.8         NaN  8.0  ...    3.1          NaN    3.2   \n",
       "21         NaN  0.8         NaN  0.6  ...    2.1          NaN    2.3   \n",
       "22         NaN  4.1         NaN  4.0  ...    2.1          NaN    2.2   \n",
       "23         NaN  2.9         NaN  3.9  ...    3.3          NaN    3.3   \n",
       "24         NaN  5.3         NaN  5.7  ...    7.2          NaN    7.0   \n",
       "25         NaN  1.9         NaN  2.0  ...    5.2          NaN    4.7   \n",
       "26         NaN  NaN         NaN  NaN  ...    NaN          NaN    NaN   \n",
       "27         NaN  NaN         NaN  NaN  ...    NaN          NaN    NaN   \n",
       "28         NaN  NaN         NaN  NaN  ...    NaN          NaN    NaN   \n",
       "29         NaN  NaN         NaN  NaN  ...    NaN          NaN    NaN   \n",
       "30         NaN  NaN         NaN  NaN  ...    NaN          NaN    NaN   \n",
       "31         NaN  NaN         NaN  NaN  ...    NaN          NaN    NaN   \n",
       "\n",
       "    Unnamed: 50  6.1.3    p  6.3.1  p.1  6.3.2  p.2  \n",
       "18          NaN    5.0  NaN    5.3  NaN    5.2  NaN  \n",
       "19          NaN    2.2  NaN    2.3  NaN    2.2  NaN  \n",
       "20          NaN    3.4  NaN    3.8    p    4.0    p  \n",
       "21          NaN    2.4  NaN    2.5    p    2.7    p  \n",
       "22          NaN    2.3  NaN    2.4  NaN    2.7  NaN  \n",
       "23          NaN    3.8  NaN    4.0  NaN    4.3  NaN  \n",
       "24          NaN    7.0  NaN    7.0  NaN    7.4  NaN  \n",
       "25          NaN    4.9  NaN    5.2  NaN    5.2  NaN  \n",
       "26          NaN    NaN  NaN    NaN  NaN    NaN  NaN  \n",
       "27          NaN    NaN  NaN    NaN  NaN    NaN  NaN  \n",
       "28          NaN    NaN  NaN    NaN  NaN    NaN  NaN  \n",
       "29          NaN    NaN  NaN    NaN  NaN    NaN  NaN  \n",
       "30          NaN    NaN  NaN    NaN  NaN    NaN  NaN  \n",
       "31          NaN    NaN  NaN    NaN  NaN    NaN  NaN  \n",
       "\n",
       "[14 rows x 57 columns]"
      ]
     },
     "execution_count": 36,
     "metadata": {},
     "output_type": "execute_result"
    }
   ],
   "source": [
    "residencial.tail(14)"
   ]
  },
  {
   "cell_type": "code",
   "execution_count": null,
   "id": "0d7ef7f3",
   "metadata": {},
   "outputs": [],
   "source": []
  },
  {
   "cell_type": "code",
   "execution_count": null,
   "id": "98485364",
   "metadata": {},
   "outputs": [],
   "source": []
  },
  {
   "cell_type": "code",
   "execution_count": 37,
   "id": "fdb5e099",
   "metadata": {},
   "outputs": [
    {
     "ename": "KeyError",
     "evalue": "'Quarter1_2021'",
     "output_type": "error",
     "traceback": [
      "\u001b[1;31m---------------------------------------------------------------------------\u001b[0m",
      "\u001b[1;31mKeyError\u001b[0m                                  Traceback (most recent call last)",
      "\u001b[1;32m~\\anaconda3\\lib\\site-packages\\pandas\\core\\indexes\\base.py\u001b[0m in \u001b[0;36mget_loc\u001b[1;34m(self, key, method, tolerance)\u001b[0m\n\u001b[0;32m   3801\u001b[0m             \u001b[1;32mtry\u001b[0m\u001b[1;33m:\u001b[0m\u001b[1;33m\u001b[0m\u001b[1;33m\u001b[0m\u001b[0m\n\u001b[1;32m-> 3802\u001b[1;33m                 \u001b[1;32mreturn\u001b[0m \u001b[0mself\u001b[0m\u001b[1;33m.\u001b[0m\u001b[0m_engine\u001b[0m\u001b[1;33m.\u001b[0m\u001b[0mget_loc\u001b[0m\u001b[1;33m(\u001b[0m\u001b[0mcasted_key\u001b[0m\u001b[1;33m)\u001b[0m\u001b[1;33m\u001b[0m\u001b[1;33m\u001b[0m\u001b[0m\n\u001b[0m\u001b[0;32m   3803\u001b[0m             \u001b[1;32mexcept\u001b[0m \u001b[0mKeyError\u001b[0m \u001b[1;32mas\u001b[0m \u001b[0merr\u001b[0m\u001b[1;33m:\u001b[0m\u001b[1;33m\u001b[0m\u001b[1;33m\u001b[0m\u001b[0m\n",
      "\u001b[1;32m~\\anaconda3\\lib\\site-packages\\pandas\\_libs\\index.pyx\u001b[0m in \u001b[0;36mpandas._libs.index.IndexEngine.get_loc\u001b[1;34m()\u001b[0m\n",
      "\u001b[1;32m~\\anaconda3\\lib\\site-packages\\pandas\\_libs\\index.pyx\u001b[0m in \u001b[0;36mpandas._libs.index.IndexEngine.get_loc\u001b[1;34m()\u001b[0m\n",
      "\u001b[1;32mpandas\\_libs\\hashtable_class_helper.pxi\u001b[0m in \u001b[0;36mpandas._libs.hashtable.PyObjectHashTable.get_item\u001b[1;34m()\u001b[0m\n",
      "\u001b[1;32mpandas\\_libs\\hashtable_class_helper.pxi\u001b[0m in \u001b[0;36mpandas._libs.hashtable.PyObjectHashTable.get_item\u001b[1;34m()\u001b[0m\n",
      "\u001b[1;31mKeyError\u001b[0m: 'Quarter1_2021'",
      "\nThe above exception was the direct cause of the following exception:\n",
      "\u001b[1;31mKeyError\u001b[0m                                  Traceback (most recent call last)",
      "\u001b[1;32m~\\AppData\\Local\\Temp\\ipykernel_31932\\4222717155.py\u001b[0m in \u001b[0;36m<module>\u001b[1;34m\u001b[0m\n\u001b[1;32m----> 1\u001b[1;33m \u001b[0mireland\u001b[0m\u001b[1;33m[\u001b[0m\u001b[1;34m'total'\u001b[0m\u001b[1;33m]\u001b[0m \u001b[1;33m=\u001b[0m \u001b[0mireland\u001b[0m\u001b[1;33m[\u001b[0m\u001b[1;34m'Quarter1_2021'\u001b[0m\u001b[1;33m]\u001b[0m \u001b[1;33m*\u001b[0m \u001b[0mireland\u001b[0m\u001b[1;33m[\u001b[0m\u001b[1;34m'Quarter2_2021'\u001b[0m\u001b[1;33m]\u001b[0m\u001b[1;33m\u001b[0m\u001b[1;33m\u001b[0m\u001b[0m\n\u001b[0m",
      "\u001b[1;32m~\\anaconda3\\lib\\site-packages\\pandas\\core\\frame.py\u001b[0m in \u001b[0;36m__getitem__\u001b[1;34m(self, key)\u001b[0m\n\u001b[0;32m   3805\u001b[0m             \u001b[1;32mif\u001b[0m \u001b[0mself\u001b[0m\u001b[1;33m.\u001b[0m\u001b[0mcolumns\u001b[0m\u001b[1;33m.\u001b[0m\u001b[0mnlevels\u001b[0m \u001b[1;33m>\u001b[0m \u001b[1;36m1\u001b[0m\u001b[1;33m:\u001b[0m\u001b[1;33m\u001b[0m\u001b[1;33m\u001b[0m\u001b[0m\n\u001b[0;32m   3806\u001b[0m                 \u001b[1;32mreturn\u001b[0m \u001b[0mself\u001b[0m\u001b[1;33m.\u001b[0m\u001b[0m_getitem_multilevel\u001b[0m\u001b[1;33m(\u001b[0m\u001b[0mkey\u001b[0m\u001b[1;33m)\u001b[0m\u001b[1;33m\u001b[0m\u001b[1;33m\u001b[0m\u001b[0m\n\u001b[1;32m-> 3807\u001b[1;33m             \u001b[0mindexer\u001b[0m \u001b[1;33m=\u001b[0m \u001b[0mself\u001b[0m\u001b[1;33m.\u001b[0m\u001b[0mcolumns\u001b[0m\u001b[1;33m.\u001b[0m\u001b[0mget_loc\u001b[0m\u001b[1;33m(\u001b[0m\u001b[0mkey\u001b[0m\u001b[1;33m)\u001b[0m\u001b[1;33m\u001b[0m\u001b[1;33m\u001b[0m\u001b[0m\n\u001b[0m\u001b[0;32m   3808\u001b[0m             \u001b[1;32mif\u001b[0m \u001b[0mis_integer\u001b[0m\u001b[1;33m(\u001b[0m\u001b[0mindexer\u001b[0m\u001b[1;33m)\u001b[0m\u001b[1;33m:\u001b[0m\u001b[1;33m\u001b[0m\u001b[1;33m\u001b[0m\u001b[0m\n\u001b[0;32m   3809\u001b[0m                 \u001b[0mindexer\u001b[0m \u001b[1;33m=\u001b[0m \u001b[1;33m[\u001b[0m\u001b[0mindexer\u001b[0m\u001b[1;33m]\u001b[0m\u001b[1;33m\u001b[0m\u001b[1;33m\u001b[0m\u001b[0m\n",
      "\u001b[1;32m~\\anaconda3\\lib\\site-packages\\pandas\\core\\indexes\\base.py\u001b[0m in \u001b[0;36mget_loc\u001b[1;34m(self, key, method, tolerance)\u001b[0m\n\u001b[0;32m   3802\u001b[0m                 \u001b[1;32mreturn\u001b[0m \u001b[0mself\u001b[0m\u001b[1;33m.\u001b[0m\u001b[0m_engine\u001b[0m\u001b[1;33m.\u001b[0m\u001b[0mget_loc\u001b[0m\u001b[1;33m(\u001b[0m\u001b[0mcasted_key\u001b[0m\u001b[1;33m)\u001b[0m\u001b[1;33m\u001b[0m\u001b[1;33m\u001b[0m\u001b[0m\n\u001b[0;32m   3803\u001b[0m             \u001b[1;32mexcept\u001b[0m \u001b[0mKeyError\u001b[0m \u001b[1;32mas\u001b[0m \u001b[0merr\u001b[0m\u001b[1;33m:\u001b[0m\u001b[1;33m\u001b[0m\u001b[1;33m\u001b[0m\u001b[0m\n\u001b[1;32m-> 3804\u001b[1;33m                 \u001b[1;32mraise\u001b[0m \u001b[0mKeyError\u001b[0m\u001b[1;33m(\u001b[0m\u001b[0mkey\u001b[0m\u001b[1;33m)\u001b[0m \u001b[1;32mfrom\u001b[0m \u001b[0merr\u001b[0m\u001b[1;33m\u001b[0m\u001b[1;33m\u001b[0m\u001b[0m\n\u001b[0m\u001b[0;32m   3805\u001b[0m             \u001b[1;32mexcept\u001b[0m \u001b[0mTypeError\u001b[0m\u001b[1;33m:\u001b[0m\u001b[1;33m\u001b[0m\u001b[1;33m\u001b[0m\u001b[0m\n\u001b[0;32m   3806\u001b[0m                 \u001b[1;31m# If we have a listlike key, _check_indexing_error will raise\u001b[0m\u001b[1;33m\u001b[0m\u001b[1;33m\u001b[0m\u001b[0m\n",
      "\u001b[1;31mKeyError\u001b[0m: 'Quarter1_2021'"
     ]
    }
   ],
   "source": [
    "ireland['total'] = ireland['Quarter1_2021'] * ireland['Quarter2_2021']"
   ]
  },
  {
   "cell_type": "code",
   "execution_count": null,
   "id": "79f32596",
   "metadata": {},
   "outputs": [],
   "source": [
    "ireland.info()"
   ]
  },
  {
   "cell_type": "code",
   "execution_count": null,
   "id": "4d3f1545",
   "metadata": {},
   "outputs": [],
   "source": [
    "#! pip install python-docx"
   ]
  },
  {
   "cell_type": "code",
   "execution_count": null,
   "id": "95327b02",
   "metadata": {},
   "outputs": [],
   "source": [
    "from docx import word"
   ]
  },
  {
   "cell_type": "code",
   "execution_count": null,
   "id": "b0e25b93",
   "metadata": {},
   "outputs": [],
   "source": [
    "import plotly.express as px"
   ]
  },
  {
   "cell_type": "code",
   "execution_count": null,
   "id": "ad35263d",
   "metadata": {},
   "outputs": [],
   "source": [
    "graphic=px.histogram(wage, x='Country', y='2021-Q1')\n",
    "graphic.show()"
   ]
  },
  {
   "cell_type": "code",
   "execution_count": null,
   "id": "1d2d1bc0",
   "metadata": {},
   "outputs": [],
   "source": [
    "Country = {Germany (until 1990 former territory of the FRG): 'Germany',}\n"
   ]
  },
  {
   "cell_type": "code",
   "execution_count": null,
   "id": "fded7aa9",
   "metadata": {},
   "outputs": [],
   "source": []
  },
  {
   "cell_type": "code",
   "execution_count": null,
   "id": "b7a9dec0",
   "metadata": {},
   "outputs": [],
   "source": []
  },
  {
   "cell_type": "code",
   "execution_count": null,
   "id": "f699464a",
   "metadata": {},
   "outputs": [],
   "source": []
  },
  {
   "cell_type": "code",
   "execution_count": null,
   "id": "ea76655c",
   "metadata": {},
   "outputs": [],
   "source": []
  }
 ],
 "metadata": {
  "kernelspec": {
   "display_name": "Python 3 (ipykernel)",
   "language": "python",
   "name": "python3"
  },
  "language_info": {
   "codemirror_mode": {
    "name": "ipython",
    "version": 3
   },
   "file_extension": ".py",
   "mimetype": "text/x-python",
   "name": "python",
   "nbconvert_exporter": "python",
   "pygments_lexer": "ipython3",
   "version": "3.9.13"
  }
 },
 "nbformat": 4,
 "nbformat_minor": 5
}
